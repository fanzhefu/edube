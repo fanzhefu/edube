{
 "cells": [
  {
   "cell_type": "markdown",
   "id": "c477eadc",
   "metadata": {},
   "source": [
    "# PCPP1: Advanced Perspective of Classes and Object-Oriented Programming\n",
    "\n",
    "- Classes, instances, attributes, methods, as well as working with class and instance data;\n",
    "- shallow and deep operations;\n",
    "- abstract classes, method overriding, static and class methods, special methods;\n",
    "- inheritance, polymorphism, subclasses, and encapsulation;\n",
    "- advanced exception handling techniques;\n",
    "the pickle and shelve modules;\n",
    "- metaclasses.\n"
   ]
  },
  {
   "cell_type": "markdown",
   "id": "d3ef36e1",
   "metadata": {},
   "source": [
    "- class — an idea, blueprint, or recipe for an instance;\n",
    "- instance — an instantiation of the class; very often used interchangeably with the term 'object';\n",
    "- object — Python's representation of data and methods; objects could be aggregates of instances;\n",
    "- attribute — any object or class trait; could be a variable or method;\n",
    "- method — a function built into a class that is executed on behalf of the class or object; some say that it’s a 'callable attribute';\n",
    "- type — refers to the class that was used to instantiate the object.\n"
   ]
  },
  {
   "cell_type": "markdown",
   "id": "b4107bef",
   "metadata": {},
   "source": [
    "The following issues will be addressed during this and the next module:\n",
    "\n",
    "- creation and use of decorators;\n",
    "- implementation of core syntax;\n",
    "- class and static methods;\n",
    "- abstract methods;\n",
    "- comparison of inheritance and composition;\n",
    "- attribute encapsulation;\n",
    "- exception chaining;\n",
    "- object persistence;\n",
    "- metaprogramming.\n"
   ]
  },
  {
   "cell_type": "code",
   "execution_count": 17,
   "id": "c478bb95",
   "metadata": {},
   "outputs": [
    {
     "name": "stdout",
     "output_type": "stream",
     "text": [
      "Quack\n"
     ]
    }
   ],
   "source": [
    "class Duck:\n",
    "    def __init__(self, height, weight, sex):\n",
    "        self.height = height\n",
    "        self.weight = weight\n",
    "        self.sex = sex\n",
    "\n",
    "    def walk(self):\n",
    "        pass\n",
    "\n",
    "    def quack(self):\n",
    "        return print('Quack')\n",
    "    \n",
    "canard = Duck(3,2,1)\n",
    "canard.quack()"
   ]
  },
  {
   "cell_type": "code",
   "execution_count": 34,
   "id": "5a4c480d",
   "metadata": {},
   "outputs": [
    {
     "name": "stdout",
     "output_type": "stream",
     "text": [
      "Quack\n",
      "10\n"
     ]
    }
   ],
   "source": [
    "# variables: self.height, self.weight, self.sex — containing different values for each object;\n",
    "# methods: __init__, walk, quack — common to all objects so far.\n",
    "class Duck:\n",
    "    def __init__(self, height, weight, sex):\n",
    "        self.height = height\n",
    "        self.weight = weight\n",
    "        self.sex = sex\n",
    "\n",
    "    def walk(self):\n",
    "        pass\n",
    "\n",
    "    def quack(self):\n",
    "        return print('Quack')\n",
    "\n",
    "duckling = Duck(sex=\"male\",height=10, weight=3.4)\n",
    "drake = Duck(height=25, weight=3.7, sex=\"male\")\n",
    "hen = Duck(height=20, weight=3.4, sex=\"female\")\n",
    "#my test \n",
    "hen.height, duckling.sex, drake.weight\n",
    "# hen.height=1\n",
    "hen.height, duckling.sex, drake.weight\n",
    "\n",
    "drake.quack()\n",
    "print(duckling.height)\n"
   ]
  },
  {
   "cell_type": "code",
   "execution_count": 38,
   "id": "232142ee",
   "metadata": {},
   "outputs": [
    {
     "name": "stdout",
     "output_type": "stream",
     "text": [
      "<class 'type'>\n",
      "<class '__main__.Duck'>\n",
      "<class 'str'>\n",
      "<class 'method'>\n"
     ]
    },
    {
     "data": {
      "text/plain": [
       "\"As we predicted:\\n\\nthe Duck class is of the 'type' type;\\nthe duckling object is an instance type built on the basis of the Duck class, and residing in the __main__ scope;\\nthe duckling.sex is an attribute of the 'str' type;\\nduckling.quack is an attribute of the 'method' type.\\n\""
      ]
     },
     "execution_count": 38,
     "metadata": {},
     "output_type": "execute_result"
    }
   ],
   "source": [
    "class Duck:\n",
    "    def __init__(self, height, weight, sex):\n",
    "        self.height = height\n",
    "        self.weight = weight\n",
    "        self.sex = sex\n",
    "\n",
    "    def walk(self):\n",
    "        pass\n",
    "\n",
    "    def quack(self):\n",
    "        return print('Quack')\n",
    "\n",
    "duckling = Duck(height=10, weight=3.4, sex=\"male\")\n",
    "drake = Duck(height=25, weight=3.7, sex=\"male\")\n",
    "hen = Duck(height=20, weight=3.4, sex=\"female\")\n",
    "'''Information about an object’s class is contained in __class__.\n",
    "If you run the code presented in the right pane, you'll get the type details of different objects.'''\n",
    "print(Duck.__class__)\n",
    "print(duckling.__class__)\n",
    "print(duckling.sex.__class__)\n",
    "print(duckling.quack.__class__)\n",
    "'''As we predicted:\n",
    "\n",
    "the Duck class is of the 'type' type;\n",
    "the duckling object is an instance type built on the basis of the Duck class, and residing in the __main__ scope;\n",
    "the duckling.sex is an attribute of the 'str' type;\n",
    "duckling.quack is an attribute of the 'method' type.\n",
    "'''"
   ]
  },
  {
   "cell_type": "code",
   "execution_count": 54,
   "id": "eac8f2e4",
   "metadata": {},
   "outputs": [
    {
     "name": "stdout",
     "output_type": "stream",
     "text": [
      "mobile phone 01632-960004 is turned on\n",
      "mobile phone 01632-960012 is turned on\n",
      "calling 555-34343\n",
      "mobile phone  01632-960004 is turned off\n",
      "mobile phone  01632-960012 is turned off\n"
     ]
    }
   ],
   "source": [
    "#https://edube.org/learn/python-advanced-1/classes-instances-attributes-methods-the-lab\n",
    "class mobile:\n",
    "    def __init__(self, number):\n",
    "        self.__number = number\n",
    "\n",
    "    def turn_on(self):\n",
    "        print(\"mobile phone\", self.__number, \"is turned on\")\n",
    "        \n",
    "    def turn_off(self):\n",
    "        print(\"mobile phone \", self.__number, \"is turned off\")\n",
    "        \n",
    "    def call(self,number):\n",
    "        print(\"calling\", number)\n",
    "\n",
    "\n",
    "phone1 = mobile('01632-960004')\n",
    "phone2 = mobile('01632-960012')\n",
    "\n",
    "\n",
    "phone1.turn_on()\n",
    "phone2.turn_on()\n",
    "phone1.call('555-34343')\n",
    "phone1.turn_off()\n",
    "phone2.turn_off()\n"
   ]
  },
  {
   "cell_type": "markdown",
   "id": "1e26c324",
   "metadata": {},
   "source": [
    "# Instance variables\n",
    "This kind of variable exists when and only when it is explicitly created and added to an object. This can be done during the object's initialization, performed by the __init__ method, or later at any moment of the object's life. Furthermore, any existing property can be removed at any time."
   ]
  },
  {
   "cell_type": "code",
   "execution_count": 56,
   "id": "1fb28761",
   "metadata": {},
   "outputs": [
    {
     "name": "stdout",
     "output_type": "stream",
     "text": [
      "d1's instance variable is equal to: 100\n",
      "d2's instance variable is equal to: 200\n"
     ]
    }
   ],
   "source": [
    "#Instance variables\n",
    "\n",
    "class Demo:\n",
    "    def __init__(self, value):\n",
    "        self.instance_var = value\n",
    "\n",
    "d1 = Demo(100)\n",
    "d2 = Demo(200)\n",
    "\n",
    "print(\"d1's instance variable is equal to:\", d1.instance_var)\n",
    "print(\"d2's instance variable is equal to:\", d2.instance_var)\n"
   ]
  },
  {
   "cell_type": "code",
   "execution_count": 55,
   "id": "d4969bc7",
   "metadata": {},
   "outputs": [
    {
     "name": "stdout",
     "output_type": "stream",
     "text": [
      "contents of d1: {'instance_var': 100, 'another_var': 'another variable in the object'}\n",
      "contents of d2: {'instance_var': 200}\n"
     ]
    }
   ],
   "source": [
    "class Demo:\n",
    "    def __init__(self, value):\n",
    "        self.instance_var = value\n",
    "\n",
    "d1 = Demo(100)\n",
    "d2 = Demo(200)\n",
    "\n",
    "d1.another_var = 'another variable in the object'\n",
    "\n",
    "print('contents of d1:', d1.__dict__)\n",
    "print('contents of d2:', d2.__dict__)\n"
   ]
  },
  {
   "cell_type": "markdown",
   "id": "81b3b7e5",
   "metadata": {},
   "source": [
    "# Class variables\n",
    "Class variables are defined within the class construction, so these variables are available before any class instance is created. To get access to a class variable, simply access it using the class name, and then provide the variable name."
   ]
  },
  {
   "cell_type": "code",
   "execution_count": 58,
   "id": "0b3ac132",
   "metadata": {},
   "outputs": [
    {
     "name": "stdout",
     "output_type": "stream",
     "text": [
      "shared variable\n",
      "{'__module__': '__main__', 'class_var': 'shared variable', '__dict__': <attribute '__dict__' of 'Demo' objects>, '__weakref__': <attribute '__weakref__' of 'Demo' objects>, '__doc__': None}\n"
     ]
    }
   ],
   "source": [
    "#Class variables\n",
    "class Demo:\n",
    "    class_var = 'shared variable'\n",
    "\n",
    "print(Demo.class_var)\n",
    "print(Demo.__dict__)\n"
   ]
  },
  {
   "cell_type": "code",
   "execution_count": 63,
   "id": "65ea5bd4",
   "metadata": {},
   "outputs": [
    {
     "name": "stdout",
     "output_type": "stream",
     "text": [
      "shared variable\n",
      "shared variable\n",
      "shared variable\n",
      "contents of d1: {}\n"
     ]
    },
    {
     "data": {
      "text/plain": [
       "\"as the class variable is defined outside the object, it is not listed in the object's __dict__.\\nConclusion: when you want to read the class variable value, you can use a class or class instance to access it.\\n\""
      ]
     },
     "execution_count": 63,
     "metadata": {},
     "output_type": "execute_result"
    }
   ],
   "source": [
    "class Demo:\n",
    "    class_var = 'shared variable'\n",
    "\n",
    "d1 = Demo()\n",
    "d2 = Demo()\n",
    "\n",
    "print(Demo.class_var)\n",
    "print(d1.class_var)\n",
    "print(d2.class_var)\n",
    "\n",
    "print('contents of d1:', d1.__dict__)\n",
    "'''as the class variable is defined outside the object, it is not listed in the object's __dict__.\n",
    "Conclusion: when you want to read the class variable value, you can use a class or class instance to access it.\n",
    "'''"
   ]
  },
  {
   "cell_type": "code",
   "execution_count": 65,
   "id": "9e0b9dbb",
   "metadata": {},
   "outputs": [
    {
     "name": "stdout",
     "output_type": "stream",
     "text": [
      "shared variable\n",
      "shared variable\n",
      "....................\n",
      "contents of d1: {}\n",
      "....................\n",
      "contents of d1: {'class_var': \"I'm messing with the class variable\"}\n",
      "I'm messing with the class variable\n",
      "....................\n",
      "contents of d2: {}\n",
      "contents of class variable accessed via d2: shared variable\n"
     ]
    },
    {
     "data": {
      "text/plain": [
       "'When you want to set or change a value of the class variable, you should access it via the class, but not the class instance, as you can do for reading.'"
      ]
     },
     "execution_count": 65,
     "metadata": {},
     "output_type": "execute_result"
    }
   ],
   "source": [
    "class Demo:\n",
    "    class_var = 'shared variable'\n",
    "\n",
    "d1 = Demo()\n",
    "d2 = Demo()\n",
    "\n",
    "# both instances allow access to the class variable\n",
    "print(d1.class_var)\n",
    "print(d2.class_var)\n",
    "print('.' * 20)\n",
    "\n",
    "# d1 object has no instance variable\n",
    "print('contents of d1:', d1.__dict__)\n",
    "print('.' * 20)\n",
    "\n",
    "# d1 object receives an instance variable named 'class_var'\n",
    "d1.class_var = \"I'm messing with the class variable\"\n",
    "\n",
    "# d1 object owns the variable named 'class_var' which holds a different value than the class variable named in the same way\n",
    "print('contents of d1:', d1.__dict__)\n",
    "print(d1.class_var)\n",
    "print('.' * 20)\n",
    "\n",
    "# d2 object variables were not influenced\n",
    "print('contents of d2:', d2.__dict__)\n",
    "\n",
    "# d2 object variables were not influenced\n",
    "print('contents of class variable accessed via d2:', d2.class_var)\n",
    "'''When you want to set or change a value of the class variable, you should access it via the class, but not the class instance, as you can do for reading.'''"
   ]
  },
  {
   "cell_type": "code",
   "execution_count": 67,
   "id": "0c9934eb",
   "metadata": {},
   "outputs": [
    {
     "name": "stdout",
     "output_type": "stream",
     "text": [
      "So many ducks were born: 3\n",
      "duck quacks\n",
      "duck quacks\n",
      "duck quacks\n",
      "chicken clucks\n"
     ]
    }
   ],
   "source": [
    "#  class variables can refer to some meta information or common information shared amongst instances of the same class.\n",
    "'''Both the Duck and Chicken classes own a class variable named species, which holds a value unique to each class. When we iterate over all objects, we can examine the value of this variable to take appropriate action.'''\n",
    "class Duck:\n",
    "    counter = 0\n",
    "    species = 'duck'\n",
    "\n",
    "    def __init__(self, height, weight, sex):\n",
    "        self.height = height\n",
    "        self.weight = weight\n",
    "        self.sex = sex\n",
    "        Duck.counter +=1\n",
    "\n",
    "    def walk(self):\n",
    "        pass\n",
    "\n",
    "    def quack(self):\n",
    "        print('quacks')\n",
    "\n",
    "class Chicken:\n",
    "    species = 'chicken'\n",
    "\n",
    "    def walk(self):\n",
    "        pass\n",
    "\n",
    "    def cluck(self):\n",
    "        print('clucks')\n",
    "\n",
    "duckling = Duck(height=10, weight=3.4, sex=\"male\")\n",
    "drake = Duck(height=25, weight=3.7, sex=\"male\")\n",
    "hen = Duck(height=20, weight=3.4, sex=\"female\")\n",
    "\n",
    "chicken = Chicken()\n",
    "\n",
    "print('So many ducks were born:', Duck.counter)\n",
    "\n",
    "for poultry in duckling, drake, hen, chicken:\n",
    "    print(poultry.species, end=' ')\n",
    "    if poultry.species == 'duck':\n",
    "        poultry.quack()\n",
    "    elif poultry.species == 'chicken':\n",
    "        poultry.cluck()\n"
   ]
  },
  {
   "cell_type": "code",
   "execution_count": 68,
   "id": "349365c5",
   "metadata": {},
   "outputs": [
    {
     "name": "stdout",
     "output_type": "stream",
     "text": [
      "Total number of phone devices created: 0\n",
      "Creating 2 devices\n",
      "Total number of phone devices created: 2\n",
      "Total number of mobile phones created: 1\n",
      "Calling 01632-960004 using own number 555-2368\n",
      "Fixed phone received \"FP-1\" serial number\n",
      "Mobile phone received \"MP-1\" serial number\n"
     ]
    }
   ],
   "source": [
    "class Phone:\n",
    "    counter = 0\n",
    "\n",
    "    def __init__(self, number):\n",
    "        self.number = number\n",
    "        Phone.counter += 1\n",
    "\n",
    "    def call(self, number):\n",
    "        message = 'Calling {} using own number {}'.format(number, self.number)\n",
    "        return message\n",
    "\n",
    "\n",
    "class FixedPhone(Phone):\n",
    "    last_SN = 0\n",
    "\n",
    "    def __init__(self, number):\n",
    "        super().__init__(number)\n",
    "        FixedPhone.last_SN += 1\n",
    "        self.SN = 'FP-{}'.format(FixedPhone.last_SN)\n",
    "\n",
    "\n",
    "class MobilePhone(Phone):\n",
    "    last_SN = 0\n",
    "\n",
    "    def __init__(self, number):\n",
    "        super().__init__(number)\n",
    "        MobilePhone.last_SN += 1\n",
    "        self.SN = 'MP-{}'.format(MobilePhone.last_SN)\n",
    "\n",
    "\n",
    "print('Total number of phone devices created:', Phone.counter)\n",
    "print('Creating 2 devices')\n",
    "fphone = FixedPhone('555-2368')\n",
    "mphone = MobilePhone('01632-960004')\n",
    "\n",
    "print('Total number of phone devices created:', Phone.counter)\n",
    "print('Total number of mobile phones created:', MobilePhone.last_SN)\n",
    "\n",
    "print(fphone.call('01632-960004'))\n",
    "print('Fixed phone received \"{}\" serial number'.format(fphone.SN))\n",
    "print('Mobile phone received \"{}\" serial number'.format(mphone.SN))\n"
   ]
  },
  {
   "cell_type": "code",
   "execution_count": 89,
   "id": "996a2155",
   "metadata": {},
   "outputs": [
    {
     "name": "stdout",
     "output_type": "stream",
     "text": [
      "One package with 861 apples and weigh 299.34067420064906 is packed!\n"
     ]
    }
   ],
   "source": [
    "#https://edube.org/learn/python-advanced-1/working-with-class-and-instance-data-the-lab-1\n",
    "\n",
    "import random\n",
    "\n",
    "class Apple:  \n",
    "    number = 0\n",
    "    total_weight = 0\n",
    "    \n",
    "    def __init__(self):\n",
    "        self.weight = random.uniform(0.2, 0.5)\n",
    "        Apple.number += 1\n",
    "        Apple.total_weight += self.weight\n",
    "\n",
    "while Apple.total_weight <299 and Apple.number <=1000:\n",
    "    apple = Apple()\n",
    "#     print(\"packing...\", apple.number, apple.total_weight)\n",
    "    \n",
    "print(\"One package with {} apples and weigh {} is packed!\".format(apple.number,apple.total_weight))"
   ]
  },
  {
   "cell_type": "markdown",
   "id": "be3f749b",
   "metadata": {},
   "source": [
    "# Python core syntax\n",
    "Python core syntax covers:\n",
    "\n",
    "- operators like '+', '-', '*', '/', '%' and many others;\n",
    "- operators like '==', '<', '>', '<=', 'in' and many others;\n",
    "- indexing, slicing, subscripting;\n",
    "- built-in functions like str(), len()\n",
    "- reflexion – isinstance(), issubclass()\n",
    "and a few more elements."
   ]
  },
  {
   "cell_type": "code",
   "execution_count": 90,
   "id": "bbfe3e39",
   "metadata": {},
   "outputs": [
    {
     "name": "stdout",
     "output_type": "stream",
     "text": [
      "30\n",
      "30\n"
     ]
    }
   ],
   "source": [
    "number = 10\n",
    "print(number + 20)\n",
    "\n",
    "# It is in fact translated to:\n",
    "number = 10\n",
    "print(number.__add__(20))\n"
   ]
  },
  {
   "cell_type": "code",
   "execution_count": 31,
   "id": "094ae76a",
   "metadata": {},
   "outputs": [
    {
     "name": "stdout",
     "output_type": "stream",
     "text": [
      "65\n"
     ]
    }
   ],
   "source": [
    "class Person:\n",
    "    def __init__(self, weight, age, salary):\n",
    "        self.weight = weight\n",
    "        self.age = age\n",
    "        self.salary = salary\n",
    "\n",
    "    def __add__(self, other):\n",
    "        return self.weight + other.weight\n",
    "\n",
    "\n",
    "p1 = Person(30, 40, 50)\n",
    "p2 = Person(35, 45, 55)\n",
    "\n",
    "print(p1 + p2)\n"
   ]
  },
  {
   "cell_type": "code",
   "execution_count": 33,
   "id": "4eca503d",
   "metadata": {},
   "outputs": [
    {
     "data": {
      "text/plain": [
       "['__add__',\n",
       " '__class__',\n",
       " '__delattr__',\n",
       " '__dict__',\n",
       " '__dir__',\n",
       " '__doc__',\n",
       " '__eq__',\n",
       " '__format__',\n",
       " '__ge__',\n",
       " '__getattribute__',\n",
       " '__gt__',\n",
       " '__hash__',\n",
       " '__init__',\n",
       " '__init_subclass__',\n",
       " '__le__',\n",
       " '__lt__',\n",
       " '__module__',\n",
       " '__ne__',\n",
       " '__new__',\n",
       " '__reduce__',\n",
       " '__reduce_ex__',\n",
       " '__repr__',\n",
       " '__setattr__',\n",
       " '__sizeof__',\n",
       " '__str__',\n",
       " '__subclasshook__',\n",
       " '__weakref__']"
      ]
     },
     "execution_count": 33,
     "metadata": {},
     "output_type": "execute_result"
    }
   ],
   "source": [
    "dir(Person)"
   ]
  },
  {
   "cell_type": "code",
   "execution_count": 32,
   "id": "c0e0242c",
   "metadata": {},
   "outputs": [
    {
     "name": "stdout",
     "output_type": "stream",
     "text": [
      "Help on class Person in module __main__:\n",
      "\n",
      "class Person(builtins.object)\n",
      " |  Person(weight, age, salary)\n",
      " |  \n",
      " |  Methods defined here:\n",
      " |  \n",
      " |  __add__(self, other)\n",
      " |  \n",
      " |  __init__(self, weight, age, salary)\n",
      " |      Initialize self.  See help(type(self)) for accurate signature.\n",
      " |  \n",
      " |  ----------------------------------------------------------------------\n",
      " |  Data descriptors defined here:\n",
      " |  \n",
      " |  __dict__\n",
      " |      dictionary for instance variables (if defined)\n",
      " |  \n",
      " |  __weakref__\n",
      " |      list of weak references to the object (if defined)\n",
      "\n"
     ]
    }
   ],
   "source": [
    "help(Person)"
   ]
  },
  {
   "cell_type": "code",
   "execution_count": 98,
   "id": "5e82c898",
   "metadata": {},
   "outputs": [
    {
     "data": {
      "text/plain": [
       "'\\n# Comparison methods\\nFunction or operator\\tMagic method\\tImplementation meaning or purpose\\n==\\t__eq__(self, other)\\tequality operator\\n!=\\t__ne__(self, other)\\tinequality operator\\n<\\t__lt__(self, other)\\tless-than operator\\n>\\t__gt__(self, other)\\tgreater-than operator\\n<=\\t__le__(self, other)\\tless-than-or-equal-to operator\\n>=\\t__ge__(self, other)\\tgreater-than-or-equal-to operator\\n\\n# Numeric methods\\nUnary operators and functions\\nFunction or operator\\tMagic method\\tImplementation meaning or purpose\\n+\\t__pos__(self)\\tunary positive, like a = +b\\n-\\t__neg__(self)\\tunary negative, like a = -b\\nabs()\\t__abs__(self)\\tbehavior for abs() function\\nround(a, b)\\t__round__(self, b)\\tbehavior for round() function\\n\\n# Common, binary operators and functions\\nFunction or operator\\tMagic method\\tImplementation meaning or purpose\\n+\\t__add__(self, other)\\taddition operator\\n-\\t__sub__(self, other)\\tsubtraction operator\\n*\\t__mul__(self, other)\\tmultiplication operator\\n//\\t__floordiv__(self, other)\\tinteger division operator\\n/\\t__div__(self, other)\\tdivision operator\\n%\\t__mod__(self, other)\\tmodulo operator\\n**\\t__pow__(self, other)\\texponential (power) operator\\n\\n# Augumented operators and functions\\nBy augumented assignment we should understand a sequence of unary operators and assignments like a += 20\\n\\nFunction or operator\\tMagic method\\tImplementation meaning or purpose\\n+=\\t__iadd__(self, other)\\taddition and assignment operator\\n-=\\t__isub__(self, other)\\tsubtraction and assignment operator\\n*=\\t__imul__(self, other)\\tmultiplication and assignment operator\\n//=\\t__ifloordiv__(self, other)\\tinteger division and assignment operator\\n/=\\t__idiv__(self, other)\\tdivision and assignment operator\\n%=\\t__imod__(self, other)\\tmodulo and assignment operator\\n**=\\t__ipow__(self, other)\\texponential (power) and assignment operator\\n'"
      ]
     },
     "execution_count": 98,
     "metadata": {},
     "output_type": "execute_result"
    }
   ],
   "source": [
    "'''\n",
    "# Comparison methods\n",
    "Function or operator\tMagic method\tImplementation meaning or purpose\n",
    "==\t__eq__(self, other)\tequality operator\n",
    "!=\t__ne__(self, other)\tinequality operator\n",
    "<\t__lt__(self, other)\tless-than operator\n",
    ">\t__gt__(self, other)\tgreater-than operator\n",
    "<=\t__le__(self, other)\tless-than-or-equal-to operator\n",
    ">=\t__ge__(self, other)\tgreater-than-or-equal-to operator\n",
    "\n",
    "# Numeric methods\n",
    "Unary operators and functions\n",
    "Function or operator\tMagic method\tImplementation meaning or purpose\n",
    "+\t__pos__(self)\tunary positive, like a = +b\n",
    "-\t__neg__(self)\tunary negative, like a = -b\n",
    "abs()\t__abs__(self)\tbehavior for abs() function\n",
    "round(a, b)\t__round__(self, b)\tbehavior for round() function\n",
    "\n",
    "# Common, binary operators and functions\n",
    "Function or operator\tMagic method\tImplementation meaning or purpose\n",
    "+\t__add__(self, other)\taddition operator\n",
    "-\t__sub__(self, other)\tsubtraction operator\n",
    "*\t__mul__(self, other)\tmultiplication operator\n",
    "//\t__floordiv__(self, other)\tinteger division operator\n",
    "/\t__div__(self, other)\tdivision operator\n",
    "%\t__mod__(self, other)\tmodulo operator\n",
    "**\t__pow__(self, other)\texponential (power) operator\n",
    "\n",
    "# Augumented operators and functions\n",
    "By augumented assignment we should understand a sequence of unary operators and assignments like a += 20\n",
    "\n",
    "Function or operator\tMagic method\tImplementation meaning or purpose\n",
    "+=\t__iadd__(self, other)\taddition and assignment operator\n",
    "-=\t__isub__(self, other)\tsubtraction and assignment operator\n",
    "*=\t__imul__(self, other)\tmultiplication and assignment operator\n",
    "//=\t__ifloordiv__(self, other)\tinteger division and assignment operator\n",
    "/=\t__idiv__(self, other)\tdivision and assignment operator\n",
    "%=\t__imod__(self, other)\tmodulo and assignment operator\n",
    "**=\t__ipow__(self, other)\texponential (power) and assignment operator\n",
    "'''"
   ]
  },
  {
   "cell_type": "code",
   "execution_count": 97,
   "id": "4948406d",
   "metadata": {},
   "outputs": [
    {
     "data": {
      "text/plain": [
       "'\\nType conversion methods\\nPython offers a set of methods responsible for the conversion of built-in data types.\\n\\nFunction\\tMagic method\\tImplementation meaning or purpose\\nint()\\t__int__(self)\\tconversion to integer type\\nfloat()\\t__float__(self)\\tconversion to float type\\noct()\\t__oct__(self)\\tconversion to string, containing an octal representation\\nhex()\\t__hex__(self)\\tconversion to string, containing a hexadecimal representation\\nObject introspection\\nPython offers a set of methods responsible for representing object details using ordinary strings.\\n\\nFunction\\tMagic method\\tImplementation meaning or purpose\\nstr()\\t__str__(self)\\tresponsible for handling str() function calls\\nrepr()\\t__repr__(self)\\tresponsible for handling repr() function calls\\nformat()\\t__format__(self, formatstr)\\tcalled when new-style string formatting is applied to an object\\nhash()\\t__hash__(self)\\tresponsible for handling hash() function calls\\ndir()\\t__dir__(self)\\tresponsible for handling dir() function calls\\nbool()\\t__nonzero__(self)\\tresponsible for handling bool() function calls\\nObject retrospection\\nFollowing the topic of object introspection, there are methods responsible for object reflection.\\n\\nFunction\\tMagic method\\tImplementation meaning or purpose\\nisinstance(object, class)\\t__instancecheck__(self, object)\\tresponsible for handling isinstance() function calls\\nissubclass(subclass, class)\\t__subclasscheck__(self, subclass)\\tresponsible for handling issubclass() function calls\\n\\nObject attribute access\\nAccess to object attributes can be controlled via the following magic methods\\n\\nExpression example\\tMagic method\\tImplementation meaning or purpose\\nobject.attribute\\t__getattr__(self, attribute)\\tresponsible for handling access to a non-existing attribute\\nobject.attribute\\t__getattribute__(self, attribute)\\tresponsible for handling access to an existing attribute\\nobject.attribute = value\\t__setattr__(self, attribute, value)\\tresponsible for setting an attribute value\\ndel object.attribute\\t__delattr__(self, attribute)\\tresponsible for deleting an attribute\\nMethods allowing access to containers\\nContainers are any object that holds an arbitrary number of other objects; containers provide a way to access the contained objects and to iterate over them. Container examples: list, dictionary, tuple, and set.\\n\\nExpression example\\tMagic method\\tImplementation meaning or purpose\\nlen(container)\\t__len__(self)\\treturns the length (number of elements) of the container\\ncontainer[key]\\t__getitem__(self, key)\\tresponsible for accessing (fetching) an element identified by the key argument\\ncontainer[key] = value\\t__setitem__(self, key, value)\\tresponsible for setting a value to an element identified by the key argument\\ndel container[key]\\t__delitem__(self, key)\\tresponsible for deleting an element identified by the key argument\\nfor element in container\\t__iter__(self)\\treturns an iterator for the container\\nitem in container\\t__contains__(self, item)\\tresponds to the question: does the container contain the selected item?\\nThe list of special methods built-in in Python contains more entities. For more information, refer to https://docs.python.org/3/reference/datamodel.html#special-method-names.\\n'"
      ]
     },
     "execution_count": 97,
     "metadata": {},
     "output_type": "execute_result"
    }
   ],
   "source": [
    "'''\n",
    "Type conversion methods\n",
    "Python offers a set of methods responsible for the conversion of built-in data types.\n",
    "\n",
    "Function\tMagic method\tImplementation meaning or purpose\n",
    "int()\t__int__(self)\tconversion to integer type\n",
    "float()\t__float__(self)\tconversion to float type\n",
    "oct()\t__oct__(self)\tconversion to string, containing an octal representation\n",
    "hex()\t__hex__(self)\tconversion to string, containing a hexadecimal representation\n",
    "Object introspection\n",
    "Python offers a set of methods responsible for representing object details using ordinary strings.\n",
    "\n",
    "Function\tMagic method\tImplementation meaning or purpose\n",
    "str()\t__str__(self)\tresponsible for handling str() function calls\n",
    "repr()\t__repr__(self)\tresponsible for handling repr() function calls\n",
    "format()\t__format__(self, formatstr)\tcalled when new-style string formatting is applied to an object\n",
    "hash()\t__hash__(self)\tresponsible for handling hash() function calls\n",
    "dir()\t__dir__(self)\tresponsible for handling dir() function calls\n",
    "bool()\t__nonzero__(self)\tresponsible for handling bool() function calls\n",
    "Object retrospection\n",
    "Following the topic of object introspection, there are methods responsible for object reflection.\n",
    "\n",
    "Function\tMagic method\tImplementation meaning or purpose\n",
    "isinstance(object, class)\t__instancecheck__(self, object)\tresponsible for handling isinstance() function calls\n",
    "issubclass(subclass, class)\t__subclasscheck__(self, subclass)\tresponsible for handling issubclass() function calls\n",
    "\n",
    "Object attribute access\n",
    "Access to object attributes can be controlled via the following magic methods\n",
    "\n",
    "Expression example\tMagic method\tImplementation meaning or purpose\n",
    "object.attribute\t__getattr__(self, attribute)\tresponsible for handling access to a non-existing attribute\n",
    "object.attribute\t__getattribute__(self, attribute)\tresponsible for handling access to an existing attribute\n",
    "object.attribute = value\t__setattr__(self, attribute, value)\tresponsible for setting an attribute value\n",
    "del object.attribute\t__delattr__(self, attribute)\tresponsible for deleting an attribute\n",
    "Methods allowing access to containers\n",
    "Containers are any object that holds an arbitrary number of other objects; containers provide a way to access the contained objects and to iterate over them. Container examples: list, dictionary, tuple, and set.\n",
    "\n",
    "Expression example\tMagic method\tImplementation meaning or purpose\n",
    "len(container)\t__len__(self)\treturns the length (number of elements) of the container\n",
    "container[key]\t__getitem__(self, key)\tresponsible for accessing (fetching) an element identified by the key argument\n",
    "container[key] = value\t__setitem__(self, key, value)\tresponsible for setting a value to an element identified by the key argument\n",
    "del container[key]\t__delitem__(self, key)\tresponsible for deleting an element identified by the key argument\n",
    "for element in container\t__iter__(self)\treturns an iterator for the container\n",
    "item in container\t__contains__(self, item)\tresponds to the question: does the container contain the selected item?\n",
    "The list of special methods built-in in Python contains more entities. For more information, refer to https://docs.python.org/3/reference/datamodel.html#special-method-names.\n",
    "'''"
   ]
  },
  {
   "cell_type": "code",
   "execution_count": 163,
   "id": "a7c34477",
   "metadata": {},
   "outputs": [
    {
     "name": "stdout",
     "output_type": "stream",
     "text": [
      "23:44:12\n",
      "20:13:28\n",
      "-20:13:28\n",
      "43:57:40\n",
      "35:16:6\n"
     ]
    },
    {
     "data": {
      "text/plain": [
       "'you can use the assert statement to validate if the output of the __str__ method applied to a time interval object equals the expected value.\\n'"
      ]
     },
     "execution_count": 163,
     "metadata": {},
     "output_type": "execute_result"
    }
   ],
   "source": [
    "# https://edube.org/learn/python-advanced-1/lab-1-implementing-core-syntax\n",
    "\n",
    "#adding time intervals, like: add 21 hours 58 minutes 50 seconds to 1hr 45 minutes 22 seconds;\n",
    "\n",
    "class time_interval:\n",
    "    \n",
    "    def __init__(self, h:int, m:int, s:int):\n",
    "        try:\n",
    "            if 0<=s<=60 and 0<=m<=60 and type(h)==int and type(m)==int and type(s)==int:\n",
    "                 self.h = h\n",
    "                 self.m = m\n",
    "                 self.s = s\n",
    "            else:\n",
    "                raise TypeError\n",
    "        except TypeError:\n",
    "            print(\"TypeError\")\n",
    "            \n",
    "    def __str__(self):\n",
    "        return str(self.h)+':'+str(self.m)+':'+str(self.s)\n",
    "    \n",
    "    def __add__(self, other):\n",
    "        sum=(self.h*60+self.m)*60+self.s + (other.h*60+other.m)*60+other.s\n",
    "        h= sum//3600%24\n",
    "        m = sum%3600//60\n",
    "        s = sum%3600%60\n",
    "        return str(h)+':'+str(m)+':'+str(s)\n",
    "        \n",
    "    def __sub__(self, other):\n",
    "        diff=( (self.h*60+self.m)*60+self.s )-( (other.h*60+other.m)*60+other.s )\n",
    "        if diff >= 0:\n",
    "            h= diff//3600\n",
    "            m = diff%3600//60\n",
    "            s = diff%3600%60\n",
    "            return str(h)+':'+str(m)+':'+str(s)\n",
    "        else:\n",
    "            h = -diff//3600\n",
    "            m = -diff%3600//60\n",
    "            s = -diff%3600%60\n",
    "            return '-'+str(h)+':'+str(m)+':'+str(s)\n",
    "        \n",
    "    def __mul__(self, number):\n",
    "        try:\n",
    "            if type(number)==int:\n",
    "                mul = ( (self.h*60+self.m)*60+self.s ) * number\n",
    "                h= mul//3600\n",
    "                m = mul%3600//60\n",
    "                s = mul%3600%60\n",
    "                return str(h)+':'+str(m)+':'+str(s)\n",
    "            else:\n",
    "                raise TypeError\n",
    "        except TypeError:\n",
    "            print(\"TypeError\")\n",
    "            \n",
    "ti1 = time_interval(21,58,50)\n",
    "ti2 = time_interval(1,45,22)\n",
    "\n",
    "print(ti1+ti2)\n",
    "print(ti1-ti2)\n",
    "print(ti2-ti1)\n",
    "print(ti1 * 2 )\n",
    "\n",
    "ti = time_interval(11,45,22)\n",
    "print(ti * 3)\n",
    "'''you can use the assert statement to validate if the output of the __str__ method applied to a time interval object equals the expected value.\n",
    "'''"
   ]
  },
  {
   "cell_type": "code",
   "execution_count": null,
   "id": "af44369d",
   "metadata": {},
   "outputs": [],
   "source": [
    "#https://edube.org/learn/python-advanced-1/python-core-syntax-lab-2\n",
    "\n",
    "class time_interval:\n",
    "    \n",
    "    def __init__(self, h:int, m:int, s:int):\n",
    "        try:\n",
    "            if 0<=s<=60 and 0<=m<=60 and type(h)==int and type(m)==int and type(s)==int:\n",
    "                 self.h = h\n",
    "                 self.m = m\n",
    "                 self.s = s\n",
    "            else:\n",
    "                raise TypeError\n",
    "        except TypeError:\n",
    "            print(\"TypeError\")\n",
    "            \n",
    "    def __str__(self):\n",
    "        return str(self.h)+':'+str(self.m)+':'+str(self.s)\n",
    "    \n",
    "    def __add__(self, other):\n",
    "        if type(other)==int:\n",
    "            sum=(self.h*60+self.m)*60+self.s + other\n",
    "            h= sum//3600%24\n",
    "            m = sum%3600//60\n",
    "            s = sum%3600%60\n",
    "            return str(h)+':'+str(m)+':'+str(s)\n",
    "        else:\n",
    "            sum=(self.h*60+self.m)*60+self.s + (other.h*60+other.m)*60+other.s\n",
    "            h= sum//3600%24\n",
    "            m = sum%3600//60\n",
    "            s = sum%3600%60\n",
    "            return str(h)+':'+str(m)+':'+str(s)\n",
    "   \n",
    "            \n",
    "    def __sub__(self, other):\n",
    "        if type(other)==int:        \n",
    "            diff=( (self.h*60+self.m)*60+self.s )- other\n",
    "            if diff >= 0:\n",
    "                h= diff//3600\n",
    "                m = diff%3600//60\n",
    "                s = diff%3600%60\n",
    "                return str(h)+':'+str(m)+':'+str(s)\n",
    "            else:\n",
    "                h = -diff//3600\n",
    "                m = -diff%3600//60\n",
    "                s = -diff%3600%60\n",
    "                return '-'+str(h)+':'+str(m)+':'+str(s)\n",
    "        else:\n",
    "            diff=( (self.h*60+self.m)*60+self.s )-( (other.h*60+other.m)*60+other.s )\n",
    "            if diff >= 0:\n",
    "                h= diff//3600\n",
    "                m = diff%3600//60\n",
    "                s = diff%3600%60\n",
    "                return str(h)+':'+str(m)+':'+str(s)\n",
    "            else:\n",
    "                h = -diff//3600\n",
    "                m = -diff%3600//60\n",
    "                s = -diff%3600%60\n",
    "                return '-'+str(h)+':'+str(m)+':'+str(s)                \n",
    "              \n",
    "    def __mul__(self, number):\n",
    "        try:\n",
    "            if type(number)==int:\n",
    "                mul = ( (self.h*60+self.m)*60+self.s ) * number\n",
    "                h= mul//3600\n",
    "                m = mul%3600//60\n",
    "                s = mul%3600%60\n",
    "                return str(h)+':'+str(m)+':'+str(s)\n",
    "            else:\n",
    "                raise TypeError\n",
    "        except TypeError:\n",
    "            print(\"TypeError\")\n",
    "\n",
    "\n",
    "ti1 = time_interval(21,58,50)\n",
    "ti2 = time_interval(1,45,22)\n",
    "\n",
    "print(ti1+ti2)\n",
    "print(ti1-ti2)\n",
    "print(ti2-ti1)\n",
    "print(ti1 * 2 )\n",
    "\n",
    "ti = time_interval(11,45,22)\n",
    "print(ti * 3)\n",
    "print(ti1+10)\n",
    "print(ti1-60)\n",
    "print(ti2-100)"
   ]
  },
  {
   "cell_type": "code",
   "execution_count": 167,
   "id": "249c13a5",
   "metadata": {},
   "outputs": [
    {
     "data": {
      "text/plain": [
       "__main__.time_interval"
      ]
     },
     "execution_count": 167,
     "metadata": {},
     "output_type": "execute_result"
    }
   ],
   "source": [
    "type(ti2)"
   ]
  },
  {
   "cell_type": "markdown",
   "id": "a0fa2cff",
   "metadata": {},
   "source": [
    "# Inheritance and polymorphism — Inheritance is a pillar of OOP\n",
    "Single inheritance vs. multiple inheritance\n",
    "MRO — Method Resolution Order (diamond problem, or  deadly diamond of death.)"
   ]
  },
  {
   "cell_type": "code",
   "execution_count": 1,
   "id": "5d6ac301",
   "metadata": {},
   "outputs": [],
   "source": [
    "class Vehicle:\n",
    "    pass\n",
    "\n",
    "class LandVehicle(Vehicle):\n",
    "    pass\n",
    "\n",
    "class TrackedVehicle(LandVehicle):\n",
    "    pass\n"
   ]
  },
  {
   "cell_type": "code",
   "execution_count": 6,
   "id": "4785bc4b",
   "metadata": {},
   "outputs": [
    {
     "name": "stdout",
     "output_type": "stream",
     "text": [
      "Class B\n"
     ]
    },
    {
     "data": {
      "text/plain": [
       "'class D does not define the method info(), so Python has to look for it in the class hierarchy;\\nclass D is constructed in this order:\\nthe definition of class B is fetched;\\nthe definition of class C is fetched;\\nPython finds the requested method in the class B definition and stops searching;\\nPython executes the method.'"
      ]
     },
     "execution_count": 6,
     "metadata": {},
     "output_type": "execute_result"
    }
   ],
   "source": [
    "class A:\n",
    "    def info(self):\n",
    "        print('Class A')\n",
    "\n",
    "class B(A):\n",
    "    def info(self):\n",
    "        print('Class B')\n",
    "\n",
    "class C(A):\n",
    "    def info(self):\n",
    "        print('Class C')\n",
    "\n",
    "class D(B, C):\n",
    "    pass\n",
    "\n",
    "D().info()\n",
    "'''class D does not define the method info(), so Python has to look for it in the class hierarchy;\n",
    "class D is constructed in this order:\n",
    "the definition of class B is fetched;\n",
    "the definition of class C is fetched;\n",
    "Python finds the requested method in the class B definition and stops searching;\n",
    "Python executes the method.'''"
   ]
  },
  {
   "cell_type": "code",
   "execution_count": 7,
   "id": "d683deef",
   "metadata": {},
   "outputs": [
    {
     "ename": "TypeError",
     "evalue": "Cannot create a consistent method resolution\norder (MRO) for bases A, C",
     "output_type": "error",
     "traceback": [
      "\u001b[1;31m---------------------------------------------------------------------------\u001b[0m",
      "\u001b[1;31mTypeError\u001b[0m                                 Traceback (most recent call last)",
      "\u001b[1;32m~\\AppData\\Local\\Temp/ipykernel_48096/3255202816.py\u001b[0m in \u001b[0;36m<module>\u001b[1;34m\u001b[0m\n\u001b[0;32m     13\u001b[0m         \u001b[0mprint\u001b[0m\u001b[1;33m(\u001b[0m\u001b[1;34m'Class C'\u001b[0m\u001b[1;33m)\u001b[0m\u001b[1;33m\u001b[0m\u001b[1;33m\u001b[0m\u001b[0m\n\u001b[0;32m     14\u001b[0m \u001b[1;33m\u001b[0m\u001b[0m\n\u001b[1;32m---> 15\u001b[1;33m \u001b[1;32mclass\u001b[0m \u001b[0mD\u001b[0m\u001b[1;33m(\u001b[0m\u001b[0mA\u001b[0m\u001b[1;33m,\u001b[0m \u001b[0mC\u001b[0m\u001b[1;33m)\u001b[0m\u001b[1;33m:\u001b[0m\u001b[1;33m\u001b[0m\u001b[1;33m\u001b[0m\u001b[0m\n\u001b[0m\u001b[0;32m     16\u001b[0m     \u001b[1;32mpass\u001b[0m\u001b[1;33m\u001b[0m\u001b[1;33m\u001b[0m\u001b[0m\n\u001b[0;32m     17\u001b[0m \u001b[1;33m\u001b[0m\u001b[0m\n",
      "\u001b[1;31mTypeError\u001b[0m: Cannot create a consistent method resolution\norder (MRO) for bases A, C"
     ]
    }
   ],
   "source": [
    "#Possible pitfalls — MRO inconsistency\n",
    "\n",
    "class A:\n",
    "    def info(self):\n",
    "        print('Class A')\n",
    "\n",
    "class B(A):\n",
    "    def info(self):\n",
    "        print('Class B')\n",
    "\n",
    "class C(A):\n",
    "    def info(self):\n",
    "        print('Class C')\n",
    "\n",
    "class D(A, C):\n",
    "    pass\n",
    "\n",
    "D().info()\n"
   ]
  },
  {
   "cell_type": "code",
   "execution_count": 8,
   "id": "7c5402d9",
   "metadata": {},
   "outputs": [
    {
     "name": "stdout",
     "output_type": "stream",
     "text": [
      "Class B\n",
      "Class C\n"
     ]
    }
   ],
   "source": [
    "class A:\n",
    "    def info(self):\n",
    "        print('Class A')\n",
    "\n",
    "class B(A):\n",
    "    def info(self):\n",
    "        print('Class B')\n",
    "\n",
    "class C(A):\n",
    "    def info(self):\n",
    "        print('Class C')\n",
    "\n",
    "class D(B, C):\n",
    "    pass\n",
    "\n",
    "class E(C, B):\n",
    "    pass\n",
    "\n",
    "D().info()\n",
    "E().info()\n"
   ]
  },
  {
   "cell_type": "code",
   "execution_count": 13,
   "id": "a2700e38",
   "metadata": {},
   "outputs": [
    {
     "name": "stdout",
     "output_type": "stream",
     "text": [
      "scan() method from Scanner class\n",
      "print() method from Printer class\n",
      "send() method from Fax class\n",
      "\n",
      "scan() method from Scanner class\n",
      "send() method from Fax class\n",
      "print() method from Printer class\n",
      "----------------\n",
      "scan() method from Scanner class\n",
      "print() method from Printer class\n",
      "send() method from Fax class\n",
      "\n",
      "scan() method from Scanner class\n",
      "send() method from Fax class\n",
      "print() method from Printer class\n"
     ]
    }
   ],
   "source": [
    "#https://edube.org/learn/python-advanced-1/multiple-inheritance-the-lab\n",
    "class Scanner:\n",
    "    def scan(self):\n",
    "        print('scan() method from Scanner class')\n",
    "\n",
    "class Printer:\n",
    "    def print(self):\n",
    "        print('print() method from Printer class')\n",
    "\n",
    "class Fax:\n",
    "    def send(self):\n",
    "        print('send() method from Fax class')\n",
    "        \n",
    "class MFD_SPF(Scanner,Printer,Fax):\n",
    "    pass\n",
    "        \n",
    "class MFD_SFP(Scanner,Fax,Printer):\n",
    "    pass\n",
    "\n",
    "\n",
    "MFD_SPF().scan()  \n",
    "MFD_SPF().print()    \n",
    "MFD_SPF().send()    \n",
    "print()\n",
    "MFD_SFP().scan()  \n",
    "MFD_SFP().send()    \n",
    "MFD_SFP().print()    \n",
    "print('----------------')\n",
    "spf = MFD_SPF()\n",
    "sfp = MFD_SFP()\n",
    "\n",
    " \n",
    "spf.scan()  \n",
    "spf.print()    \n",
    "spf.send()    \n",
    "print()\n",
    "sfp.scan()  \n",
    "sfp.send()    \n",
    "sfp.print()"
   ]
  },
  {
   "cell_type": "code",
   "execution_count": 14,
   "id": "50a9505b",
   "metadata": {},
   "outputs": [
    {
     "name": "stdout",
     "output_type": "stream",
     "text": [
      "30\n",
      "abcdef\n"
     ]
    }
   ],
   "source": [
    "# demonstrate polymorphism on integers and strings, execute the following code in the Python interpreter:\n",
    "a = 10\n",
    "print(a.__add__(20))\n",
    "b = 'abc'\n",
    "print(b.__add__('def'))"
   ]
  },
  {
   "cell_type": "code",
   "execution_count": 16,
   "id": "d82445ec",
   "metadata": {},
   "outputs": [
    {
     "name": "stdout",
     "output_type": "stream",
     "text": [
      "The device was turned on\n",
      "The device was turned on\n",
      "PortableRadio type object was turned on\n",
      "TvSet type object was turned on\n"
     ]
    },
    {
     "data": {
      "text/plain": [
       "'In the right pane, there is a code implementing both inheritance and polymorphism:\\n\\ninheritance: class Radio inherits the turn_on() method from its superclass — that is why we see The device was turned on string twice. Other subclasses override that method and as a result we see different lines being printed;\\npolymorphism: all class instances allow the calling of the turn_on() method, even when you refer to the objects using the arbitrary variable element.'"
      ]
     },
     "execution_count": 16,
     "metadata": {},
     "output_type": "execute_result"
    }
   ],
   "source": [
    "class Device:\n",
    "    def turn_on(self):\n",
    "        print('The device was turned on')\n",
    "\n",
    "class Radio(Device):\n",
    "    pass\n",
    "\n",
    "class PortableRadio(Device):\n",
    "    def turn_on(self):\n",
    "        print('PortableRadio type object was turned on')\n",
    "\n",
    "class TvSet(Device):\n",
    "    def turn_on(self):\n",
    "        print('TvSet type object was turned on')\n",
    "\n",
    "device = Device()\n",
    "radio = Radio()\n",
    "portableRadio = PortableRadio()\n",
    "tvset = TvSet()\n",
    "\n",
    "for element in (device, radio, portableRadio, tvset):\n",
    "    element.turn_on()\n",
    "    \n",
    "'''In the right pane, there is a code implementing both inheritance and polymorphism:\n",
    "inheritance: class Radio inherits the turn_on() method from its superclass — that is why we see The device was turned on string twice. Other subclasses override that method and as a result we see different lines being printed;\n",
    "polymorphism: all class instances allow the calling of the turn_on() method, even when you refer to the objects using the arbitrary variable element.'''"
   ]
  },
  {
   "cell_type": "code",
   "execution_count": 17,
   "id": "e47c2a4f",
   "metadata": {},
   "outputs": [
    {
     "name": "stdout",
     "output_type": "stream",
     "text": [
      "Wax can be used to form a tool\n",
      "Cheese can be eaten\n",
      "No melt() method\n"
     ]
    }
   ],
   "source": [
    "class Wax:\n",
    "    def melt(self):\n",
    "        print(\"Wax can be used to form a tool\")\n",
    "\n",
    "class Cheese:\n",
    "    def melt(self):\n",
    "        print(\"Cheese can be eaten\")\n",
    "\n",
    "class Wood:\n",
    "    def fire(self):\n",
    "        print(\"A fire has been started!\")\n",
    "\n",
    "for element in Wax(), Cheese(), Wood():\n",
    "    try:\n",
    "        element.melt()\n",
    "    except AttributeError:\n",
    "        print('No melt() method')"
   ]
  },
  {
   "cell_type": "code",
   "execution_count": 21,
   "id": "32f447b7",
   "metadata": {},
   "outputs": [
    {
     "name": "stdout",
     "output_type": "stream",
     "text": [
      "[]\n",
      "[10, 20, 43, 54, 23, 23, 34, 23, 2]\n"
     ]
    }
   ],
   "source": [
    "a_list = list()\n",
    "b_list = list((10, 20, 43, 54, 23, 23, 34, 23, 2))\n",
    "\n",
    "print(a_list)\n",
    "print(b_list)"
   ]
  },
  {
   "cell_type": "code",
   "execution_count": 24,
   "id": "dcfea989",
   "metadata": {},
   "outputs": [
    {
     "name": "stdout",
     "output_type": "stream",
     "text": [
      "10 <class 'int'>\n",
      "20 <class 'str'>\n",
      "(40, 60, 30) <class 'tuple'>\n",
      "{'argument1': 50, 'argument2': '66'} <class 'dict'>\n"
     ]
    },
    {
     "data": {
      "text/plain": [
       "'*args – refers to a tuple of all additional, not explicitly expected positional arguments, so arguments passed without keywords and passed next after the expected arguments. In other words, *args collects all unmatched positional arguments;\\n**kwargs (keyword arguments) – refers to a dictionary of all unexpected arguments that were passed in the form of keyword=value pairs. Likewise, **kwargs collects all unmatched keyword arguments.'"
      ]
     },
     "execution_count": 24,
     "metadata": {},
     "output_type": "execute_result"
    }
   ],
   "source": [
    "#Extended function argument syntax\n",
    "\n",
    "def combiner(a, b, *args, **kwargs):\n",
    "    print(a, type(a))\n",
    "    print(b, type(b))\n",
    "    print(args, type(args))\n",
    "    print(kwargs, type(kwargs))\n",
    "\n",
    "\n",
    "combiner(10, '20', 40, 60, 30, argument1=50, argument2='66')\n",
    "'''*args – refers to a tuple of all additional, not explicitly expected positional arguments, so arguments passed without keywords and passed next after the expected arguments. In other words, *args collects all unmatched positional arguments;\n",
    "**kwargs (keyword arguments) – refers to a dictionary of all unexpected arguments that were passed in the form of keyword=value pairs. Likewise, **kwargs collects all unmatched keyword arguments.'''"
   ]
  },
  {
   "cell_type": "code",
   "execution_count": 26,
   "id": "6460f4a1",
   "metadata": {},
   "outputs": [
    {
     "name": "stdout",
     "output_type": "stream",
     "text": [
      "my_args: (40, 60, 30)\n",
      "my_kwargs {'argument1': 50, 'argument2': '66'}\n"
     ]
    },
    {
     "data": {
      "text/plain": [
       "'Extended function argument syntax – forwarding arguments to other functions\\nWhen you want to forward arguments received by your very smart and universal function (defined with *args and **kwargs, of course) to another handy and smart function, you should do that in the following way:\\n'"
      ]
     },
     "execution_count": 26,
     "metadata": {},
     "output_type": "execute_result"
    }
   ],
   "source": [
    "\n",
    "def combiner(a, b, *args, **kwargs):\n",
    "    super_combiner(*args, **kwargs)\n",
    "\n",
    "def super_combiner(*my_args, **my_kwargs):\n",
    "    print('my_args:', my_args)\n",
    "    print('my_kwargs', my_kwargs)\n",
    "\n",
    "combiner(10, '20', 40, 60, 30, argument1=50, argument2='66')\n",
    "\n",
    "'''Extended function argument syntax – forwarding arguments to other functions\n",
    "When you want to forward arguments received by your very smart and universal function (defined with *args and **kwargs, of course) to another handy and smart function, you should do that in the following way:\n",
    "'''"
   ]
  },
  {
   "cell_type": "code",
   "execution_count": 27,
   "id": "20a3b016",
   "metadata": {},
   "outputs": [
    {
     "name": "stdout",
     "output_type": "stream",
     "text": [
      "my_args: (1, 1)\n",
      "my_c: 2\n",
      "my_kwargs {'argument1': 1, 'argument2': '1'}\n"
     ]
    }
   ],
   "source": [
    "#The last example in this section shows how to combine *args, a key word, and **kwargs in one definition:\n",
    "\n",
    "def combiner(a, b, *args, c=20, **kwargs):\n",
    "    super_combiner(c, *args, **kwargs)\n",
    "def super_combiner(my_c, *my_args, **my_kwargs):\n",
    "    print('my_args:', my_args)\n",
    "    print('my_c:', my_c)\n",
    "    print('my_kwargs', my_kwargs)\n",
    "combiner(1, '1', 1, 1, c=2, argument1=1, argument2='1')"
   ]
  },
  {
   "cell_type": "markdown",
   "id": "476af114",
   "metadata": {},
   "source": [
    "# 2.4.1.1 Decorators\n",
    "This is done by passing the original function (i.e., the decorated function) as a parameter to the decorating function so that the decorating function can call the passed function. The decorating function returns a function that can be called later.\n",
    "\n",
    "Decorators are used in:\n",
    "\n",
    "- the validation of arguments;\n",
    "- the modification of arguments;\n",
    "- the modification of returned objects;\n",
    "- the measurement of execution time;\n",
    "- message logging;\n",
    "- thread synchronization;\n",
    "- code refactorization;\n",
    "- caching.\n"
   ]
  },
  {
   "cell_type": "code",
   "execution_count": 29,
   "id": "44d58167",
   "metadata": {},
   "outputs": [
    {
     "name": "stdout",
     "output_type": "stream",
     "text": [
      "Hello from simple function!\n"
     ]
    }
   ],
   "source": [
    "def simple_hello():\n",
    "    print(\"Hello from simple function!\")\n",
    "\n",
    "simple_hello()"
   ]
  },
  {
   "cell_type": "code",
   "execution_count": 39,
   "id": "15e47971",
   "metadata": {},
   "outputs": [
    {
     "name": "stdout",
     "output_type": "stream",
     "text": [
      "We are about to call \"simple_hello\"\n",
      "We are about to call \"simple_hello\"\n",
      "Hello from simple function!\n"
     ]
    }
   ],
   "source": [
    "def simple_decorator(function):\n",
    "    print('We are about to call \"{}\"'.format(function.__name__))\n",
    "    return function\n",
    "\n",
    "simple_decorator(simple_hello)\n",
    "\n",
    "decorated = simple_decorator(simple_hello)\n",
    "decorated()"
   ]
  },
  {
   "cell_type": "code",
   "execution_count": 44,
   "id": "94ae68f2",
   "metadata": {},
   "outputs": [
    {
     "name": "stdout",
     "output_type": "stream",
     "text": [
      "We are about to call \"simple_hello\"\n",
      "Hello from simple function!\n"
     ]
    },
    {
     "data": {
      "text/plain": [
       "'\\nThis means that:\\n\\noperations are performed on object names;\\nthis is the most important thing to remember: the name of the simple_function object ceases to indicate the object representing our simple_hello() and from that moment on it indicates the object returned by the decorator, the simple_decorator.\\nThe implementation of the decorator pattern introduces this syntax, which appears to be very important and useful to developers. That is why decorators have gained great popularity and are widely used in Python code. It should be mentioned that decorators are very useful for refactoring or debugging the code.\\n\\n'"
      ]
     },
     "execution_count": 44,
     "metadata": {},
     "output_type": "execute_result"
    }
   ],
   "source": [
    "def simple_decorator(function):\n",
    "    print('We are about to call \"{}\"'.format(function.__name__))\n",
    "    return function\n",
    "\n",
    "@simple_decorator\n",
    "def simple_hello():\n",
    "    print(\"Hello from simple function!\")\n",
    "\n",
    "simple_hello()\n",
    "'''\n",
    "This means that:\n",
    "\n",
    "operations are performed on object names;\n",
    "this is the most important thing to remember: the name of the simple_function object ceases to indicate the object representing our simple_hello() and from that moment on it indicates the object returned by the decorator, the simple_decorator.\n",
    "The implementation of the decorator pattern introduces this syntax, which appears to be very important and useful to developers. That is why decorators have gained great popularity and are widely used in Python code. It should be mentioned that decorators are very useful for refactoring or debugging the code.\n",
    "\n",
    "'''"
   ]
  },
  {
   "cell_type": "code",
   "execution_count": 46,
   "id": "7292ef58",
   "metadata": {},
   "outputs": [
    {
     "name": "stdout",
     "output_type": "stream",
     "text": [
      "\"combiner\" was called with the following arguments\n",
      "\t('a', 'b')\n",
      "\t{'exec': 'yes'}\n",
      "\n",
      "\tHello from the decorated function; received arguments: ('a', 'b') {'exec': 'yes'}\n",
      "Decorator is still operating\n"
     ]
    },
    {
     "data": {
      "text/plain": [
       "'A nested function (internal_wrapper) could reference an object (own_function) in its enclosing scope thanks to the closure.\\n\\n'"
      ]
     },
     "execution_count": 46,
     "metadata": {},
     "output_type": "execute_result"
    }
   ],
   "source": [
    "# decorator and closure\n",
    "def simple_decorator(own_function):\n",
    "\n",
    "    def internal_wrapper(*args, **kwargs):\n",
    "        print('\"{}\" was called with the following arguments'.format(own_function.__name__))\n",
    "        print('\\t{}\\n\\t{}\\n'.format(args, kwargs))\n",
    "        own_function(*args, **kwargs)\n",
    "        print('Decorator is still operating')\n",
    "\n",
    "    return internal_wrapper\n",
    "\n",
    "\n",
    "@simple_decorator\n",
    "def combiner(*args, **kwargs):\n",
    "    print(\"\\tHello from the decorated function; received arguments:\", args, kwargs)\n",
    "\n",
    "combiner('a', 'b', exec='yes')\n",
    "'''A nested function (internal_wrapper) could reference an object (own_function) in its enclosing scope thanks to the closure.\n",
    "\n",
    "'''"
   ]
  },
  {
   "cell_type": "code",
   "execution_count": 48,
   "id": "aa8cbb0b",
   "metadata": {},
   "outputs": [
    {
     "name": "stdout",
     "output_type": "stream",
     "text": [
      "<strong>*</strong> Wrapping items from pack_books with kraft\n",
      "We'll pack books: ('Alice in Wonderland', 'Winnie the Pooh')\n",
      "\n",
      "<strong>*</strong> Wrapping items from pack_toys with foil\n",
      "We'll pack toys: ('doll', 'car')\n",
      "\n",
      "<strong>*</strong> Wrapping items from pack_fruits with cardboard\n",
      "We'll pack fruits: ('plum', 'pear')\n",
      "\n"
     ]
    }
   ],
   "source": [
    "#Decorators can accept their own attributes\n",
    "\n",
    "def warehouse_decorator(material):\n",
    "    def wrapper(our_function):\n",
    "        def internal_wrapper(*args):\n",
    "            print('<strong>*</strong> Wrapping items from {} with {}'.format(our_function.__name__, material))\n",
    "            our_function(*args)\n",
    "            print()\n",
    "        return internal_wrapper\n",
    "    return wrapper\n",
    "\n",
    "\n",
    "@warehouse_decorator('kraft')\n",
    "def pack_books(*args):\n",
    "    print(\"We'll pack books:\", args)\n",
    "\n",
    "\n",
    "@warehouse_decorator('foil')\n",
    "def pack_toys(*args):\n",
    "    print(\"We'll pack toys:\", args)\n",
    "\n",
    "\n",
    "@warehouse_decorator('cardboard')\n",
    "def pack_fruits(*args):\n",
    "    print(\"We'll pack fruits:\", args)\n",
    "\n",
    "\n",
    "pack_books('Alice in Wonderland', 'Winnie the Pooh')\n",
    "pack_toys('doll', 'car')\n",
    "pack_fruits('plum', 'pear')\n"
   ]
  },
  {
   "cell_type": "code",
   "execution_count": 49,
   "id": "0fbd3eea",
   "metadata": {},
   "outputs": [
    {
     "name": "stdout",
     "output_type": "stream",
     "text": [
      "We'll pack books: ('Alice in Wonderland', 'Winnie the Pooh')\n",
      "<strong>*</strong> Wrapping items from pack_books with bubble foil\n",
      "<strong>*</strong> The whole order would be packed with plain cardboard\n",
      "\n",
      "We'll pack toys: ('doll', 'car')\n",
      "<strong>*</strong> Wrapping items from pack_toys with foil\n",
      "<strong>*</strong> The whole order would be packed with colourful cardboard\n",
      "\n",
      "We'll pack fruits: ('plum', 'pear')\n",
      "<strong>*</strong> Wrapping items from pack_fruits with cardboard\n",
      "<strong>*</strong> The whole order would be packed with strong cardboard\n",
      "\n"
     ]
    }
   ],
   "source": [
    "#Decorator stacking\n",
    "def big_container(collective_material):\n",
    "    def wrapper(our_function):\n",
    "        def internal_wrapper(*args):\n",
    "            our_function(*args)\n",
    "            print('<strong>*</strong> The whole order would be packed with', collective_material)\n",
    "            print()\n",
    "        return internal_wrapper\n",
    "    return wrapper\n",
    "\n",
    "def warehouse_decorator(material):\n",
    "    def wrapper(our_function):\n",
    "        def internal_wrapper(*args):\n",
    "            our_function(*args)\n",
    "            print('<strong>*</strong> Wrapping items from {} with {}'.format(our_function.__name__, material))\n",
    "        return internal_wrapper\n",
    "    return wrapper\n",
    "\n",
    "@big_container('plain cardboard')\n",
    "@warehouse_decorator('bubble foil')\n",
    "def pack_books(*args):\n",
    "    print(\"We'll pack books:\", args)\n",
    "\n",
    "@big_container('colourful cardboard')\n",
    "@warehouse_decorator('foil')\n",
    "def pack_toys(*args):\n",
    "    print(\"We'll pack toys:\", args)\n",
    "\n",
    "@big_container('strong cardboard')\n",
    "@warehouse_decorator('cardboard')\n",
    "def pack_fruits(*args):\n",
    "    print(\"We'll pack fruits:\", args)\n",
    "\n",
    "\n",
    "pack_books('Alice in Wonderland', 'Winnie the Pooh')\n",
    "pack_toys('doll', 'car')\n",
    "pack_fruits('plum', 'pear')\n"
   ]
  },
  {
   "cell_type": "code",
   "execution_count": 52,
   "id": "eff4604d",
   "metadata": {},
   "outputs": [
    {
     "name": "stdout",
     "output_type": "stream",
     "text": [
      "2022-02-04 12:00:39\n"
     ]
    },
    {
     "ename": "TypeError",
     "evalue": "'NoneType' object is not callable",
     "output_type": "error",
     "traceback": [
      "\u001b[1;31m---------------------------------------------------------------------------\u001b[0m",
      "\u001b[1;31mTypeError\u001b[0m                                 Traceback (most recent call last)",
      "\u001b[1;32m~\\AppData\\Local\\Temp/ipykernel_48096/87180796.py\u001b[0m in \u001b[0;36m<module>\u001b[1;34m\u001b[0m\n\u001b[0;32m     14\u001b[0m \u001b[1;33m\u001b[0m\u001b[0m\n\u001b[0;32m     15\u001b[0m \u001b[1;33m@\u001b[0m\u001b[0mget_time\u001b[0m\u001b[1;33m(\u001b[0m\u001b[1;33m)\u001b[0m\u001b[1;33m\u001b[0m\u001b[1;33m\u001b[0m\u001b[0m\n\u001b[1;32m---> 16\u001b[1;33m \u001b[1;32mdef\u001b[0m \u001b[0madd\u001b[0m\u001b[1;33m(\u001b[0m\u001b[0mnum1\u001b[0m\u001b[1;33m,\u001b[0m\u001b[0mnum2\u001b[0m\u001b[1;33m)\u001b[0m\u001b[1;33m:\u001b[0m\u001b[1;33m\u001b[0m\u001b[1;33m\u001b[0m\u001b[0m\n\u001b[0m\u001b[0;32m     17\u001b[0m     \u001b[1;32mreturn\u001b[0m \u001b[0mnum1\u001b[0m\u001b[1;33m+\u001b[0m\u001b[0mnum2\u001b[0m\u001b[1;33m\u001b[0m\u001b[1;33m\u001b[0m\u001b[0m\n\u001b[0;32m     18\u001b[0m \u001b[1;33m\u001b[0m\u001b[0m\n",
      "\u001b[1;31mTypeError\u001b[0m: 'NoneType' object is not callable"
     ]
    }
   ],
   "source": [
    "#https://edube.org/learn/python-advanced-1/lab-timestamping-logger\n",
    "# import module responsible for time processing\n",
    "from datetime import datetime\n",
    "\n",
    "# get current time using now() method\n",
    "def get_time():\n",
    "    timestamp = datetime.now()\n",
    "    # print(timestamp)\n",
    "\n",
    "    # convert timestamp to human-readable string, following passed pattern:\n",
    "    string_timestamp = timestamp.strftime('%Y-%m-%d %H:%M:%S')\n",
    "    \n",
    "    print(string_timestamp)\n",
    "\n",
    "@get_time()\n",
    "def add(num1,num2):\n",
    "    return num1+num2\n",
    "\n",
    "@get_time()\n",
    "def mul(num1,num2):\n",
    "    return num1*num2\n",
    "\n",
    "print(add(1,2))"
   ]
  },
  {
   "cell_type": "code",
   "execution_count": 57,
   "id": "00eeb39b",
   "metadata": {},
   "outputs": [
    {
     "name": "stdout",
     "output_type": "stream",
     "text": [
      "\"combiner\" was called with the following arguments\n",
      "\t('a', 'b')\n",
      "\t{'exec': 'yes'}\n",
      "\n",
      "\tHello from the decorated function; received arguments: ('a', 'b') {'exec': 'yes'}\n",
      "Decorator is still operating\n"
     ]
    },
    {
     "data": {
      "text/plain": [
       "'We can define a decorator as a class, and in order to do that, we have to use a __call__ special class method. When a user needs to create an object that acts as a function (i.e., it is callable) then the function decorator needs to return an object that is callable, so the __call__ special method will be very useful.'"
      ]
     },
     "execution_count": 57,
     "metadata": {},
     "output_type": "execute_result"
    }
   ],
   "source": [
    "#Decorating functions with classes\n",
    " \n",
    "class SimpleDecorator:\n",
    "    def __init__(self, own_function):\n",
    "        self.func = own_function\n",
    "\n",
    "    def __call__(self, *args, **kwargs):\n",
    "        print('\"{}\" was called with the following arguments'.format(self.func.__name__))\n",
    "        print('\\t{}\\n\\t{}\\n'.format(args, kwargs))\n",
    "        self.func(*args, **kwargs)\n",
    "        print('Decorator is still operating')\n",
    "\n",
    "\n",
    "@SimpleDecorator\n",
    "def combiner(*args, **kwargs):\n",
    "    print(\"\\tHello from the decorated function; received arguments:\", args, kwargs)\n",
    "\n",
    "\n",
    "combiner('a', 'b', exec='yes')\n",
    "'''We can define a decorator as a class, and in order to do that, we have to use a __call__ special class method. When a user needs to create an object that acts as a function (i.e., it is callable) then the function decorator needs to return an object that is callable, so the __call__ special method will be very useful.'''"
   ]
  },
  {
   "cell_type": "code",
   "execution_count": 58,
   "id": "a4dd1012",
   "metadata": {},
   "outputs": [
    {
     "name": "stdout",
     "output_type": "stream",
     "text": [
      "<strong>*</strong> Wrapping items from pack_books with kraft\n",
      "We'll pack books: ('Alice in Wonderland', 'Winnie the Pooh')\n",
      "\n",
      "<strong>*</strong> Wrapping items from pack_toys with foil\n",
      "We'll pack toys: ('doll', 'car')\n",
      "\n",
      "<strong>*</strong> Wrapping items from pack_fruits with cardboard\n",
      "We'll pack fruits: ('plum', 'pear')\n",
      "\n"
     ]
    },
    {
     "data": {
      "text/plain": [
       "'When you pass arguments to the decorator, the decorator mechanism behaves quite differently than presented in example of decorator that does not accept arguments (previous slide):\\n\\nthe reference to function to be decorated is passed to __call__ method which is called only once during decoration process,\\nthe decorator arguments are passed to __init__ method\\n'"
      ]
     },
     "execution_count": 58,
     "metadata": {},
     "output_type": "execute_result"
    }
   ],
   "source": [
    "#Decorators with arguments\n",
    "\n",
    "class WarehouseDecorator:\n",
    "    def __init__(self, material):\n",
    "        self.material = material\n",
    "\n",
    "    def __call__(self, own_function):\n",
    "        def internal_wrapper(*args, **kwargs):\n",
    "            print('<strong>*</strong> Wrapping items from {} with {}'.format(own_function.__name__, self.material))\n",
    "            own_function(*args, **kwargs)\n",
    "            print()\n",
    "        return internal_wrapper\n",
    "\n",
    "\n",
    "@WarehouseDecorator('kraft')\n",
    "def pack_books(*args):\n",
    "    print(\"We'll pack books:\", args)\n",
    "\n",
    "\n",
    "@WarehouseDecorator('foil')\n",
    "def pack_toys(*args):\n",
    "    print(\"We'll pack toys:\", args)\n",
    "\n",
    "\n",
    "@WarehouseDecorator('cardboard')\n",
    "def pack_fruits(*args):\n",
    "    print(\"We'll pack fruits:\", args)\n",
    "\n",
    "\n",
    "pack_books('Alice in Wonderland', 'Winnie the Pooh')\n",
    "pack_toys('doll', 'car')\n",
    "pack_fruits('plum', 'pear')\n",
    "'''When you pass arguments to the decorator, the decorator mechanism behaves quite differently than presented in example of decorator that does not accept arguments (previous slide):\n",
    "\n",
    "the reference to function to be decorated is passed to __call__ method which is called only once during decoration process,\n",
    "the decorator arguments are passed to __init__ method\n",
    "'''"
   ]
  },
  {
   "cell_type": "markdown",
   "id": "8060c0b4",
   "metadata": {},
   "source": [
    "# Class decorators\n"
   ]
  },
  {
   "cell_type": "code",
   "execution_count": 54,
   "id": "ca2a77e8",
   "metadata": {},
   "outputs": [
    {
     "name": "stdout",
     "output_type": "stream",
     "text": [
      "The mileage is 0\n",
      "The VIN is ABC123\n"
     ]
    }
   ],
   "source": [
    "class Car:\n",
    "    def __init__(self, VIN):\n",
    "        self.mileage = 0\n",
    "        self.VIN = VIN\n",
    "\n",
    "car = Car('ABC123')\n",
    "print('The mileage is', car.mileage)\n",
    "print('The VIN is', car.VIN)\n"
   ]
  },
  {
   "cell_type": "code",
   "execution_count": 59,
   "id": "a1e90f23",
   "metadata": {},
   "outputs": [
    {
     "name": "stdout",
     "output_type": "stream",
     "text": [
      "We noticed that the mileage attribute was read\n",
      "The mileage is 0\n",
      "The VIN is ABC123\n"
     ]
    }
   ],
   "source": [
    "def object_counter(class_):\n",
    "    class_.__getattr__orig = class_.__getattribute__\n",
    "\n",
    "    def new_getattr(self, name):\n",
    "        if name == 'mileage':\n",
    "            print('We noticed that the mileage attribute was read')\n",
    "        return class_.__getattr__orig(self, name)\n",
    "\n",
    "    class_.__getattribute__ = new_getattr\n",
    "    return class_\n",
    "\n",
    "@object_counter\n",
    "class Car:\n",
    "    def __init__(self, VIN):\n",
    "        self.mileage = 0\n",
    "        self.VIN = VIN\n",
    "\n",
    "car = Car('ABC123')\n",
    "print('The mileage is', car.mileage)\n",
    "print('The VIN is', car.VIN)\n"
   ]
  },
  {
   "cell_type": "markdown",
   "id": "e9795bde",
   "metadata": {},
   "source": [
    "## Decorators – summary\n",
    "A decorator is a very powerful and useful tool in Python, because it allows programmers to modify the behavior of a function, method, or class.\n",
    "\n",
    "Decorators allow us to wrap another callable object in order to extend its behavior.\n",
    "\n",
    "Decorators rely heavily on closures and *args and **kwargs.\n",
    "\n",
    "Interesting note:\n",
    "\n",
    "the idea of decorators was described in two documents – PEP 318 and PEP 3129. Don't be discouraged that the first PEP was prepared for Python 2, because what matters here is the idea, not the implementation in a specific Python.\n"
   ]
  },
  {
   "cell_type": "markdown",
   "id": "4385988e",
   "metadata": {},
   "source": [
    "## methods\n",
    "- instance methods: \n",
    "    The instance methods, as the first parameter, take the self parameter, which is their hallmark.\n",
    "- class methods: \n",
    "     like class variables, work on the class itself, and not on the class objects that are instantiated.\n",
    "- static methods:"
   ]
  },
  {
   "cell_type": "code",
   "execution_count": 60,
   "id": "16d2facd",
   "metadata": {},
   "outputs": [
    {
     "name": "stdout",
     "output_type": "stream",
     "text": [
      "10\n",
      "99\n"
     ]
    }
   ],
   "source": [
    "#instance methods\n",
    "class Example:\n",
    "    def __init__(self, value):\n",
    "        self.__internal = value\n",
    "\n",
    "    def get_internal(self):\n",
    "        return self.__internal\n",
    "\n",
    "example1 = Example(10)\n",
    "example2 = Example(99)\n",
    "print(example1.get_internal())\n",
    "print(example2.get_internal())\n"
   ]
  },
  {
   "cell_type": "code",
   "execution_count": 65,
   "id": "f42d6570",
   "metadata": {},
   "outputs": [
    {
     "name": "stdout",
     "output_type": "stream",
     "text": [
      "# of objects created: 0\n",
      "# of objects created: 1\n",
      "# of objects created: 2\n"
     ]
    }
   ],
   "source": [
    "#class mehtods: @classmethod, cls\n",
    "class Example:\n",
    "    __internal_counter = 0\n",
    "\n",
    "    def __init__(self, value):\n",
    "        Example.__internal_counter +=1\n",
    "\n",
    "    @classmethod\n",
    "    def get_internal(cls):\n",
    "        return '# of objects created: {}'.format(cls.__internal_counter)\n",
    "\n",
    "print(Example.get_internal())\n",
    "\n",
    "example1 = Example(10)\n",
    "print(Example.get_internal())\n",
    "\n",
    "example2 = Example(99)\n",
    "print(Example.get_internal())\n",
    "\n"
   ]
  },
  {
   "cell_type": "markdown",
   "id": "7bcfe073",
   "metadata": {},
   "source": [
    "### 1. we control access to class variables, e.g., to a class variable containing information about the number of created instances or the serial number given to the last produced object, or we modify the state of the class variables;\n",
    "### 2. we need to create a class instance in an alternative way, so the class method can be implemented by an alternative constructor.\n",
    "\n",
    "#### Convention\n",
    "'''\n",
    "To be able to distinguish a class method from an instance method, the programmer signals it with the @classmethod decorator preceding the class method definition.\n",
    "Additionally, the first parameter of the class method is cls, which is used to refer to the class methods and class attributes.\n",
    "As with self, cls was chosen arbitrarily (i.e., you can use a different name, but you must do it consistently).'''\n",
    "\n",
    "The get_internal() method is a class method. This has been signaled to the Python interpreter by using an appropriate decorator. Additionally, the method uses the cls parameter to access the class variable appropriate for the Example class.\n",
    "\n",
    "Of course, you can use the reference to “Example.__internal_counter”, but this will be inconsistent with the convention and the code loses its effectiveness in communicating its own meaning.\n",
    "\n",
    "An exception is the __init__() method, which by definition is an instance method, so it can’t use “cls”, and as a result it references the class variable by the “Example” prefix."
   ]
  },
  {
   "cell_type": "code",
   "execution_count": 66,
   "id": "fad9b5e3",
   "metadata": {},
   "outputs": [
    {
     "name": "stdout",
     "output_type": "stream",
     "text": [
      "Ordinary __init__ was called for ABCD1234\n",
      "Class method was called\n",
      "Ordinary __init__ was called for DEF567\n",
      "ABCD1234 \n",
      "DEF567 NewBrand\n"
     ]
    }
   ],
   "source": [
    "# how to use the class method as an alternative constructor\n",
    "class Car:\n",
    "    def __init__(self, vin):\n",
    "        print('Ordinary __init__ was called for', vin)\n",
    "        self.vin = vin\n",
    "        self.brand = ''\n",
    "\n",
    "    @classmethod\n",
    "    def including_brand(cls, vin, brand):\n",
    "        print('Class method was called')\n",
    "        _car = cls(vin) # the creation of a class object (i.e., calling the __init__ method, among other things) is done using cls(vin).\n",
    "        _car.brand = brand\n",
    "        return _car\n",
    "\n",
    "car1 = Car('ABCD1234')\n",
    "car2 = Car.including_brand('DEF567', 'NewBrand')\n",
    "\n",
    "print(car1.vin, car1.brand)\n",
    "print(car2.vin, car2.brand)\n"
   ]
  },
  {
   "cell_type": "code",
   "execution_count": 67,
   "id": "d4160d1f",
   "metadata": {},
   "outputs": [],
   "source": [
    "# static methods \n",
    "class Bank_Account:\n",
    "    def __init__(self, iban):\n",
    "        print('__init__ called')\n",
    "        self.iban = iban\n",
    "            \n",
    "    @staticmethod\n",
    "    def validate(iban):\n",
    "        if len(iban) == 20:\n",
    "            return True\n",
    "        else:\n",
    "            return False\n"
   ]
  },
  {
   "cell_type": "code",
   "execution_count": null,
   "id": "bdebd2b3",
   "metadata": {},
   "outputs": [],
   "source": [
    "#Static methods\n",
    "\n",
    "class Bank_Account:\n",
    "    def __init__(self, iban):\n",
    "        print('__init__ called')\n",
    "        self.iban = iban\n",
    "            \n",
    "    @staticmethod\n",
    "    def validate(iban):\n",
    "        if len(iban) == 20:\n",
    "            return True\n",
    "        else:\n",
    "            return False\n",
    "\n",
    "\n",
    "account_numbers = ['8' * 20, '7' * 4, '2222']\n",
    "\n",
    "for element in account_numbers:\n",
    "    if Bank_Account.validate(element):\n",
    "        print('We can use', element, ' to create a bank account')\n",
    "    else:\n",
    "        print('The account number', element, 'is invalid')\n"
   ]
  },
  {
   "cell_type": "markdown",
   "id": "74544c67",
   "metadata": {},
   "source": [
    "### Using static and class methods - comparison\n",
    "The time has come to compare the use of class and static methods:\n",
    "\n",
    "- class method requires 'cls' as the first parameter and a static method does not;\n",
    "- class method has the ability to access the state or methods of the class, and a static method does not;\n",
    "- class method is decorated by '@classmethod' and a static method by '@staticmethod';\n",
    "-class method can be used as an alternative way to create objects, and a static method is only a utility method."
   ]
  },
  {
   "cell_type": "code",
   "execution_count": 84,
   "id": "47b4f848",
   "metadata": {},
   "outputs": [
    {
     "name": "stdout",
     "output_type": "stream",
     "text": [
      "Class method get_number_of_watches_created() was called\n",
      "# of watch created: 1\n",
      "Class method get_number_of_watches_created() was called\n",
      "# of watch created: 2\n",
      "Class method validate() was called\n",
      "Watch Iloveyou  is created\n",
      "Class method engraving() was called\n",
      "Class method get_number_of_watches_created() was called\n",
      "# of watch created: 3\n",
      "Class method validate() was called\n",
      "We cannot use I love you to engrave a watch\n"
     ]
    }
   ],
   "source": [
    "#https://edube.org/learn/python-advanced-1/lab\n",
    "\n",
    "#class mehtods: @classmethod, cls\n",
    "class Watch:\n",
    "    __watches_created = 0\n",
    "\n",
    "    def __init__(self):\n",
    "        self.engraving_text = ''\n",
    "        Watch.__watches_created +=1\n",
    "\n",
    "    @classmethod\n",
    "    def get_number_of_watches_created(cls):\n",
    "        print('Class method get_number_of_watches_created() was called')        \n",
    "        return '# of watch created: {}'.format(cls.__watches_created)\n",
    "\n",
    "    @staticmethod\n",
    "    def validate(engraving_text):\n",
    "        print('Class method validate() was called')\n",
    "        if len(engraving_text.strip()) == len(engraving_text) and \\\n",
    "           len(engraving_text) <= 40 and \\\n",
    "               engraving_text.isalnum():\n",
    "            return True\n",
    "        else:\n",
    "            return False\n",
    "        \n",
    "    @classmethod\n",
    "    def engraving(cls, engraving_text):\n",
    "        print('Class method engraving() was called')\n",
    "        _watch = cls() # the creation of a class object (i.e., calling the __init__ method, among other things) is done using cls(vin).\n",
    "        _watch.engraving_text = engraving_text\n",
    "        return _watch\n",
    "\n",
    "watch_1 = Watch()\n",
    "print(watch_1.get_number_of_watches_created())\n",
    "watch_2 = Watch()\n",
    "print(watch_1.get_number_of_watches_created())\n",
    "\n",
    "engraving_texts = [\"Iloveyou\", \"I love you\"]\n",
    "\n",
    "for text in engraving_texts:\n",
    "    if Watch.validate(text):\n",
    "        print('Watch', text, ' is created')\n",
    "        text = Watch.engraving(text)\n",
    "        print(text.get_number_of_watches_created())\n",
    "    else:\n",
    "        print('We cannot use', text, 'to engrave a watch')\n",
    "    \n",
    "\n"
   ]
  },
  {
   "cell_type": "markdown",
   "id": "81080aca",
   "metadata": {},
   "source": [
    "# Abstract classes\n",
    "- the class designer sets requirements regarding methods that must be implemented by just declaring them, but not defining them in detail. Such methods are called abstract methods.\n",
    "- The programmer has to deliver all method definitions and the completeness would be validated by another, dedicated module. The programmer delivers the method definitions by overriding the method declarations received from the class designer.\n",
    "- Remember that it isn’t possible to instantiate an abstract class, and it needs subclasses to provide implementations for those abstract methods which are declared in the abstract classes. This behavior is a test performed by a dedicated Python module to validate if the developer has implemented a subclass that overrides all abstract methods."
   ]
  },
  {
   "cell_type": "code",
   "execution_count": null,
   "id": "3659d643",
   "metadata": {},
   "outputs": [],
   "source": [
    "# a typical class that can be instantiated:\n",
    "class BluePrint:\n",
    "    def hello(self):\n",
    "        print('Nothing is blue unless you need it')\n",
    "\n",
    "\n",
    "bp = BluePrint()\n",
    "bp.hello()\n"
   ]
  },
  {
   "cell_type": "code",
   "execution_count": 3,
   "id": "079d7690",
   "metadata": {},
   "outputs": [
    {
     "name": "stdout",
     "output_type": "stream",
     "text": [
      "Welcome to Green Field!\n"
     ]
    }
   ],
   "source": [
    "#Python has come up with a module which provides the helper class for defining Abstract Base Classes (ABC) and that module name is abc.\n",
    "\n",
    "#The ABC allows you to mark classes as abstract ones and distinguish which methods of the base abstract class are abstract. A method becomes abstract by being decorated with an @abstractmethod decorator.\n",
    "import abc\n",
    "\n",
    "class BluePrint(abc.ABC):\n",
    "    @abc.abstractmethod\n",
    "    def hello(self):\n",
    "        pass\n",
    "\n",
    "class GreenField(BluePrint):\n",
    "    def hello(self):\n",
    "        print('Welcome to Green Field!')\n",
    "\n",
    "\n",
    "gf = GreenField()\n",
    "gf.hello()\n",
    "\n",
    "#bp = BluePrint()\n"
   ]
  },
  {
   "cell_type": "code",
   "execution_count": 6,
   "id": "5537c87f",
   "metadata": {},
   "outputs": [
    {
     "name": "stdout",
     "output_type": "stream",
     "text": [
      "Welcome to Green Field!\n"
     ]
    },
    {
     "ename": "TypeError",
     "evalue": "Can't instantiate abstract class RedField with abstract method hello",
     "output_type": "error",
     "traceback": [
      "\u001b[1;31m---------------------------------------------------------------------------\u001b[0m",
      "\u001b[1;31mTypeError\u001b[0m                                 Traceback (most recent call last)",
      "\u001b[1;32m~\\AppData\\Local\\Temp/ipykernel_22724/1931440852.py\u001b[0m in \u001b[0;36m<module>\u001b[1;34m\u001b[0m\n\u001b[0;32m     21\u001b[0m \u001b[0mgf\u001b[0m\u001b[1;33m.\u001b[0m\u001b[0mhello\u001b[0m\u001b[1;33m(\u001b[0m\u001b[1;33m)\u001b[0m\u001b[1;33m\u001b[0m\u001b[1;33m\u001b[0m\u001b[0m\n\u001b[0;32m     22\u001b[0m \u001b[1;33m\u001b[0m\u001b[0m\n\u001b[1;32m---> 23\u001b[1;33m \u001b[0mrf\u001b[0m \u001b[1;33m=\u001b[0m \u001b[0mRedField\u001b[0m\u001b[1;33m(\u001b[0m\u001b[1;33m)\u001b[0m\u001b[1;33m\u001b[0m\u001b[1;33m\u001b[0m\u001b[0m\n\u001b[0m",
      "\u001b[1;31mTypeError\u001b[0m: Can't instantiate abstract class RedField with abstract method hello"
     ]
    }
   ],
   "source": [
    "import abc\n",
    "\n",
    "\n",
    "class BluePrint(abc.ABC):\n",
    "    @abc.abstractmethod\n",
    "    def hello(self):\n",
    "        pass\n",
    "\n",
    "\n",
    "class GreenField(BluePrint):\n",
    "    def hello(self):\n",
    "        print('Welcome to Green Field!')\n",
    "\n",
    "\n",
    "class RedField(BluePrint):\n",
    "    def yellow(self):\n",
    "        pass\n",
    "\n",
    "\n",
    "gf = GreenField()\n",
    "gf.hello()\n",
    "\n",
    "rf = RedField()\n"
   ]
  },
  {
   "cell_type": "markdown",
   "id": "4789990f",
   "metadata": {},
   "source": [
    "### Multiple inheritance\n",
    "When you plan to implement a multiple inheritance from abstract classes, remember that an effective subclass should override all abstract methods inherited from its super classes.\n",
    "\n",
    "#### Summary:\n",
    "- Abstract Base Class (ABC) is a class that cannot be instantiated. Such a class is a base class for concrete classes;\n",
    "- ABC can only be inherited from;\n",
    "- we are forced to override all abstract methods by delivering concrete method implementations.\n",
    "\n",
    "#### A note:\n",
    "\n",
    "It’s tempting to call a module “abc” and then try to import it, but by doing so Python imports the module containing the ABC class instead of your local file. This could cause some confusion – why does such a common name as “abc” conflict with my simple module “abc”?\n",
    "\n",
    "Run your own experiment to become familiar with the error messages you would encounter in such a situation.\n",
    "\n"
   ]
  },
  {
   "cell_type": "code",
   "execution_count": 17,
   "id": "e53c9bc1",
   "metadata": {},
   "outputs": [
    {
     "name": "stdout",
     "output_type": "stream",
     "text": [
      "MFD1: the documents are scanned.\n",
      "MFD1: the documents are printed.\n",
      "MFD2: the documents are scanned.\n",
      "MFD2: the documents are printed.\n",
      "MFD2: the printer status is printed.\n",
      "MFD3: the documents are scanned.\n",
      "MFD3: the documents are printed.\n",
      "MFD3: the scanner status is printed.\n",
      "MFD3: the scanner status is printed.\n"
     ]
    }
   ],
   "source": [
    "# https://edube.org/learn/python-advanced-1/lab-1\n",
    "import abc\n",
    "\n",
    "class Scanner(abc.ABC):\n",
    "    @abc.abstractmethod\n",
    "    def scan_document(self):\n",
    "        pass\n",
    "    @abc.abstractmethod\n",
    "    def get_scanner_status(self):\n",
    "        pass\n",
    "    \n",
    "class Printer(abc.ABC):\n",
    "    @abc.abstractmethod\n",
    "    def print_document(self):\n",
    "        pass\n",
    "    @abc.abstractmethod\n",
    "    def get_printer_status(self):\n",
    "        pass\n",
    "\n",
    "class MFD1(Scanner, Printer):\n",
    "    def scan_document(self):\n",
    "        print(\"MFD1: the documents are scanned.\")\n",
    "    def print_document(self):\n",
    "        print(\"MFD1: the documents are printed.\")\n",
    "    def get_scanner_status(self):\n",
    "        pass\n",
    "        #print(\"the scanner status is printed.\")\n",
    "    def get_printer_status(self):\n",
    "        pass\n",
    "        #print(\"the scanner status is printed.\")\n",
    "        \n",
    "class MFD2(Scanner, Printer):\n",
    "    def scan_document(self):\n",
    "        print(\"MFD2: the documents are scanned.\")\n",
    "    def print_document(self):\n",
    "        print(\"MFD2: the documents are printed.\")\n",
    "    def get_scanner_status(self):\n",
    "        pass\n",
    "        #print(\"the scanner status is printed.\")\n",
    "    def get_printer_status(self):\n",
    "        print(\"MFD2: the printer status is printed.\")\n",
    "        \n",
    "class MFD3(Scanner, Printer):\n",
    "    def scan_document(self):\n",
    "        print(\"MFD3: the documents are scanned.\")\n",
    "    def print_document(self):\n",
    "        print(\"MFD3: the documents are printed.\")\n",
    "    def get_scanner_status(self):\n",
    "        print(\"MFD3: the scanner status is printed.\")\n",
    "    def get_printer_status(self):\n",
    "        print(\"MFD3: the scanner status is printed.\")\n",
    "\n",
    "\n",
    "mfd1 = MFD1()\n",
    "mfd1.scan_document()\n",
    "mfd1.print_document()\n",
    "\n",
    "mfd2 = MFD2()\n",
    "mfd2.scan_document()\n",
    "mfd2.print_document()\n",
    "mfd2.get_printer_status()\n",
    "\n",
    "mfd3 = MFD3()\n",
    "mfd3.scan_document()\n",
    "mfd3.print_document()\n",
    "mfd3.get_printer_status()\n",
    "mfd3.get_scanner_status()"
   ]
  },
  {
   "cell_type": "markdown",
   "id": "c7418186",
   "metadata": {},
   "source": [
    "## Attribute encapsulation\n",
    "Python allows you to control access to attributes with the built-in property() function and corresponding decorator @property."
   ]
  },
  {
   "cell_type": "code",
   "execution_count": 21,
   "id": "df946aac",
   "metadata": {},
   "outputs": [
    {
     "data": {
      "text/plain": [
       "\"@tank.setter() – designates the method called for setting the encapsulated attribute value;\\n@tank.deleter() – designates the method called when other code wants to delete the encapsulated attribute.\\nhe getter method is decorated with '@property'. It designates the name of the attribute to be used by the external code;\\nthe setter method is decorated with '@name.setter'. The method name should be the attribute name;\\nthe deleter method is decorated with '@name.deleter'. The method name should should be the attribute name.\\n\""
      ]
     },
     "execution_count": 21,
     "metadata": {},
     "output_type": "execute_result"
    }
   ],
   "source": [
    "class TankError(Exception):\n",
    "    pass\n",
    "\n",
    "class Tank:\n",
    "    def __init__(self, capacity):\n",
    "        self.capacity = capacity\n",
    "        self.__level = 0\n",
    "\n",
    "    @property\n",
    "    def level(self):\n",
    "        return self.__level\n",
    "\n",
    "    @level.setter\n",
    "    def level(self, amount):\n",
    "        if amount > 0:\n",
    "            # fueling\n",
    "            if amount <= self.capacity:\n",
    "                self.__level = amount\n",
    "            else:\n",
    "                raise TankError('Too much liquid in the tank')\n",
    "        elif amount < 0:\n",
    "            raise TankError('Not possible to set negative liquid level')\n",
    "\n",
    "    @level.deleter\n",
    "    def level(self):\n",
    "        if self.__level > 0:\n",
    "            print('It is good to remember to sanitize the remains from the tank!')\n",
    "        self.__level = None\n",
    "        \n",
    "'''@tank.setter() – designates the method called for setting the encapsulated attribute value;\n",
    "@tank.deleter() – designates the method called when other code wants to delete the encapsulated attribute.\n",
    "\n",
    "The getter method is decorated with '@property'. It designates the name of the attribute to be used by the external code;\n",
    "the setter method is decorated with '@name.setter'. The method name should be the attribute name;\n",
    "the deleter method is decorated with '@name.deleter'. The method name should should be the attribute name.\n",
    "'''"
   ]
  },
  {
   "cell_type": "code",
   "execution_count": 20,
   "id": "b1746e32",
   "metadata": {},
   "outputs": [
    {
     "name": "stdout",
     "output_type": "stream",
     "text": [
      "Current liquid level: 10\n",
      "Current liquid level: 13\n",
      "Trying to set liquid level to 21 units, result: Too much liquid in the tank\n",
      "Trying to add an additional 15 units, result: Too much liquid in the tank\n",
      "Trying to set liquid level to -3 units, result: Not possible to set negative liquid level\n",
      "Current liquid level: 13\n",
      "It is good to remember to sanitize the remains from the tank!\n"
     ]
    }
   ],
   "source": [
    "class TankError(Exception):\n",
    "    pass\n",
    "\n",
    "class Tank:\n",
    "    def __init__(self, capacity):\n",
    "        self.capacity = capacity\n",
    "        self.__level = 0\n",
    "\n",
    "    @property\n",
    "    def level(self):\n",
    "        return self.__level\n",
    "\n",
    "    @level.setter\n",
    "    def level(self, amount):\n",
    "        if amount > 0:\n",
    "            # fueling\n",
    "            if amount <= self.capacity:\n",
    "                self.__level = amount\n",
    "            else:\n",
    "                raise TankError('Too much liquid in the tank')\n",
    "        elif amount < 0:\n",
    "            raise TankError('Not possible to set negative liquid level')\n",
    "\n",
    "    @level.deleter\n",
    "    def level(self):\n",
    "        if self.__level > 0:\n",
    "            print('It is good to remember to sanitize the remains from the tank!')\n",
    "        self.__level = None\n",
    "\n",
    "# our_tank object has a capacity of 20 units\n",
    "our_tank = Tank(20)\n",
    "\n",
    "# our_tank's current liquid level is set to 10 units\n",
    "our_tank.level = 10\n",
    "print('Current liquid level:', our_tank.level)\n",
    "\n",
    "# adding additional 3 units (setting liquid level to 13)\n",
    "our_tank.level += 3\n",
    "print('Current liquid level:', our_tank.level)\n",
    "\n",
    "# let's try to set the current level to 21 units\n",
    "# this should be rejected as the tank's capacity is 20 units\n",
    "try:\n",
    "    our_tank.level = 21\n",
    "except TankError as e:\n",
    "    print('Trying to set liquid level to 21 units, result:', e)\n",
    "\n",
    "# similar example - let's try to add an additional 15 units\n",
    "# this should be rejected as the total capacity is 20 units\n",
    "try:\n",
    "    our_tank.level += 15\n",
    "except TankError as e:\n",
    "    print('Trying to add an additional 15 units, result:', e)\n",
    "\n",
    "# let's try to set the liquid level to a negative amount\n",
    "# this should be rejected as it is senseless\n",
    "try:\n",
    "    our_tank.level = -3\n",
    "except TankError as e:\n",
    "    print('Trying to set liquid level to -3 units, result:', e)\n",
    "\n",
    "print('Current liquid level:', our_tank.level)\n",
    "\n",
    "del our_tank.level\n"
   ]
  },
  {
   "cell_type": "code",
   "execution_count": 26,
   "id": "170139eb",
   "metadata": {},
   "outputs": [
    {
     "name": "stdout",
     "output_type": "stream",
     "text": [
      "None\n"
     ]
    }
   ],
   "source": [
    "print(our_tank.level)"
   ]
  },
  {
   "cell_type": "code",
   "execution_count": 55,
   "id": "afc8f9aa",
   "metadata": {},
   "outputs": [
    {
     "name": "stdout",
     "output_type": "stream",
     "text": [
      "9999\n",
      "Trying to set account number, result: ('Not possible to change account number to:', 8888)\n",
      "==============================================\n",
      "You account balance: 1000\n",
      "Current balance: 1000\n",
      "You account balance: 1001000\n",
      "Current account balance: 1001000\n",
      "Trying to set bank balance to -200, result: Not possible to set negative balance\n",
      "You account balance: 1001015\n",
      "TTrying to set bank balance to  -3, result: Not possible to set negative balance\n",
      "Current account balance: 1001015\n",
      "It is not possible to delete an account as long as the balance is not zero\n",
      "It is not possible to delete an account as long as the balance is not zero\n"
     ]
    }
   ],
   "source": [
    "# https://edube.org/learn/python-advanced-1/lab-2\n",
    "\n",
    "class BankError(Exception):\n",
    "    pass\n",
    "\n",
    "class Bank:\n",
    "    def __init__(self, account_number):\n",
    "        self.__account_number = account_number\n",
    "        self.__balance = 0\n",
    "\n",
    "    @property\n",
    "    def account_number(self):\n",
    "        return self.__account_number\n",
    "    \n",
    "    @account_number.setter\n",
    "    def account_number(self, number):\n",
    "        raise BankError(\"Not possible to change account number to:\", number )    \n",
    "    \n",
    "    @account_number.deleter\n",
    "    def account_number(self):\n",
    "        if self.__balance > 0:\n",
    "            print('It is not possible to delete an account as long as the balance is not zero')\n",
    "        else:\n",
    "            self.__account_number = None    \n",
    "    \n",
    "    \n",
    "    @property\n",
    "    def balance(self):\n",
    "        return self.__balance\n",
    "\n",
    "    @balance.setter\n",
    "    def balance(self, amount):\n",
    "        if amount >= 0:\n",
    "            self.__balance = amount\n",
    "            if self.__balance > 100:\n",
    "                print(\"You account balance: {}\".format(self.__balance))\n",
    "        else:\n",
    "             raise BankError('Not possible to set negative balance')\n",
    "\n",
    "    @balance.deleter\n",
    "    def balance(self):\n",
    "        if self.__balance > 0:\n",
    "            print('It is not possible to delete an account as long as the balance is not zero')\n",
    "        else:\n",
    "            self.__balance = None\n",
    "\n",
    "# our_bank object has a account_number 9999\n",
    "our_bank = Bank(9999)\n",
    "print(our_bank.account_number)\n",
    "try:\n",
    "    our_bank.account_number=8888\n",
    "except BankError as e:\n",
    "    print('Trying to set account number, result:', e)\n",
    "print('==============================================')\n",
    "\n",
    "# our_bank's current balance is set to 1000 units\n",
    "our_bank.balance = 1000\n",
    "print('Current balance:', our_tank.balance)\n",
    "\n",
    "# trying to deposit 1,000,000; \n",
    "our_bank.balance += 1000000\n",
    "print('Current account balance:', our_bank.balance)\n",
    "\n",
    "# trying to deposit\n",
    "try:\n",
    "    our_bank.balance = -200\n",
    "except BankError as e:\n",
    "    print('Trying to set bank balance to -200, result:', e)\n",
    "\n",
    "# trying to deposit\n",
    "try:\n",
    "    our_bank.balance += 15\n",
    "except BankError as e:\n",
    "    print('Trying to add an additional 15 $, result:', e)\n",
    "\n",
    "\n",
    "try:\n",
    "    our_bank.balance = -3\n",
    "except BankError as e:\n",
    "    print('TTrying to set bank balance to  -3, result:', e)\n",
    "\n",
    "print('Current account balance:', our_bank.balance)\n",
    "\n",
    "del our_bank.balance\n",
    "del our_bank.account_number"
   ]
  },
  {
   "cell_type": "code",
   "execution_count": null,
   "id": "41b71c01",
   "metadata": {},
   "outputs": [],
   "source": [
    "class Person:\n",
    "    def __init__(self, name):\n",
    "        self._name = name\n",
    "\n",
    "    @property\n",
    "    def name(self):\n",
    "        print('Getting name')\n",
    "        return self._name\n",
    "\n",
    "    @name.setter\n",
    "    def name(self, value):\n",
    "        print('Setting name to ' + value)\n",
    "        self._name = value\n",
    "\n",
    "    @name.deleter\n",
    "    def name(self):\n",
    "        print('Deleting name')\n",
    "        del self._name\n",
    "\n",
    "p = Person('Adam')\n",
    "print('The name is:', p.name)\n",
    "p.name = 'John'\n",
    "del p.name"
   ]
  },
  {
   "cell_type": "code",
   "execution_count": 59,
   "id": "a70285bf",
   "metadata": {},
   "outputs": [
    {
     "name": "stdout",
     "output_type": "stream",
     "text": [
      "Getting name\n",
      "Adam\n",
      "Setting name to John\n"
     ]
    }
   ],
   "source": [
    "class Person:\n",
    "    def __init__(self, name):\n",
    "        self._name = name\n",
    "\n",
    "    def get_name(self):\n",
    "        print('Getting name')\n",
    "        return self._name\n",
    "\n",
    "    def set_name(self, value):\n",
    "        print('Setting name to ' + value)\n",
    "        self._name = value\n",
    "\n",
    "    def del_name(self):\n",
    "        print('Deleting name')\n",
    "        del self._name\n",
    "\n",
    "    # Set property to use get_name, set_name\n",
    "    # and del_name methods\n",
    "    name = property(get_name, set_name, del_name, 'Name property')\n",
    "\n",
    "p = Person('Adam')\n",
    "print(p.name)\n",
    "p.name = 'John'\n",
    "#del p.name"
   ]
  },
  {
   "cell_type": "markdown",
   "id": "c31bab84",
   "metadata": {},
   "source": [
    "## composition.\n",
    "- inheritance extends a class's capabilities by adding new components and modifying existing ones; in other words, the complete recipe is contained inside the class itself and all its ancestors; the object takes all the class's belongings and makes use of them;\n",
    "- composition projects a class as a container (called a composite) able to store and use other objects (derived from other classes) where each of the objects implements a part of a desired class's behavior. It’s worth mentioning that blocks are loosely coupled with the composite, and those blocks could be exchanged any time, even during program runtime.\n"
   ]
  },
  {
   "cell_type": "code",
   "execution_count": 61,
   "id": "49defa6c",
   "metadata": {},
   "outputs": [
    {
     "name": "stdout",
     "output_type": "stream",
     "text": [
      "Starting 4hp gas engine\n",
      "Starting 2hp diesel engine\n"
     ]
    }
   ],
   "source": [
    "class Car:\n",
    "    def __init__(self, engine):\n",
    "        self.engine = engine\n",
    "\n",
    "class GasEngine:\n",
    "    def __init__(self, horse_power):\n",
    "        self.hp = horse_power\n",
    "\n",
    "    def start(self):\n",
    "        print('Starting {}hp gas engine'.format(self.hp))\n",
    "\n",
    "class DieselEngine:\n",
    "    def __init__(self, horse_power):\n",
    "        self.hp = horse_power\n",
    "\n",
    "    def start(self):\n",
    "        print('Starting {}hp diesel engine'.format(self.hp))\n",
    "\n",
    "\n",
    "my_car = Car(GasEngine(4))\n",
    "my_car.engine.start()\n",
    "my_car.engine = DieselEngine(2)\n",
    "my_car.engine.start()\n"
   ]
  },
  {
   "cell_type": "code",
   "execution_count": 65,
   "id": "6c86e0ef",
   "metadata": {},
   "outputs": [
    {
     "name": "stdout",
     "output_type": "stream",
     "text": [
      "The computer costs $1000\n",
      "Dialling the access number ...          Downloading at 9600bit/s\n",
      "Waking up modem  ...                    Downloading at 2Mbit/s\n",
      "Constantly connected...                 Downloading at 10Mbit/s\n"
     ]
    },
    {
     "data": {
      "text/plain": [
       "'* When we start with our personal computer, we set the serial number to 1995 and equip it with a dialup connection. This an example of composition.\\n\\nIt is possible to download some data using a slow dialup connection;\\nlater, we equip our personal computer with a more advanced connection device. There is no need to recreate the computer object – we just arm it with a new component;\\nthe last steps are about arming our old computer with a fast connection and downloading some data.'"
      ]
     },
     "execution_count": 65,
     "metadata": {},
     "output_type": "execute_result"
    }
   ],
   "source": [
    "class Base_Computer:\n",
    "    def __init__(self, serial_number):\n",
    "        self.serial_number = serial_number\n",
    "\n",
    "class Personal_Computer(Base_Computer):\n",
    "    def __init__(self, sn, connection):\n",
    "        super().__init__(sn)\n",
    "        self.connection = connection\n",
    "        print('The computer costs $1000')\n",
    "\n",
    "class Connection:\n",
    "    def __init__(self, speed):\n",
    "        self.speed = speed\n",
    "\n",
    "    def download(self):\n",
    "        print('Downloading at {}'.format(self.speed))\n",
    "\n",
    "class DialUp(Connection):\n",
    "    def __init__(self):\n",
    "        super().__init__('9600bit/s')\n",
    "\n",
    "    def download(self):\n",
    "        print('Dialling the access number ... '.ljust(40), end='')\n",
    "        super().download()\n",
    "\n",
    "class ADSL(Connection):\n",
    "    def __init__(self):\n",
    "        super().__init__('2Mbit/s')\n",
    "\n",
    "    def download(self):\n",
    "        print('Waking up modem  ... '.ljust(40), end='')\n",
    "        super().download()\n",
    "\n",
    "class Ethernet(Connection):\n",
    "    def __init__(self):\n",
    "        super().__init__('10Mbit/s')\n",
    "\n",
    "    def download(self):\n",
    "        print('Constantly connected... '.ljust(40), end='')\n",
    "        super().download()\n",
    "\n",
    "# I started my IT adventure with an old-school dial up connection\n",
    "my_computer = Personal_Computer('1995', DialUp())\n",
    "my_computer.connection.download()\n",
    "\n",
    "# then it came year 1999 with ADSL\n",
    "my_computer.connection = ADSL()\n",
    "my_computer.connection.download()\n",
    "\n",
    "# finally I upgraded to Ethernet\n",
    "my_computer.connection = Ethernet()\n",
    "my_computer.connection.download()\n",
    "'''* When we start with our personal computer, we set the serial number to 1995 and equip it with a dialup connection. This an example of composition.\n",
    "\n",
    "It is possible to download some data using a slow dialup connection;\n",
    "later, we equip our personal computer with a more advanced connection device. There is no need to recreate the computer object – we just arm it with a new component;\n",
    "the last steps are about arming our old computer with a fast connection and downloading some data.'''"
   ]
  },
  {
   "cell_type": "code",
   "execution_count": 75,
   "id": "9b0cdf60",
   "metadata": {},
   "outputs": [
    {
     "name": "stdout",
     "output_type": "stream",
     "text": [
      "I burn electric to run\n",
      "I burn petrol to run\n",
      "Je m'appelle BelleVille ...\n",
      "Je m'appelle WildWest ...\n"
     ]
    }
   ],
   "source": [
    "# https://edube.org/learn/python-advanced-1/lab-3\n",
    "class Tires:\n",
    "    def __init__(self, size):\n",
    "        self.size = size\n",
    "    def get_pressure(self):\n",
    "        pass\n",
    "    def pump(self):\n",
    "        pass    \n",
    "    \n",
    "class Engine:\n",
    "    def __init__(self, fuel_type):\n",
    "        self.fuel_type = fuel_type\n",
    "        print(\"I burn {} to run\".format(self.fuel_type))\n",
    "    def start(self):\n",
    "        print(\"I don't want to start, it's too cold\")\n",
    "    def stop():\n",
    "        print(\"I don't want to stop\")\n",
    "    def get_state():\n",
    "        print(\"je vais bien...\")\n",
    "    \n",
    "class Vehicle:\n",
    "    def __init__(self, VIN, engine, tires):\n",
    "        self.VIN = VIN\n",
    "        self.engine = engine\n",
    "        self.tires = tires\n",
    "        print(\"Je m'appelle {} ...\".format(self.VIN))\n",
    "        \n",
    "        \n",
    "city_tires = Tires(15)\n",
    "off_road_tires = Tires(18)\n",
    "\n",
    "electric_engine = Engine('electric')\n",
    "petrol_engine = Engine('petrol')\n",
    "\n",
    "city_car = Vehicle('BelleVille', electric_engine, city_tires)\n",
    "all_terrain_car = Vehicle('WildWest', petrol_engine, off_road_tires)\n",
    "        "
   ]
  },
  {
   "cell_type": "markdown",
   "id": "577c5f75",
   "metadata": {},
   "source": [
    "### Inheriting properties from built-in classes\n"
   ]
  },
  {
   "cell_type": "code",
   "execution_count": 77,
   "id": "b47181be",
   "metadata": {},
   "outputs": [
    {
     "name": "stdout",
     "output_type": "stream",
     "text": [
      "Appending int elements succeed: [66, 22]\n",
      "Updating int element succeed: [49, 22]\n",
      "Extending with int elements succeed: [49, 22, 2, 3]\n",
      "Appending string failed\n",
      "Inserting string failed\n",
      "Extending with ineligible element failed\n",
      "Final result: [49, 22, 2, 3]\n"
     ]
    }
   ],
   "source": [
    "#https://edube.org/learn/python-advanced-1/inheriting-properties-from-built-in-classes-1\n",
    "class IntegerList(list):\n",
    "\n",
    "    @staticmethod\n",
    "    def check_value_type(value):\n",
    "        if type(value) is not int:\n",
    "            raise ValueError('Not an integer type')\n",
    "\n",
    "    def __setitem__(self, index, value):\n",
    "        IntegerList.check_value_type(value)\n",
    "        list.__setitem__(self, index, value)\n",
    "\n",
    "    def append(self, value):\n",
    "        IntegerList.check_value_type(value)\n",
    "        list.append(self, value)\n",
    "\n",
    "    def extend(self, iterable):\n",
    "        for element in iterable:\n",
    "            IntegerList.check_value_type(element)\n",
    "\n",
    "        list.extend(self, iterable)\n",
    "        \n",
    "    def insert(self, value):\n",
    "        IntegerList.check_value_type(value) \n",
    "        pass\n",
    "    \n",
    "    def __add__(self, value):\n",
    "        IntegerList.check_value_type(value)\n",
    "        pass  \n",
    "            \n",
    "            \n",
    "            \n",
    "int_list = IntegerList()\n",
    "\n",
    "int_list.append(66)\n",
    "int_list.append(22)\n",
    "print('Appending int elements succeed:', int_list)\n",
    "\n",
    "int_list[0] = 49\n",
    "print('Updating int element succeed:', int_list)\n",
    "\n",
    "int_list.extend([2, 3])\n",
    "print('Extending with int elements succeed:', int_list)\n",
    "\n",
    "try:\n",
    "    int_list.append('8-10')\n",
    "except ValueError:\n",
    "    print('Appending string failed')\n",
    "\n",
    "try:\n",
    "    int_list[0] = '10/11'\n",
    "except ValueError:\n",
    "    print('Inserting string failed')\n",
    "\n",
    "try:\n",
    "    int_list.extend([997, '10/11'])\n",
    "except ValueError:\n",
    "    print('Extending with ineligible element failed')\n",
    "\n",
    "print('Final result:', int_list)\n"
   ]
  },
  {
   "cell_type": "code",
   "execution_count": 78,
   "id": "785faa35",
   "metadata": {},
   "outputs": [
    {
     "name": "stdout",
     "output_type": "stream",
     "text": [
      "Element kk[10]: 15\n",
      "Whole dictionary: {10: 15, 20: 5}\n",
      "Our log book:\n",
      "\n",
      "2022-02-08 (08:32:27.204524) MonitoredDict created\n",
      "2022-02-08 (08:32:27.449564) value for key [10] set\n",
      "2022-02-08 (08:32:27.449564) value for key [20] set\n",
      "2022-02-08 (08:32:27.450577) value for key [10] retrieved\n"
     ]
    }
   ],
   "source": [
    "# https://edube.org/learn/python-advanced-1/inheriting-properties-from-built-in-classes-2\n",
    "from datetime import datetime\n",
    "\n",
    "class MonitoredDict(dict):\n",
    "    def __init__(self, *args, **kwargs):\n",
    "        super().__init__(*args, **kwargs)\n",
    "        self.log = list()\n",
    "        self.log_timestamp('MonitoredDict created')\n",
    "\n",
    "    def __getitem__(self, key):\n",
    "        val = super().__getitem__(key)\n",
    "        self.log_timestamp('value for key [{}] retrieved'.format(key))\n",
    "        return val\n",
    "\n",
    "    def __setitem__(self, key, val):\n",
    "        super().__setitem__(key, val)\n",
    "        self.log_timestamp('value for key [{}] set'.format(key))\n",
    "\n",
    "    def log_timestamp(self, message):\n",
    "        timestampStr = datetime.now().strftime(\"%Y-%m-%d (%H:%M:%S.%f)\")\n",
    "        self.log.append('{} {}'.format(timestampStr, message))\n",
    "\n",
    "\n",
    "kk = MonitoredDict()\n",
    "kk[10] = 15\n",
    "kk[20] = 5\n",
    "\n",
    "print('Element kk[10]:', kk[10])\n",
    "print('Whole dictionary:', kk)\n",
    "print('Our log book:\\n')\n",
    "print('\\n'.join(kk.log))\n"
   ]
  },
  {
   "cell_type": "code",
   "execution_count": 81,
   "id": "14de541a",
   "metadata": {},
   "outputs": [
    {
     "name": "stdout",
     "output_type": "stream",
     "text": [
      "Enter IBAN, please: GB72 HBZU 7006 7212 1253 00\n",
      "IBAN entered is valid.\n"
     ]
    }
   ],
   "source": [
    "#https://edube.org/learn/python-advanced-1/inheriting-properties-from-built-in-classes-3\n",
    "# IBAN Validator\n",
    "\n",
    "iban = input(\"Enter IBAN, please: \")\n",
    "iban = iban.replace(' ','')\n",
    "if not iban.isalnum():\n",
    "    print(\"You have entered invalid characters.\")\n",
    "elif len(iban) < 15:\n",
    "    print(\"IBAN entered is too short.\")\n",
    "elif len(iban) > 31:\n",
    "    print(\"IBAN entered is too long.\")\n",
    "else:\n",
    "    iban = (iban[4:] + iban[0:4]).upper()\n",
    "    iban2 = ''\n",
    "    for ch in iban:\n",
    "        if ch.isdigit():\n",
    "            iban2 += ch\n",
    "        else:\n",
    "            iban2 += str(10 + ord(ch) - ord('A'))\n",
    "    ibann = int(iban2)\n",
    "    if ibann % 97 == 1:\n",
    "        print(\"IBAN entered is valid.\")\n",
    "    else:\n",
    "        print(\"IBAN entered is invalid.\")\n",
    "        \n",
    "'''British: GB72 HBZU 7006 7212 1253 00\n",
    "French: FR76 30003 03620 00020216907 50\n",
    "German: DE02100100100152517108'''"
   ]
  },
  {
   "cell_type": "code",
   "execution_count": 82,
   "id": "bc08e094",
   "metadata": {},
   "outputs": [
    {
     "name": "stdout",
     "output_type": "stream",
     "text": [
      "Status of \"GB72 HBZU 7006 7212 1253 01\" validation: \n",
      "\tIBAN entered is invalid.\n",
      "Status of \"FR76 30003 03620 00020216907 50\" validation: \n",
      "\tcorrect\n",
      "Status of \"DE02100100100152517108\" validation: \n",
      "\tcorrect\n"
     ]
    }
   ],
   "source": [
    "# https://edube.org/learn/python-advanced-1/inheriting-properties-from-built-in-classes-4\n",
    "\n",
    "class IBANValidationError(Exception):\n",
    "    pass\n",
    "\n",
    "def validateIBAN(iban):\n",
    "    iban = iban.replace(' ', '')\n",
    "\n",
    "    if not iban.isalnum():\n",
    "        raise IBANValidationError(\"You have entered invalid characters.\")\n",
    "\n",
    "    elif len(iban) < 15:\n",
    "        raise IBANValidationError(\"IBAN entered is too short.\")\n",
    "\n",
    "    elif len(iban) > 31:\n",
    "        raise IBANValidationError(\"IBAN entered is too long.\")\n",
    "\n",
    "    else:\n",
    "        iban = (iban[4:] + iban[0:4]).upper()\n",
    "        iban2 = ''\n",
    "        for ch in iban:\n",
    "            if ch.isdigit():\n",
    "                iban2 += ch\n",
    "            else:\n",
    "                iban2 += str(10 + ord(ch) - ord('A'))\n",
    "        ibann = int(iban2)\n",
    "\n",
    "        if ibann % 97 != 1:\n",
    "            raise IBANValidationError(\"IBAN entered is invalid.\")\n",
    "\n",
    "        return True\n",
    "\n",
    "test_keys = ['GB72 HBZU 7006 7212 1253 01', 'FR76 30003 03620 00020216907 50', 'DE02100100100152517108' ]\n",
    "\n",
    "for key in test_keys:\n",
    "    try:\n",
    "        print('Status of \"{}\" validation: '.format(key))\n",
    "        validateIBAN(key)\n",
    "    except IBANValidationError as e:\n",
    "        print(\"\\t{}\".format(e))\n",
    "    else:\n",
    "        print(\"\\tcorrect\")\n"
   ]
  },
  {
   "cell_type": "code",
   "execution_count": 84,
   "id": "0381902a",
   "metadata": {},
   "outputs": [
    {
     "name": "stdout",
     "output_type": "stream",
     "text": [
      "The my_dict dictionary contains:\n",
      "\tGB72 HBZU 7006 7212 1253 00 -> 951\n",
      "\tFR76 30003 03620 00020216907 50 -> 359\n",
      "\tDE02100100100152517108 -> 921\n",
      "IBANDict has protected your dictionary against incorrect data insertion\n"
     ]
    }
   ],
   "source": [
    "#https://edube.org/learn/python-advanced-1/inheriting-properties-from-built-in-classes-5\n",
    "import random\n",
    "\n",
    "\n",
    "class IBANValidationError(Exception):\n",
    "    pass\n",
    "\n",
    "\n",
    "class IBANDict(dict):\n",
    "    def __setitem__(self, _key, _val):\n",
    "        if validateIBAN(_key):\n",
    "            super().__setitem__(_key, _val)\n",
    "\n",
    "    def update(self, *args, **kwargs):\n",
    "        for _key, _val in dict(*args, **kwargs).items():\n",
    "            self.__setitem__(_key, _val)\n",
    "\n",
    "\n",
    "def validateIBAN(iban):\n",
    "    iban = iban.replace(' ', '')\n",
    "\n",
    "    if not iban.isalnum():\n",
    "        raise IBANValidationError(\"You have entered invalid characters.\")\n",
    "\n",
    "    elif len(iban) < 15:\n",
    "        raise IBANValidationError(\"IBAN entered is too short.\")\n",
    "\n",
    "    elif len(iban) > 31:\n",
    "        raise IBANValidationError(\"IBAN entered is too long.\")\n",
    "\n",
    "    else:\n",
    "        iban = (iban[4:] + iban[0:4]).upper()\n",
    "        iban2 = ''\n",
    "        for ch in iban:\n",
    "            if ch.isdigit():\n",
    "                iban2 += ch\n",
    "            else:\n",
    "                iban2 += str(10 + ord(ch) - ord('A'))\n",
    "        ibann = int(iban2)\n",
    "\n",
    "        if ibann % 97 != 1:\n",
    "            raise IBANValidationError(\"IBAN entered is invalid.\")\n",
    "\n",
    "        return True\n",
    "\n",
    "\n",
    "my_dict = IBANDict()\n",
    "keys = ['GB72 HBZU 7006 7212 1253 00', 'FR76 30003 03620 00020216907 50', 'DE02100100100152517108']\n",
    "\n",
    "for key in keys:\n",
    "    my_dict[key] = random.randint(0, 1000)\n",
    "\n",
    "print('The my_dict dictionary contains:')\n",
    "for key, value in my_dict.items():\n",
    "    print(\"\\t{} -> {}\".format(key, value))\n",
    "\n",
    "try:\n",
    "    my_dict.update({'dummy_account': 100})\n",
    "except IBANValidationError:\n",
    "    print('IBANDict has protected your dictionary against incorrect data insertion')\n",
    "\n",
    "\n"
   ]
  },
  {
   "cell_type": "markdown",
   "id": "63111872",
   "metadata": {},
   "source": [
    "#### Summary:\n",
    "- Python allows you to subclass any built-in class such as a list, tuple, dictionary, and many others;\n",
    "- by subclassing the built-ins, you can easily adapt generics to provide more sophisticated features;\n",
    "- by subclassing the built-ins, you can modify only the parts (methods, attributes) that you intend to modify, while all remaining parts will behave as good old built-ins.\n"
   ]
  },
  {
   "cell_type": "markdown",
   "id": "e547c8d6",
   "metadata": {},
   "source": [
    "## Advanced Exceptions"
   ]
  },
  {
   "cell_type": "code",
   "execution_count": 85,
   "id": "1254f8b8",
   "metadata": {},
   "outputs": [
    {
     "name": "stdout",
     "output_type": "stream",
     "text": [
      "You tried to do a nasty thing...\n"
     ]
    }
   ],
   "source": [
    "try:\n",
    "    print(int('a'))\n",
    "except ValueError:\n",
    "    print('You tried to do a nasty thing...')\n"
   ]
  },
  {
   "cell_type": "code",
   "execution_count": 87,
   "id": "38401d13",
   "metadata": {},
   "outputs": [
    {
     "name": "stdout",
     "output_type": "stream",
     "text": [
      "(\"invalid literal for int() with base 10: 'a'\",)\n"
     ]
    }
   ],
   "source": [
    "try:\n",
    "    print(int('a'))\n",
    "except ValueError as e_variable:\n",
    "    print(e_variable.args)"
   ]
  },
  {
   "cell_type": "code",
   "execution_count": 86,
   "id": "7b335d64",
   "metadata": {},
   "outputs": [
    {
     "name": "stdout",
     "output_type": "stream",
     "text": [
      "(\"No module named 'abcdefghijk'\",)\n",
      "abcdefghijk\n",
      "None\n"
     ]
    }
   ],
   "source": [
    "try:\n",
    "    import abcdefghijk\n",
    "\n",
    "except ImportError as e:\n",
    "    print(e.args)\n",
    "    print(e.name)\n",
    "    print(e.path)\n"
   ]
  },
  {
   "cell_type": "code",
   "execution_count": 88,
   "id": "37e1f3c7",
   "metadata": {},
   "outputs": [
    {
     "name": "stdout",
     "output_type": "stream",
     "text": [
      "'utf-8' codec can't decode byte 0x80 in position 0: invalid start byte\n",
      "utf-8\n",
      "invalid start byte\n",
      "b'\\x80'\n",
      "0\n",
      "1\n"
     ]
    }
   ],
   "source": [
    "try:\n",
    "    b'\\x80'.decode(\"utf-8\")\n",
    "except UnicodeError as e:\n",
    "    print(e)\n",
    "    print(e.encoding)\n",
    "    print(e.reason)\n",
    "    print(e.object)\n",
    "    print(e.start)\n",
    "    print(e.end)\n"
   ]
  },
  {
   "cell_type": "markdown",
   "id": "01c2496a",
   "metadata": {},
   "source": [
    "#### chained exceptions\n",
    "This chaining concept introduces two attributes of exception instances:\n",
    "\n",
    "- the __context__ attribute, which is inherent for implicitly chained exceptions;\n",
    "- the __cause__ attribute, which is inherent for explicitly chained exceptions."
   ]
  },
  {
   "cell_type": "code",
   "execution_count": 90,
   "id": "74131225",
   "metadata": {},
   "outputs": [
    {
     "ename": "ZeroDivisionError",
     "evalue": "division by zero",
     "output_type": "error",
     "traceback": [
      "\u001b[1;31m---------------------------------------------------------------------------\u001b[0m",
      "\u001b[1;31mIndexError\u001b[0m                                Traceback (most recent call last)",
      "\u001b[1;32m~\\AppData\\Local\\Temp/ipykernel_22724/3792758153.py\u001b[0m in \u001b[0;36m<module>\u001b[1;34m\u001b[0m\n\u001b[0;32m      3\u001b[0m \u001b[1;32mtry\u001b[0m\u001b[1;33m:\u001b[0m\u001b[1;33m\u001b[0m\u001b[1;33m\u001b[0m\u001b[0m\n\u001b[1;32m----> 4\u001b[1;33m     \u001b[0mprint\u001b[0m\u001b[1;33m(\u001b[0m\u001b[0ma_list\u001b[0m\u001b[1;33m[\u001b[0m\u001b[1;36m3\u001b[0m\u001b[1;33m]\u001b[0m\u001b[1;33m)\u001b[0m\u001b[1;33m\u001b[0m\u001b[1;33m\u001b[0m\u001b[0m\n\u001b[0m\u001b[0;32m      5\u001b[0m \u001b[1;32mexcept\u001b[0m \u001b[0mException\u001b[0m \u001b[1;32mas\u001b[0m \u001b[0me\u001b[0m\u001b[1;33m:\u001b[0m\u001b[1;33m\u001b[0m\u001b[1;33m\u001b[0m\u001b[0m\n",
      "\u001b[1;31mIndexError\u001b[0m: list index out of range",
      "\nDuring handling of the above exception, another exception occurred:\n",
      "\u001b[1;31mZeroDivisionError\u001b[0m                         Traceback (most recent call last)",
      "\u001b[1;32m~\\AppData\\Local\\Temp/ipykernel_22724/3792758153.py\u001b[0m in \u001b[0;36m<module>\u001b[1;34m\u001b[0m\n\u001b[0;32m      4\u001b[0m     \u001b[0mprint\u001b[0m\u001b[1;33m(\u001b[0m\u001b[0ma_list\u001b[0m\u001b[1;33m[\u001b[0m\u001b[1;36m3\u001b[0m\u001b[1;33m]\u001b[0m\u001b[1;33m)\u001b[0m\u001b[1;33m\u001b[0m\u001b[1;33m\u001b[0m\u001b[0m\n\u001b[0;32m      5\u001b[0m \u001b[1;32mexcept\u001b[0m \u001b[0mException\u001b[0m \u001b[1;32mas\u001b[0m \u001b[0me\u001b[0m\u001b[1;33m:\u001b[0m\u001b[1;33m\u001b[0m\u001b[1;33m\u001b[0m\u001b[0m\n\u001b[1;32m----> 6\u001b[1;33m     \u001b[0mprint\u001b[0m\u001b[1;33m(\u001b[0m\u001b[1;36m0\u001b[0m \u001b[1;33m/\u001b[0m \u001b[1;36m0\u001b[0m\u001b[1;33m)\u001b[0m\u001b[1;33m\u001b[0m\u001b[1;33m\u001b[0m\u001b[0m\n\u001b[0m",
      "\u001b[1;31mZeroDivisionError\u001b[0m: division by zero"
     ]
    }
   ],
   "source": [
    "a_list = ['First error', 'Second error']\n",
    "\n",
    "try:\n",
    "    print(a_list[3])\n",
    "except Exception as e:\n",
    "    print(0 / 0)\n"
   ]
  },
  {
   "cell_type": "code",
   "execution_count": 91,
   "id": "22f53c3b",
   "metadata": {},
   "outputs": [
    {
     "name": "stdout",
     "output_type": "stream",
     "text": [
      "Inner exception (f): division by zero\n",
      "Outer exception (e): list index out of range\n",
      "Outer exception referenced: list index out of range\n",
      "Is it the same object: True\n"
     ]
    }
   ],
   "source": [
    "a_list = ['First error', 'Second error']\n",
    "\n",
    "try:\n",
    "    print(a_list[3])\n",
    "except Exception as e:\n",
    "    try:\n",
    "        # the following line is a developer mistake - they wanted to print progress as 1/10\tbut wrote 1/0\n",
    "        print(1 / 0)\n",
    "    except ZeroDivisionError as f:\n",
    "        print('Inner exception (f):', f)\n",
    "        print('Outer exception (e):', e)\n",
    "        print('Outer exception referenced:', f.__context__)\n",
    "        print('Is it the same object:', f.__context__ is e)\n"
   ]
  },
  {
   "cell_type": "markdown",
   "id": "7f14b10d",
   "metadata": {},
   "source": [
    "#### explicitly chained exceptions"
   ]
  },
  {
   "cell_type": "code",
   "execution_count": 92,
   "id": "127cb46a",
   "metadata": {},
   "outputs": [
    {
     "name": "stdout",
     "output_type": "stream",
     "text": [
      "Final check procedure\n",
      "\tThe captain's name is John\n",
      "\tThe pilot's name is Mary\n",
      "\tThe mechanic's name is Mike\n"
     ]
    },
    {
     "ename": "RocketNotReadyError",
     "evalue": "Crew is incomplete",
     "output_type": "error",
     "traceback": [
      "\u001b[1;31m---------------------------------------------------------------------------\u001b[0m",
      "\u001b[1;31mIndexError\u001b[0m                                Traceback (most recent call last)",
      "\u001b[1;32m~\\AppData\\Local\\Temp/ipykernel_22724/487672132.py\u001b[0m in \u001b[0;36mpersonnel_check\u001b[1;34m()\u001b[0m\n\u001b[0;32m      9\u001b[0m         \u001b[0mprint\u001b[0m\u001b[1;33m(\u001b[0m\u001b[1;34m\"\\tThe mechanic's name is\"\u001b[0m\u001b[1;33m,\u001b[0m \u001b[0mcrew\u001b[0m\u001b[1;33m[\u001b[0m\u001b[1;36m2\u001b[0m\u001b[1;33m]\u001b[0m\u001b[1;33m)\u001b[0m\u001b[1;33m\u001b[0m\u001b[1;33m\u001b[0m\u001b[0m\n\u001b[1;32m---> 10\u001b[1;33m         \u001b[0mprint\u001b[0m\u001b[1;33m(\u001b[0m\u001b[1;34m\"\\tThe navigator's name is\"\u001b[0m\u001b[1;33m,\u001b[0m \u001b[0mcrew\u001b[0m\u001b[1;33m[\u001b[0m\u001b[1;36m3\u001b[0m\u001b[1;33m]\u001b[0m\u001b[1;33m)\u001b[0m\u001b[1;33m\u001b[0m\u001b[1;33m\u001b[0m\u001b[0m\n\u001b[0m\u001b[0;32m     11\u001b[0m     \u001b[1;32mexcept\u001b[0m \u001b[0mIndexError\u001b[0m \u001b[1;32mas\u001b[0m \u001b[0me\u001b[0m\u001b[1;33m:\u001b[0m\u001b[1;33m\u001b[0m\u001b[1;33m\u001b[0m\u001b[0m\n",
      "\u001b[1;31mIndexError\u001b[0m: list index out of range",
      "\nThe above exception was the direct cause of the following exception:\n",
      "\u001b[1;31mRocketNotReadyError\u001b[0m                       Traceback (most recent call last)",
      "\u001b[1;32m~\\AppData\\Local\\Temp/ipykernel_22724/487672132.py\u001b[0m in \u001b[0;36m<module>\u001b[1;34m\u001b[0m\n\u001b[0;32m     15\u001b[0m \u001b[0mprint\u001b[0m\u001b[1;33m(\u001b[0m\u001b[1;34m'Final check procedure'\u001b[0m\u001b[1;33m)\u001b[0m\u001b[1;33m\u001b[0m\u001b[1;33m\u001b[0m\u001b[0m\n\u001b[0;32m     16\u001b[0m \u001b[1;33m\u001b[0m\u001b[0m\n\u001b[1;32m---> 17\u001b[1;33m \u001b[0mpersonnel_check\u001b[0m\u001b[1;33m(\u001b[0m\u001b[1;33m)\u001b[0m\u001b[1;33m\u001b[0m\u001b[1;33m\u001b[0m\u001b[0m\n\u001b[0m",
      "\u001b[1;32m~\\AppData\\Local\\Temp/ipykernel_22724/487672132.py\u001b[0m in \u001b[0;36mpersonnel_check\u001b[1;34m()\u001b[0m\n\u001b[0;32m     10\u001b[0m         \u001b[0mprint\u001b[0m\u001b[1;33m(\u001b[0m\u001b[1;34m\"\\tThe navigator's name is\"\u001b[0m\u001b[1;33m,\u001b[0m \u001b[0mcrew\u001b[0m\u001b[1;33m[\u001b[0m\u001b[1;36m3\u001b[0m\u001b[1;33m]\u001b[0m\u001b[1;33m)\u001b[0m\u001b[1;33m\u001b[0m\u001b[1;33m\u001b[0m\u001b[0m\n\u001b[0;32m     11\u001b[0m     \u001b[1;32mexcept\u001b[0m \u001b[0mIndexError\u001b[0m \u001b[1;32mas\u001b[0m \u001b[0me\u001b[0m\u001b[1;33m:\u001b[0m\u001b[1;33m\u001b[0m\u001b[1;33m\u001b[0m\u001b[0m\n\u001b[1;32m---> 12\u001b[1;33m         \u001b[1;32mraise\u001b[0m \u001b[0mRocketNotReadyError\u001b[0m\u001b[1;33m(\u001b[0m\u001b[1;34m'Crew is incomplete'\u001b[0m\u001b[1;33m)\u001b[0m \u001b[1;32mfrom\u001b[0m \u001b[0me\u001b[0m\u001b[1;33m\u001b[0m\u001b[1;33m\u001b[0m\u001b[0m\n\u001b[0m\u001b[0;32m     13\u001b[0m \u001b[1;33m\u001b[0m\u001b[0m\n\u001b[0;32m     14\u001b[0m \u001b[0mcrew\u001b[0m \u001b[1;33m=\u001b[0m \u001b[1;33m[\u001b[0m\u001b[1;34m'John'\u001b[0m\u001b[1;33m,\u001b[0m \u001b[1;34m'Mary'\u001b[0m\u001b[1;33m,\u001b[0m \u001b[1;34m'Mike'\u001b[0m\u001b[1;33m]\u001b[0m\u001b[1;33m\u001b[0m\u001b[1;33m\u001b[0m\u001b[0m\n",
      "\u001b[1;31mRocketNotReadyError\u001b[0m: Crew is incomplete"
     ]
    }
   ],
   "source": [
    "class RocketNotReadyError(Exception):\n",
    "    pass\n",
    "\n",
    "def personnel_check():\n",
    "    try:\n",
    "        print(\"\\tThe captain's name is\", crew[0])\n",
    "        print(\"\\tThe pilot's name is\", crew[1])\n",
    "        print(\"\\tThe mechanic's name is\", crew[2])\n",
    "        print(\"\\tThe navigator's name is\", crew[3])\n",
    "    except IndexError as e:\n",
    "        raise RocketNotReadyError('Crew is incomplete') from e\n",
    "\n",
    "crew = ['John', 'Mary', 'Mike']\n",
    "print('Final check procedure')\n",
    "\n",
    "personnel_check()\n"
   ]
  },
  {
   "cell_type": "code",
   "execution_count": 96,
   "id": "85b80bf9",
   "metadata": {},
   "outputs": [
    {
     "name": "stdout",
     "output_type": "stream",
     "text": [
      "Final check procedure\n",
      "\tThe captain's name is John\n",
      "\tThe pilot's name is Mary\n",
      "\tThe mechanic's name is Mike\n",
      "General exception: \"Crew is incomplete\", caused by \"list index out of range\"\n"
     ]
    },
    {
     "data": {
      "text/plain": [
       "'To catch the cause of the RocketNotReadyError exception, you should access the __cause__ attribute of the RocketNotReadyError object.'"
      ]
     },
     "execution_count": 96,
     "metadata": {},
     "output_type": "execute_result"
    }
   ],
   "source": [
    "\n",
    "class RocketNotReadyError(Exception):\n",
    "    pass\n",
    "\n",
    "def personnel_check():\n",
    "    try:\n",
    "        print(\"\\tThe captain's name is\", crew[0])\n",
    "        print(\"\\tThe pilot's name is\", crew[1])\n",
    "        print(\"\\tThe mechanic's name is\", crew[2])\n",
    "        print(\"\\tThe navigator's name is\", crew[3])\n",
    "    except IndexError as e:\n",
    "        raise RocketNotReadyError('Crew is incomplete') from e\n",
    "\n",
    "crew = ['John', 'Mary', 'Mike']\n",
    "print('Final check procedure')\n",
    "\n",
    "try:\n",
    "    personnel_check()\n",
    "except RocketNotReadyError as f:\n",
    "    print('General exception: \"{}\", caused by \"{}\"'.format(f, f.__cause__))\n",
    "    \n",
    "'''To catch the cause of the RocketNotReadyError exception, you should access the __cause__ attribute of the RocketNotReadyError object.'''"
   ]
  },
  {
   "cell_type": "code",
   "execution_count": 97,
   "id": "da511682",
   "metadata": {},
   "outputs": [
    {
     "name": "stdout",
     "output_type": "stream",
     "text": [
      "Final check procedure\n",
      "\tThe captain's name is John\n",
      "\tThe pilot's name is Mary\n",
      "\tThe mechanic's name is Mike\n",
      "RocketNotReady exception: \"Crew is incomplete\", caused by \"list index out of range\"\n",
      "RocketNotReady exception: \"Problem with fuel gauge\", caused by \"division by zero\"\n"
     ]
    }
   ],
   "source": [
    "class RocketNotReadyError(Exception):\n",
    "    pass\n",
    "\n",
    "\n",
    "def personnel_check():\n",
    "    try:\n",
    "        print(\"\\tThe captain's name is\", crew[0])\n",
    "        print(\"\\tThe pilot's name is\", crew[1])\n",
    "        print(\"\\tThe mechanic's name is\", crew[2])\n",
    "        print(\"\\tThe navigator's name is\", crew[3])\n",
    "    except IndexError as e:\n",
    "        raise RocketNotReadyError('Crew is incomplete') from e\n",
    "\n",
    "\n",
    "def fuel_check():\n",
    "    try:\n",
    "        print('Fuel tank is full in {}%'.format(100 / 0))\n",
    "    except ZeroDivisionError as e:\n",
    "        raise RocketNotReadyError('Problem with fuel gauge') from e\n",
    "\n",
    "\n",
    "crew = ['John', 'Mary', 'Mike']\n",
    "fuel = 100\n",
    "check_list = [personnel_check, fuel_check]\n",
    "\n",
    "print('Final check procedure')\n",
    "\n",
    "for check in check_list:\n",
    "    try:\n",
    "        check()\n",
    "    except RocketNotReadyError as f:\n",
    "        print('RocketNotReady exception: \"{}\", caused by \"{}\"'.format(f, f.__cause__))\n"
   ]
  },
  {
   "cell_type": "code",
   "execution_count": 99,
   "id": "64110c75",
   "metadata": {},
   "outputs": [
    {
     "name": "stdout",
     "output_type": "stream",
     "text": [
      "Final check procedure\n",
      "\tThe captain's name is John\n",
      "\tThe pilot's name is Mary\n",
      "\tThe mechanic's name is Mike\n",
      "RocketNotReady exception: \"Crew is incomplete\", caused by \"list index out of range\"\n",
      "RocketNotReady exception: \"Problem with fuel gauge\", caused by \"division by zero\"\n",
      "RocketNotReady exception: \"Problem with fuel gauge\", caused by \"division by zero\"\n",
      "RocketNotReady exception: \"Problem with fuel gauge\", caused by \"division by zero\"\n"
     ]
    }
   ],
   "source": [
    "# https://edube.org/learn/python-advanced-1/advanced-exceptions-the-lab\n",
    "\n",
    "class RocketNotReadyError(Exception):\n",
    "    pass\n",
    "\n",
    "\n",
    "def personnel_check():\n",
    "    try:\n",
    "        print(\"\\tThe captain's name is\", crew[0])\n",
    "        print(\"\\tThe pilot's name is\", crew[1])\n",
    "        print(\"\\tThe mechanic's name is\", crew[2])\n",
    "        print(\"\\tThe navigator's name is\", crew[3])\n",
    "    except IndexError as e:\n",
    "        raise RocketNotReadyError('Crew is incomplete') from e\n",
    "\n",
    "\n",
    "def fuel_check():\n",
    "    try:\n",
    "        print('Fuel tank is full in {}%'.format(100/0))\n",
    "    except ZeroDivisionError as e:\n",
    "        raise RocketNotReadyError('Problem with fuel gauge') from e\n",
    "\n",
    "def batteries_check():\n",
    "    # add your own implentation\n",
    "    #pass\n",
    "    try:\n",
    "        print('Batteries are full in {}%'.format(100/0))\n",
    "    except ZeroDivisionError as e:\n",
    "        raise RocketNotReadyError('Problem with fuel gauge') from e\n",
    "\n",
    "def circuits_check():\n",
    "    # add your own implentation\n",
    "    #pass\n",
    "    try:\n",
    "        print('Circuits are function in {}%'.format(100/0))\n",
    "    except ZeroDivisionError as e:\n",
    "        raise RocketNotReadyError('Problem with fuel gauge') from e\n",
    "\n",
    "\n",
    "crew = ['John', 'Mary', 'Mike']\n",
    "fuel = 100\n",
    "check_list = [personnel_check, fuel_check, batteries_check, circuits_check]\n",
    "\n",
    "print('Final check procedure')\n",
    "\n",
    "for check in check_list:\n",
    "    try:\n",
    "        check()\n",
    "    except RocketNotReadyError as f:\n",
    "        print('RocketNotReady exception: \"{}\", caused by \"{}\"'.format(f, f.__cause__))\n",
    "\n"
   ]
  },
  {
   "cell_type": "code",
   "execution_count": 100,
   "id": "6b9e4d16",
   "metadata": {},
   "outputs": [
    {
     "name": "stdout",
     "output_type": "stream",
     "text": [
      "Final check procedure\n",
      "\tThe captain's name is John\n",
      "\tThe pilot's name is Mary\n",
      "\tThe mechanic's name is Mike\n",
      "<traceback object at 0x00000252C3018080>\n",
      "<class 'traceback'>\n"
     ]
    }
   ],
   "source": [
    "#Advanced exceptions - the traceback attribute\n",
    "\n",
    "class RocketNotReadyError(Exception):\n",
    "    pass\n",
    "\n",
    "def personnel_check():\n",
    "    try:\n",
    "        print(\"\\tThe captain's name is\", crew[0])\n",
    "        print(\"\\tThe pilot's name is\", crew[1])\n",
    "        print(\"\\tThe mechanic's name is\", crew[2])\n",
    "        print(\"\\tThe navigator's name is\", crew[3])\n",
    "    except IndexError as e:\n",
    "        raise RocketNotReadyError('Crew is incomplete') from e\n",
    "\n",
    "crew = ['John', 'Mary', 'Mike']\n",
    "print('Final check procedure')\n",
    "\n",
    "try:\n",
    "    personnel_check()\n",
    "except RocketNotReadyError as f:\n",
    "    print(f.__traceback__)\n",
    "    print(type(f.__traceback__))\n"
   ]
  },
  {
   "cell_type": "code",
   "execution_count": 102,
   "id": "706f294b",
   "metadata": {},
   "outputs": [
    {
     "name": "stdout",
     "output_type": "stream",
     "text": [
      "Final check procedure\n",
      "\tThe captain's name is John\n",
      "\tThe pilot's name is Mary\n",
      "\tThe mechanic's name is Mike\n",
      "<traceback object at 0x00000252BEB0F6C0>\n",
      "<class 'traceback'>\n",
      "\n",
      "Traceback details\n",
      "  File \"C:\\Users\\fan.z\\AppData\\Local\\Temp/ipykernel_22724/4268288308.py\", line 22, in <module>\n",
      "    personnel_check()\n",
      "\n",
      "  File \"C:\\Users\\fan.z\\AppData\\Local\\Temp/ipykernel_22724/4268288308.py\", line 14, in personnel_check\n",
      "    raise RocketNotReadyError('Crew is incomplete') from e\n",
      "\n",
      "Final check is over\n"
     ]
    },
    {
     "data": {
      "text/plain": [
       "'For more information about chained exceptions and traceback attributes, look at the PEP 3134 document.'"
      ]
     },
     "execution_count": 102,
     "metadata": {},
     "output_type": "execute_result"
    }
   ],
   "source": [
    "import traceback\n",
    "\n",
    "class RocketNotReadyError(Exception):\n",
    "    pass\n",
    "\n",
    "\n",
    "def personnel_check():\n",
    "    try:\n",
    "        print(\"\\tThe captain's name is\", crew[0])\n",
    "        print(\"\\tThe pilot's name is\", crew[1])\n",
    "        print(\"\\tThe mechanic's name is\", crew[2])\n",
    "        print(\"\\tThe navigator's name is\", crew[3])\n",
    "    except IndexError as e:\n",
    "        raise RocketNotReadyError('Crew is incomplete') from e\n",
    "\n",
    "\n",
    "crew = ['John', 'Mary', 'Mike']\n",
    "\n",
    "print('Final check procedure')\n",
    "\n",
    "try:\n",
    "    personnel_check()\n",
    "except RocketNotReadyError as f:\n",
    "    print(f.__traceback__)\n",
    "    print(type(f.__traceback__))\n",
    "    print('\\nTraceback details')\n",
    "    details = traceback.format_tb(f.__traceback__)\n",
    "    print(\"\\n\".join(details))\n",
    "\n",
    "print('Final check is over')\n",
    "\n",
    "'''For more information about chained exceptions and traceback attributes, look at the PEP 3134 document.'''"
   ]
  },
  {
   "cell_type": "markdown",
   "id": "8d3477e3",
   "metadata": {},
   "source": [
    "## Copying objects using shallow and deep operations\n",
    "\n",
    "- object: label vs. identity vs. value;\n",
    "- the id() function and the is operand;\n",
    "- shallow and deep copies of the objects.\n"
   ]
  },
  {
   "cell_type": "code",
   "execution_count": 103,
   "id": "5e099db6",
   "metadata": {},
   "outputs": [
    {
     "name": "stdout",
     "output_type": "stream",
     "text": [
      "a_string identity: 2554482272768\n",
      "b_string identity: 2554482272768\n",
      "The result of the value comparison: True\n",
      "The result of the identity comparison: True\n",
      "\n",
      "a_string identity: 2554482251968\n",
      "b_string identity: 2554482270592\n",
      "The result of the value comparison: True\n",
      "The result of the identity comparison: False\n"
     ]
    }
   ],
   "source": [
    "a_string = ['10', 'days', 'to', 'departure']\n",
    "b_string = a_string\n",
    "\n",
    "print('a_string identity:', id(a_string))\n",
    "print('b_string identity:', id(b_string))\n",
    "print('The result of the value comparison:', a_string == b_string)\n",
    "print('The result of the identity comparison:', a_string is b_string)\n",
    "\n",
    "print()\n",
    "\n",
    "a_string = ['10', 'days', 'to', 'departure']\n",
    "b_string = ['10', 'days', 'to', 'departure']\n",
    "\n",
    "print('a_string identity:', id(a_string))\n",
    "print('b_string identity:', id(b_string))\n",
    "print('The result of the value comparison:', a_string == b_string)\n",
    "print('The result of the identity comparison:', a_string is b_string)\n"
   ]
  },
  {
   "cell_type": "code",
   "execution_count": 105,
   "id": "ed54b21d",
   "metadata": {},
   "outputs": [
    {
     "name": "stdout",
     "output_type": "stream",
     "text": [
      "Part 1\n",
      "Let's make a copy\n",
      "a_list contents: [10, 'banana', [997, 123]]\n",
      "b_list contents: [10, 'banana', [997, 123]]\n",
      "Is it the same object? False\n",
      "\n",
      "Part 2\n",
      "Let's modify b_list[2]\n",
      "a_list contents: [10, 'banana', [112, 123]]\n",
      "b_list contents: [10, 'banana', [112, 123]]\n",
      "Is it the same object? False\n"
     ]
    },
    {
     "data": {
      "text/plain": [
       "'Using [:], which is an array slice syntax, we get a fresh copy of the a_list object;\\nSo, despite the fact that b_list is a copy of a_list, modifying b_list results in a modification of the a_list object.\\n\\n'"
      ]
     },
     "execution_count": 105,
     "metadata": {},
     "output_type": "execute_result"
    }
   ],
   "source": [
    "#shallow copy \n",
    "print(\"Part 1\")\n",
    "print(\"Let's make a copy\")\n",
    "a_list = [10, \"banana\", [997, 123]]\n",
    "b_list = a_list[:]\n",
    "print(\"a_list contents:\", a_list)\n",
    "print(\"b_list contents:\", b_list)\n",
    "print(\"Is it the same object?\", a_list is b_list)\n",
    "\n",
    "print()\n",
    "print(\"Part 2\")\n",
    "print(\"Let's modify b_list[2]\")\n",
    "b_list[2][0] = 112\n",
    "print(\"a_list contents:\", a_list)\n",
    "print(\"b_list contents:\", b_list)\n",
    "print(\"Is it the same object?\", a_list is b_list)\n",
    "'''Using [:], which is an array slice syntax, we get a fresh copy of the a_list object;\n",
    "So, despite the fact that b_list is a copy of a_list, modifying b_list results in a modification of the a_list object.\n",
    "\n",
    "'''"
   ]
  },
  {
   "cell_type": "markdown",
   "id": "219a5dc9",
   "metadata": {},
   "source": [
    "The explanation of the behavior presented on the previous page is:\n",
    "\n",
    "- the 'a_list' object is a compound object;\n",
    "- we’ve run a # shallow copy # that constructs a new compound object, b_list in our example, and then populated it with references to the objects found in the original;\n",
    "- as you can see, a shallow copy is only one level deep. The copying process does not recurse and therefore does not create copies of the child objects, but instead populates b_list with references to the already existing objects.\n"
   ]
  },
  {
   "cell_type": "code",
   "execution_count": 108,
   "id": "19635b3c",
   "metadata": {},
   "outputs": [
    {
     "name": "stdout",
     "output_type": "stream",
     "text": [
      "Let's make a deep copy\n",
      "a_list contents: [10, 'banana', [997, 123]]\n",
      "b_list contents: [10, 'banana', [997, 123]]\n",
      "Is it the same object? False\n",
      "\n",
      "Let's modify b_list[2]\n",
      "a_list contents: [10, 'banana', [997, 123]]\n",
      "b_list contents: [10, 'banana', [112, 123]]\n",
      "Is it the same object? False\n"
     ]
    },
    {
     "data": {
      "text/plain": [
       "\"The 'copy' module contains a function for shallow copying: copy(). Of course, you could say that for copying lists there is already the [:] notation, or a_list=list(b_list), and for dictionaries you could use a_dict = dict(b_dict).\\n\\nBut think about making use of polymorphism when you need a universal function to copy any type object, so that in that case using a copy() function is the smart way to accomplish the task.\\n\\n\""
      ]
     },
     "execution_count": 108,
     "metadata": {},
     "output_type": "execute_result"
    }
   ],
   "source": [
    "# deep copy\n",
    "import copy\n",
    "\n",
    "print(\"Let's make a deep copy\")\n",
    "a_list = [10, \"banana\", [997, 123]]\n",
    "b_list = copy.deepcopy(a_list)\n",
    "print(\"a_list contents:\", a_list)\n",
    "print(\"b_list contents:\", b_list)\n",
    "print(\"Is it the same object?\", a_list is b_list)\n",
    "\n",
    "print()\n",
    "print(\"Let's modify b_list[2]\")\n",
    "b_list[2][0] = 112\n",
    "print(\"a_list contents:\", a_list)\n",
    "print(\"b_list contents:\", b_list)\n",
    "print(\"Is it the same object?\", a_list is b_list)\n",
    "'''The 'copy' module contains a function for shallow copying: copy(). Of course, you could say that for copying lists there is already the [:] notation, or a_list=list(b_list), and for dictionaries you could use a_dict = dict(b_dict).\n",
    "\n",
    "But think about making use of polymorphism when you need a universal function to copy any type object, so that in that case using a copy() function is the smart way to accomplish the task.\n",
    "\n",
    "'''"
   ]
  },
  {
   "cell_type": "code",
   "execution_count": 119,
   "id": "dddd5274",
   "metadata": {},
   "outputs": [
    {
     "name": "stdout",
     "output_type": "stream",
     "text": [
      "Single reference copy\n",
      "Execution time: 0.012\n",
      "Memory chunks: 2554482230720 2554482230720\n",
      "Same memory chunk? True\n",
      "\n",
      "Shallow copy\n",
      "Execution time: 0.006\n",
      "Memory chunks: 2554482230720 2554482294528\n",
      "Same memory chunk? False\n",
      "\n",
      "Deep copy\n",
      "Execution time: 9.554\n",
      "Memory chunks: 2554482230720 2554482252864\n",
      "Same memory chunk? False\n"
     ]
    }
   ],
   "source": [
    "import copy\n",
    "import time\n",
    "\n",
    "a_list = [(1,2,3) for x in range(1_000_000)]\n",
    "\n",
    "print('Single reference copy')\n",
    "time_start = time.time()\n",
    "b_list = a_list\n",
    "print('Execution time:', round(time.time() - time_start, 3))\n",
    "print('Memory chunks:', id(a_list), id(b_list))\n",
    "print('Same memory chunk?', a_list is b_list)\n",
    "\n",
    "print()\n",
    "\n",
    "print('Shallow copy')\n",
    "time_start = time.time()\n",
    "b_list = a_list[:]\n",
    "print('Execution time:', round(time.time() - time_start, 3))\n",
    "print('Memory chunks:', id(a_list), id(b_list))\n",
    "print('Same memory chunk?', a_list is b_list)\n",
    "\n",
    "print()\n",
    "\n",
    "print('Deep copy')\n",
    "time_start = time.time()\n",
    "b_list = copy.deepcopy(a_list)\n",
    "print('Execution time:', round(time.time() - time_start, 3))\n",
    "print('Memory chunks:', id(a_list), id(b_list))\n",
    "print('Same memory chunk?', a_list is b_list)\n"
   ]
  },
  {
   "cell_type": "code",
   "execution_count": 120,
   "id": "7ccfe9e2",
   "metadata": {},
   "outputs": [
    {
     "name": "stdout",
     "output_type": "stream",
     "text": [
      "Memory chunks: 2554481642048 2554482084800\n",
      "Same memory chunk? False\n",
      "Let's modify the movies list\n",
      "a_dict movies: ['Goldfinger (1964)', 'You Only Live Twice', 'Diamonds Are Forever (1971)']\n",
      "b_dict movies: ['Goldfinger (1964)', 'You Only Live Twice']\n"
     ]
    }
   ],
   "source": [
    "import copy\n",
    "\n",
    "a_dict = {\n",
    "    'first name': 'James',\n",
    "    'last name': 'Bond',\n",
    "    'movies': ['Goldfinger (1964)', 'You Only Live Twice']\n",
    "    }\n",
    "b_dict = copy.deepcopy(a_dict)\n",
    "print('Memory chunks:', id(a_dict), id(b_dict))\n",
    "print('Same memory chunk?', a_dict is b_dict)\n",
    "print(\"Let's modify the movies list\")\n",
    "a_dict['movies'].append('Diamonds Are Forever (1971)')\n",
    "print('a_dict movies:', a_dict['movies'])\n",
    "print('b_dict movies:', b_dict['movies'])\n",
    "\n"
   ]
  },
  {
   "cell_type": "code",
   "execution_count": 122,
   "id": "2c5448f3",
   "metadata": {},
   "outputs": [
    {
     "name": "stdout",
     "output_type": "stream",
     "text": [
      "Hello from __init__()\n",
      "Memory chunks: 2554482034096 2554481724672\n",
      "Same memory chunk? False\n",
      "\n",
      "Let's modify the movies list\n",
      "a_example.properties: ['112', '997']\n",
      "b_example.properties: ['112', '997', '911']\n"
     ]
    }
   ],
   "source": [
    "import copy\n",
    "\n",
    "class Example:\n",
    "    def __init__(self):\n",
    "        self.properties = [\"112\", \"997\"]\n",
    "        print(\"Hello from __init__()\")\n",
    "\n",
    "a_example = Example()\n",
    "b_example = copy.deepcopy(a_example)\n",
    "print(\"Memory chunks:\", id(a_example), id(b_example))\n",
    "print(\"Same memory chunk?\", a_example is b_example)\n",
    "print()\n",
    "print(\"Let's modify the movies list\")\n",
    "b_example.properties.append(\"911\")\n",
    "print('a_example.properties:', a_example.properties)\n",
    "print('b_example.properties:', b_example.properties)\n"
   ]
  },
  {
   "cell_type": "code",
   "execution_count": 127,
   "id": "43c019c6",
   "metadata": {},
   "outputs": [
    {
     "name": "stdout",
     "output_type": "stream",
     "text": [
      "Source list of candies\n",
      "{'name': 'Lolly Pop', 'price': 0.4, 'weight': 133}\n",
      "{'name': 'Licorice', 'price': 0.1, 'weight': 251}\n",
      "{'name': 'Chocolate', 'price': 1, 'weight': 601}\n",
      "{'name': 'Sours', 'price': 0.01, 'weight': 513}\n",
      "{'name': 'Hard candies', 'price': 0.3, 'weight': 433}\n",
      "Price proposal\n",
      "{'name': 'Lolly Pop', 'price': 0.4, 'weight': 133}\n",
      "{'name': 'Licorice', 'price': 0.1, 'weight': 251}\n",
      "{'name': 'Chocolate', 'price': 0.8, 'weight': 601}\n",
      "{'name': 'Sours', 'price': 0.008, 'weight': 513}\n",
      "{'name': 'Hard candies', 'price': 0.24, 'weight': 433}\n"
     ]
    }
   ],
   "source": [
    "# https://edube.org/learn/python-advanced-1/lab-1-1\n",
    "import copy\n",
    "\n",
    "warehouse = list()\n",
    "warehouse.append({'name': 'Lolly Pop', 'price': 0.4, 'weight': 133})\n",
    "warehouse.append({'name': 'Licorice', 'price': 0.1, 'weight': 251})\n",
    "warehouse.append({'name': 'Chocolate', 'price': 1, 'weight': 601})\n",
    "warehouse.append({'name': 'Sours', 'price': 0.01, 'weight': 513})\n",
    "warehouse.append({'name': 'Hard candies', 'price': 0.3, 'weight': 433})\n",
    "\n",
    "print('Source list of candies')\n",
    "for item in warehouse:\n",
    "    print(item)\n",
    "\n",
    "proposal = copy.deepcopy(warehouse)\n",
    "print('Price proposal')\n",
    "for item in proposal:\n",
    "    if item['weight']>300:\n",
    "        item['price'] = item['price'] * .8\n",
    "    print(item)\n"
   ]
  },
  {
   "cell_type": "code",
   "execution_count": 134,
   "id": "49d2a5d1",
   "metadata": {},
   "outputs": [
    {
     "name": "stdout",
     "output_type": "stream",
     "text": [
      "Source list of candies\n",
      "name: Lolly Pop, price: 0.4, weight: 133\n",
      "name: Licorice, price: 0.1, weight: 251\n",
      "name: Chocolate, price: 1, weight: 601\n",
      "name: Sours, price: 0.01, weight: 513\n",
      "name: Hard candies, price: 0.3, weight: 433\n",
      "\n",
      "name: Lolly Pop, price: 0.4, weight: 133\n",
      "name: Licorice, price: 0.1, weight: 251\n",
      "name: Chocolate, price: 0.8, weight: 601\n",
      "name: Sours, price: 0.008, weight: 513\n",
      "name: Hard candies, price: 0.24, weight: 433\n"
     ]
    }
   ],
   "source": [
    "# https://edube.org/learn/python-advanced-1/lab-2-1\n",
    "import copy\n",
    "\n",
    "class Delicacy:\n",
    "    def __init__(self, name, price, weight):\n",
    "        self.name = name\n",
    "        self.price = price\n",
    "        self.weight = weight\n",
    "        \n",
    "    def __str__(self):\n",
    "        return 'name: {}, price: {}, weight: {}'.format(self.name,self.price,self.weight)\n",
    "\n",
    "warehouse = list()\n",
    "warehouse.append(Delicacy('Lolly Pop', 0.4, 133))\n",
    "warehouse.append(Delicacy('Licorice', 0.1, 251))\n",
    "warehouse.append(Delicacy('Chocolate', 1,  601))\n",
    "warehouse.append(Delicacy('Sours', 0.01, 513))\n",
    "warehouse.append(Delicacy('Hard candies', 0.3, 433))\n",
    "\n",
    "print('Source list of candies')\n",
    "for item in warehouse:\n",
    "    print(item)\n",
    "print()\n",
    "proposal = copy.deepcopy(warehouse)\n",
    "for item in proposal:\n",
    "    if item.weight>300:\n",
    "        item.price = item.price * .8\n",
    "    print(item)\n"
   ]
  },
  {
   "cell_type": "markdown",
   "id": "f0cc058d",
   "metadata": {},
   "source": [
    "Section summary\n",
    "Important things to remember:\n",
    "\n",
    "the deepcopy() method creates and persists new instances of source objects, whereas any shallow copy operation only stores references to the original memory address;\n",
    "a deep copy operation takes significantly more time than any shallow copy operation;\n",
    "the deepcopy() method copies the whole object, including all nested objects; it’s an example of practical recursion taking place;\n",
    "deep copy might cause problems when there are cyclic references in the structure to be copied."
   ]
  },
  {
   "cell_type": "markdown",
   "id": "1fb7cc85",
   "metadata": {},
   "source": [
    "# Serialization of Python objects using the pickle module\n",
    "The following types can be pickled:\n",
    "\n",
    "- None, booleans;\n",
    "- integers, floating-point numbers, complex numbers;\n",
    "- strings, bytes, bytearrays;\n",
    "- tuples, lists, sets, and dictionaries containing pickleable objects;\n",
    "- objects, including objects with references to other objects (remember to avoid cycles!)\n",
    "- references to functions and classes, but not their definitions."
   ]
  },
  {
   "cell_type": "code",
   "execution_count": 135,
   "id": "5381c3e8",
   "metadata": {},
   "outputs": [],
   "source": [
    "import pickle\n",
    "\n",
    "a_dict = dict()\n",
    "a_dict['EUR'] = {'code':'Euro', 'symbol': '€'}\n",
    "a_dict['GBP'] = {'code':'Pounds sterling', 'symbol': '£'}\n",
    "a_dict['USD'] = {'code':'US dollar', 'symbol': '$'}\n",
    "a_dict['JPY'] = {'code':'Japanese yen', 'symbol': '¥'}\n",
    "\n",
    "a_list = ['a', 123, [10, 100, 1000]]\n",
    "\n",
    "with open('multidata.pckl', 'wb') as file_out:\n",
    "    pickle.dump(a_dict, file_out)\n",
    "    pickle.dump(a_list, file_out)\n"
   ]
  },
  {
   "cell_type": "code",
   "execution_count": 136,
   "id": "6fdefa12",
   "metadata": {},
   "outputs": [
    {
     "name": "stdout",
     "output_type": "stream",
     "text": [
      "<class 'dict'>\n",
      "{'EUR': {'code': 'Euro', 'symbol': '€'}, 'GBP': {'code': 'Pounds sterling', 'symbol': '£'}, 'USD': {'code': 'US dollar', 'symbol': '$'}, 'JPY': {'code': 'Japanese yen', 'symbol': '¥'}}\n",
      "<class 'list'>\n",
      "['a', 123, [10, 100, 1000]]\n"
     ]
    }
   ],
   "source": [
    "import pickle\n",
    "\n",
    "with open('multidata.pckl', 'rb') as file_in:\n",
    "    data1 = pickle.load(file_in)\n",
    "    data2 = pickle.load(file_in)\n",
    "\n",
    "print(type(data1))\n",
    "print(data1)\n",
    "print(type(data2))\n",
    "print(data2)\n"
   ]
  },
  {
   "cell_type": "code",
   "execution_count": 137,
   "id": "90277fd3",
   "metadata": {},
   "outputs": [
    {
     "name": "stdout",
     "output_type": "stream",
     "text": [
      "Intermediate object type, used to preserve data: <class 'bytes'>\n",
      "A type of deserialized object: <class 'list'>\n",
      "Contents: ['a', 123, [10, 100, 1000]]\n"
     ]
    }
   ],
   "source": [
    "import pickle\n",
    "\n",
    "a_list = ['a', 123, [10, 100, 1000]]\n",
    "bytes = pickle.dumps(a_list)\n",
    "print('Intermediate object type, used to preserve data:', type(bytes))\n",
    "\n",
    "# now pass 'bytes' to appropriate driver\n",
    "\n",
    "# therefore when you receive a bytes object from an appropriate driver you can deserialize it\n",
    "b_list = pickle.loads(bytes)\n",
    "print('A type of deserialized object:', type(b_list))\n",
    "print('Contents:', b_list)\n"
   ]
  },
  {
   "cell_type": "markdown",
   "id": "2fe04041",
   "metadata": {},
   "source": [
    "Remember that attempts to pickle non-pickleable objects will raise the PicklingError exception.\n",
    "\n",
    "Trying to pickle a highly recursive data structure (mind the cycles) may exceed the maximum recursion depth, and a RecursionError exception will be raised in such cases.\n",
    "\n",
    "Note that functions (both built-in and user-defined) are pickled by their name reference, not by any value. This means that only the function name is pickled; neither the function’s code, nor any of its function attributes, are pickled.\n",
    "\n",
    "Similarly, classes are pickled by named reference, so the same restrictions in the unpickling environment apply. Note that none of the class’s code or data are pickled.\n",
    "\n",
    "\n",
    "This is done on purpose, so you can fix bugs in a class or add methods to the class, and still load objects that were created with an earlier version of the class.\n",
    "\n",
    "Hence, your role is to ensure that the environment where the class or function is unpickled is able to import the class or function definition. In other words, the function or class must be available in the namespace of your code reading the pickle file.\n",
    "\n",
    "Otherwise, an AtrributeError exception will be raised.\n",
    "\n"
   ]
  },
  {
   "cell_type": "code",
   "execution_count": 139,
   "id": "c876d602",
   "metadata": {},
   "outputs": [],
   "source": [
    "import pickle\n",
    "\n",
    "def f1():\n",
    "    print('Hello from the jar!')\n",
    "\n",
    "with open('function.pckl', 'wb') as file_out:\n",
    "    pickle.dump(f1, file_out)\n",
    "\n"
   ]
  },
  {
   "cell_type": "code",
   "execution_count": 140,
   "id": "fec0314a",
   "metadata": {},
   "outputs": [
    {
     "name": "stdout",
     "output_type": "stream",
     "text": [
      "<class 'function'>\n",
      "<function f1 at 0x00000252BEAE8670>\n",
      "Hello from the jar!\n"
     ]
    }
   ],
   "source": [
    "import pickle\n",
    "\n",
    "with open('function.pckl', 'rb') as file_in:\n",
    "    data = pickle.load(file_in)\n",
    "\n",
    "print(type(data))\n",
    "print(data)\n",
    "data()\n"
   ]
  },
  {
   "cell_type": "code",
   "execution_count": 141,
   "id": "01535cd0",
   "metadata": {},
   "outputs": [],
   "source": [
    "import pickle\n",
    "\n",
    "class Cucumber:\n",
    "    def __init__(self):\n",
    "        self.size = 'small'\n",
    "\n",
    "    def get_size(self):\n",
    "        return self.size\n",
    "\n",
    "cucu = Cucumber()\n",
    "\n",
    "with open('cucumber.pckl', 'wb') as file_out:\n",
    "    pickle.dump(cucu, file_out)\n"
   ]
  },
  {
   "cell_type": "code",
   "execution_count": 143,
   "id": "738247f5",
   "metadata": {},
   "outputs": [
    {
     "name": "stdout",
     "output_type": "stream",
     "text": [
      "<class '__main__.Cucumber'>\n",
      "<__main__.Cucumber object at 0x00000252C2F9C460>\n",
      "small\n",
      "small\n"
     ]
    }
   ],
   "source": [
    "import pickle\n",
    "\n",
    "with open('cucumber.pckl', 'rb') as file_in:\n",
    "    data = pickle.load(file_in)\n",
    "\n",
    "print(type(data))\n",
    "print(data)\n",
    "print(data.size)\n",
    "print(data.get_size())\n"
   ]
  },
  {
   "cell_type": "markdown",
   "id": "f63ce553",
   "metadata": {},
   "source": [
    "# Serialization of Python objects using the shelve module\n",
    "You should treat a shelve object as a Python dictionary, with a few additional notes:\n",
    "\n",
    "- the keys must be strings;\n",
    "- Python puts the changes in a buffer which is periodically flushed to the disk. To enforce an immediate flush, call the sync() method on your shelve object;\n",
    "- when you call the close() method on an shelve object, it also flushes the buffers.\n",
    "\n",
    "When you treat a shelve object like a Python dictionary, you can make use of the dictionary utilities:\n",
    "\n",
    "- the len() function;\n",
    "- the in operator;\n",
    "- the keys() anditems() methods;\n",
    "- the update operation, which works the same as when applied to a Python dictionary;\n",
    "- the del instruction, used to delete a key-value pair.\n"
   ]
  },
  {
   "cell_type": "code",
   "execution_count": 146,
   "id": "1ada11e5",
   "metadata": {},
   "outputs": [
    {
     "name": "stdout",
     "output_type": "stream",
     "text": [
      "{'code': 'US dollar', 'symbol': '$'}\n"
     ]
    },
    {
     "data": {
      "text/plain": [
       "\"Value\\tMeaning\\n'r'\\tOpen existing database for reading only\\n'w'\\tOpen existing database for reading and writing\\n'c'\\tOpen database for reading and writing, creating it if it doesn’t exist (this is a default value)\\n'n'\\tAlways create a new, empty database, open for reading and writing\""
      ]
     },
     "execution_count": 146,
     "metadata": {},
     "output_type": "execute_result"
    }
   ],
   "source": [
    "import shelve\n",
    "\n",
    "shelve_name = 'first_shelve.shlv'\n",
    "\n",
    "my_shelve = shelve.open(shelve_name, flag='c')\n",
    "my_shelve['EUR'] = {'code':'Euro', 'symbol': '€'}\n",
    "my_shelve['GBP'] = {'code':'Pounds sterling', 'symbol': '£'}\n",
    "my_shelve['USD'] = {'code':'US dollar', 'symbol': '$'}\n",
    "my_shelve['JPY'] = {'code':'Japanese yen', 'symbol': '¥'}\n",
    "my_shelve.close()\n",
    "\n",
    "new_shelve = shelve.open(shelve_name)\n",
    "print(new_shelve['USD'])\n",
    "new_shelve.close()\n",
    "\n",
    "'''Value\tMeaning\n",
    "'r'\tOpen existing database for reading only\n",
    "'w'\tOpen existing database for reading and writing\n",
    "'c'\tOpen database for reading and writing, creating it if it doesn’t exist (this is a default value)\n",
    "'n'\tAlways create a new, empty database, open for reading and writing'''"
   ]
  },
  {
   "cell_type": "markdown",
   "id": "50995dce",
   "metadata": {},
   "source": [
    "# Introduction to metaclasses\n",
    "Tim Peters, the Python guru who authored the Zen of Python, expressed his feelings about metaclasses in the comp.lang.python newsgroup on 12/22/2002:\n",
    "\n",
    "The typical use cases for metaclasses:\n",
    "\n",
    "- logging;\n",
    "- registering classes at creation time;\n",
    "- interface checking;\n",
    "- automatically adding new methods;\n",
    "- automatically adding new variables.\n",
    ".\n",
    "These observations lead us to the following conclusions:\n",
    "\n",
    "- metaclasses are used to create classes;\n",
    "- classes are used to create objects;\n",
    "- the type of the metaclass type is type – no, that is not a typo.\n"
   ]
  },
  {
   "cell_type": "code",
   "execution_count": 147,
   "id": "310e6ea3",
   "metadata": {},
   "outputs": [
    {
     "name": "stdout",
     "output_type": "stream",
     "text": [
      "<class 'int'>\n",
      "<class 'list'>\n",
      "<class '__main__.Dog'>\n",
      "<class 'type'>\n"
     ]
    }
   ],
   "source": [
    "class Dog:\n",
    "    pass\n",
    "\n",
    "\n",
    "age = 10\n",
    "codes = [33, 92]\n",
    "dog = Dog()\n",
    "\n",
    "print(type(age))\n",
    "print(type(codes))\n",
    "print(type(dog))\n",
    "print(type(Dog))\n"
   ]
  },
  {
   "cell_type": "code",
   "execution_count": 4,
   "id": "fd117826",
   "metadata": {},
   "outputs": [
    {
     "name": "stdout",
     "output_type": "stream",
     "text": [
      "<class 'type'>\n",
      "<class 'type'>\n",
      "<class 'type'>\n"
     ]
    },
    {
     "data": {
      "text/plain": [
       "'To extend the above observations, it’s important to add:\\n\\ntype is a class that generates classes defined by a programmer;\\nmetaclasses are subclasses of the type class.'"
      ]
     },
     "execution_count": 4,
     "metadata": {},
     "output_type": "execute_result"
    }
   ],
   "source": [
    "for t in (int, list, type):\n",
    "    print(type(t))\n",
    "    \n",
    "'''To extend the above observations, it’s important to add:\n",
    "type is a class that generates classes defined by a programmer;\n",
    "metaclasses are subclasses of the type class.'''"
   ]
  },
  {
   "cell_type": "code",
   "execution_count": 9,
   "id": "0b2d9ff6",
   "metadata": {},
   "outputs": [
    {
     "name": "stdout",
     "output_type": "stream",
     "text": [
      "\"dog\" is an object of class named: Dog\n",
      "\n",
      "class \"Dog\" is an instance of: <class 'type'>\n",
      "instance \"dog\" is an instance of: <class '__main__.Dog'>\n",
      "\n",
      "class \"Dog\" is   (<class 'object'>,)\n",
      "\n",
      "class \"Dog\" attributes: {'__module__': '__main__', '__dict__': <attribute '__dict__' of 'Dog' objects>, '__weakref__': <attribute '__weakref__' of 'Dog' objects>, '__doc__': None}\n",
      "object \"dog\" attributes: {}\n",
      "\n",
      "We should get familiar with some special attributes:\n",
      "__name__ – inherent for classes; contains the name of the class;\n",
      "__class__ – inherent for both classes and instances; contains information about the class to which a class instance belongs;\n",
      "__bases__ – inherent for classes; it’s a tuple and contains information about the base classes of a class;\n",
      "__dict__ – inherent for both classes and instances; contains a dictionary (or other type mapping object) of the object's attributes.\n",
      "The output of the code presented in the right pane:\n"
     ]
    }
   ],
   "source": [
    "class Dog:\n",
    "    pass\n",
    "\n",
    "dog = Dog()\n",
    "print('\"dog\" is an object of class named:', Dog.__name__)\n",
    "print()\n",
    "print('class \"Dog\" is an instance of:', Dog.__class__)\n",
    "print('instance \"dog\" is an instance of:', dog.__class__)\n",
    "print()\n",
    "print('class \"Dog\" is  ', Dog.__bases__)\n",
    "print()\n",
    "print('class \"Dog\" attributes:', Dog.__dict__)\n",
    "print('object \"dog\" attributes:', dog.__dict__)\n",
    "print(\n",
    "'''\n",
    "We should get familiar with some special attributes:\n",
    "__name__ – inherent for classes; contains the name of the class;\n",
    "__class__ – inherent for both classes and instances; contains information about the class to which a class instance belongs;\n",
    "__bases__ – inherent for classes; it’s a tuple and contains information about the base classes of a class;\n",
    "__dict__ – inherent for both classes and instances; contains a dictionary (or other type mapping object) of the object's attributes.\n",
    "The output of the code presented in the right pane:''')"
   ]
  },
  {
   "cell_type": "code",
   "execution_count": 151,
   "id": "dc6cd4e3",
   "metadata": {},
   "outputs": [
    {
     "name": "stdout",
     "output_type": "stream",
     "text": [
      "1 is <class 'int'> <class 'int'>\n",
      "a is <class 'str'> <class 'str'>\n",
      "True is <class 'bool'> <class 'bool'>\n"
     ]
    }
   ],
   "source": [
    "for element in (1, 'a', True):\n",
    "    print(element, 'is', element.__class__, type(element))\n"
   ]
  },
  {
   "cell_type": "code",
   "execution_count": 10,
   "id": "79ce2e84",
   "metadata": {},
   "outputs": [
    {
     "name": "stdout",
     "output_type": "stream",
     "text": [
      "The class name is: Dog\n",
      "The class is an instance of: <class 'type'>\n",
      "The class is based on: (<class 'object'>,)\n",
      "The class attributes are: {'__module__': '__main__', '__dict__': <attribute '__dict__' of 'Dog' objects>, '__weakref__': <attribute '__weakref__' of 'Dog' objects>, '__doc__': None}\n"
     ]
    }
   ],
   "source": [
    "#For the invocation of type(, , ):\n",
    "#    the argument specifies the class name; this value becomes the __name__ attribute of the class;\n",
    "#    the argument specifies a tuple of the base classes from which the newly created class is inherited; this argument becomes the __bases__ attribute of the class;\n",
    "#    the argument specifies a dictionary containing method definitions and variables for the class body; the elements of this argument become the __dict__ attribute of the class and state the class namespace.\n",
    "#A very simple example, when both bases and dictionary are empty, is presented in the right pane.\n",
    "\n",
    "Dog = type('Dog', (), {})\n",
    "\n",
    "print('The class name is:', Dog.__name__)\n",
    "print('The class is an instance of:', Dog.__class__)\n",
    "print('The class is based on:', Dog.__bases__)\n",
    "print('The class attributes are:', Dog.__dict__)\n"
   ]
  },
  {
   "cell_type": "code",
   "execution_count": 11,
   "id": "797a5816",
   "metadata": {},
   "outputs": [
    {
     "name": "stdout",
     "output_type": "stream",
     "text": [
      "The class name is: Dog\n",
      "The class is an instance of: <class 'type'>\n",
      "The class is based on: (<class '__main__.Animal'>,)\n",
      "The class attributes are: {'age': 0, 'bark': <function bark at 0x000001F3BD932160>, '__module__': '__main__', '__doc__': None}\n",
      "It is feeding time!\n",
      "Woof, woof\n"
     ]
    },
    {
     "data": {
      "text/plain": [
       "\"\\nThis way of creating classes, using the type function, is substantial for Python's way of creating classes using the class instruction:\\n\\nafter the class instruction has been identified and the class body has been executed, the class = type(, , ) code is executed;\\nthe type is responsible for calling the __call__ method upon class instance creation; this method calls two other methods:\\n__new__(), responsible for creating the class instance in the computer memory; this method is run before __init__();\\n__init__(), responsible for object initialization.\\nMetaclasses usually implement these two methods (__init__, __new__), taking control of the procedure of creating and initializing a new class instance. Classes receive a new layer of logic.\""
      ]
     },
     "execution_count": 11,
     "metadata": {},
     "output_type": "execute_result"
    }
   ],
   "source": [
    "def bark(self):\n",
    "    print('Woof, woof')\n",
    "\n",
    "class Animal:\n",
    "    def feed(self):\n",
    "        print('It is feeding time!')\n",
    "\n",
    "Dog = type('Dog', (Animal, ), {'age':0, 'bark':bark})\n",
    "\n",
    "print('The class name is:', Dog.__name__)\n",
    "print('The class is an instance of:', Dog.__class__)\n",
    "print('The class is based on:', Dog.__bases__)\n",
    "print('The class attributes are:', Dog.__dict__)\n",
    "\n",
    "doggy = Dog()\n",
    "doggy.feed()\n",
    "doggy.bark()\n",
    "'''\n",
    "This way of creating classes, using the type function, is substantial for Python's way of creating classes using the class instruction:\n",
    "\n",
    "after the class instruction has been identified and the class body has been executed, the class = type(, , ) code is executed;\n",
    "the type is responsible for calling the __call__ method upon class instance creation; this method calls two other methods:\n",
    "__new__(), responsible for creating the class instance in the computer memory; this method is run before __init__();\n",
    "__init__(), responsible for object initialization.\n",
    "Metaclasses usually implement these two methods (__init__, __new__), taking control of the procedure of creating and initializing a new class instance. Classes receive a new layer of logic.'''"
   ]
  },
  {
   "cell_type": "code",
   "execution_count": 12,
   "id": "c5d7420d",
   "metadata": {},
   "outputs": [
    {
     "name": "stdout",
     "output_type": "stream",
     "text": [
      "{'__module__': '__main__', '__dict__': <attribute '__dict__' of 'My_Object' objects>, '__weakref__': <attribute '__weakref__' of 'My_Object' objects>, '__doc__': None, 'custom_attribute': 'Added by My_Meta'}\n"
     ]
    }
   ],
   "source": [
    "### 1st metaclass\n",
    "#the class My_Meta is derived from type. This makes our class a metaclass;\n",
    "class My_Meta(type):\n",
    "    #our own __new__ method has been defined. Its role is to call the __new__ method of the parent class to create a new class;\n",
    "    def __new__(mcs, name, bases, dictionary):\n",
    "        #__new__ uses 'mcs' to refer to the class – it’s just a convention;\n",
    "        obj = super().__new__(mcs, name, bases, dictionary)\n",
    "        #a class attribute is created additionally;\n",
    "        obj.custom_attribute = 'Added by My_Meta'\n",
    "        #the class is returned.\n",
    "        return obj\n",
    "#a new class has been defined in a way where a custom metaclass is listed in the class definition as a metaclass. This is a way to tell Python to use My_Meta as a metaclass, not as an ordinary superclass;\n",
    "class My_Object(metaclass=My_Meta):\n",
    "    pass\n",
    "#we are printing the contents of the class __dict__ attribute to check if the custom attribute is present.\n",
    "print(My_Object.__dict__)\n",
    "#Indeed, the class attribute has been created."
   ]
  },
  {
   "cell_type": "code",
   "execution_count": 13,
   "id": "6f4791ef",
   "metadata": {},
   "outputs": [
    {
     "name": "stdout",
     "output_type": "stream",
     "text": [
      "Just a greeting function, but it could be something more serious like a check sum\n",
      "We are ready to greet you!\n"
     ]
    }
   ],
   "source": [
    "#Metaprogramming – another metaclass\n",
    "def greetings(self):\n",
    "    print('Just a greeting function, but it could be something more serious like a check sum')\n",
    "\n",
    "class My_Meta(type):\n",
    "    def __new__(mcs, name, bases, dictionary):\n",
    "        if 'greetings' not in dictionary:\n",
    "            dictionary['greetings'] = greetings\n",
    "        obj = super().__new__(mcs, name, bases, dictionary)\n",
    "        return obj\n",
    "\n",
    "class My_Class1(metaclass=My_Meta):\n",
    "    pass\n",
    "\n",
    "class My_Class2(metaclass=My_Meta):\n",
    "    def greetings(self):\n",
    "        print('We are ready to greet you!')\n",
    "\n",
    "myobj1 = My_Class1()\n",
    "myobj1.greetings()\n",
    "myobj2 = My_Class2()\n",
    "myobj2.greetings()\n"
   ]
  },
  {
   "cell_type": "code",
   "execution_count": null,
   "id": "9786e47d",
   "metadata": {},
   "outputs": [],
   "source": []
  },
  {
   "cell_type": "code",
   "execution_count": 21,
   "id": "0d05481e",
   "metadata": {},
   "outputs": [
    {
     "data": {
      "text/plain": [
       "'2022-02-09 10:00:23'"
      ]
     },
     "execution_count": 21,
     "metadata": {},
     "output_type": "execute_result"
    }
   ],
   "source": [
    "# https://edube.org/learn/python-advanced-1/metaprogramming-lab-metaclasses\n",
    "from datetime import datetime\n",
    "\n",
    "def get_instantiation_time(self):\n",
    "    timestamp = datetime.now()\n",
    "    # convert timestamp to human-readable string, following passed pattern:\n",
    "    string_timestamp = timestamp.strftime('%Y-%m-%d %H:%M:%S')\n",
    "    return string_timestamp\n",
    "\n",
    "class My_Meta(type):\n",
    "    def __new__(mcs, name, bases, dictionary):\n",
    "        if 'instantiation_time' not in dictionary:\n",
    "            dictionary['instantiation_time'] = get_instantiation_time\n",
    "        obj = super().__new__(mcs, name, bases, dictionary)\n",
    "        return obj\n",
    "\n",
    "class My_Class1(metaclass=My_Meta):\n",
    "    pass\n",
    "\n",
    "myobj1 = My_Class1()\n",
    "myobj1.instantiation_time()\n",
    "\n"
   ]
  },
  {
   "cell_type": "markdown",
   "id": "9cc64d6b",
   "metadata": {},
   "source": [
    "https://edube.org/quiz/python-advanced-1/advanced-classes-and-oop-final-quiz\n",
    "    \n",
    "Which sentence describing an abstract class is true?\n",
    "it provides a means for API\n",
    "\n",
    "Take a look at the snippet and choose one of the follwing statments which is true\n",
    "it is enooneous as these is no abc.abstractclass decorator"
   ]
  },
  {
   "cell_type": "code",
   "execution_count": 23,
   "id": "22a0131f",
   "metadata": {},
   "outputs": [
    {
     "ename": "AttributeError",
     "evalue": "module 'abc' has no attribute 'abstractclass'",
     "output_type": "error",
     "traceback": [
      "\u001b[1;31m---------------------------------------------------------------------------\u001b[0m",
      "\u001b[1;31mAttributeError\u001b[0m                            Traceback (most recent call last)",
      "\u001b[1;32m~\\AppData\\Local\\Temp/ipykernel_14524/1183513944.py\u001b[0m in \u001b[0;36m<module>\u001b[1;34m\u001b[0m\n\u001b[0;32m      1\u001b[0m \u001b[1;32mimport\u001b[0m \u001b[0mabc\u001b[0m\u001b[1;33m\u001b[0m\u001b[1;33m\u001b[0m\u001b[0m\n\u001b[0;32m      2\u001b[0m \u001b[1;33m\u001b[0m\u001b[0m\n\u001b[1;32m----> 3\u001b[1;33m \u001b[1;33m@\u001b[0m\u001b[0mabc\u001b[0m\u001b[1;33m.\u001b[0m\u001b[0mabstractclass\u001b[0m\u001b[1;33m\u001b[0m\u001b[1;33m\u001b[0m\u001b[0m\n\u001b[0m\u001b[0;32m      4\u001b[0m \u001b[1;32mclass\u001b[0m \u001b[0mBluePrint\u001b[0m\u001b[1;33m(\u001b[0m\u001b[0mabc\u001b[0m\u001b[1;33m.\u001b[0m\u001b[0mABC\u001b[0m\u001b[1;33m)\u001b[0m\u001b[1;33m:\u001b[0m\u001b[1;33m\u001b[0m\u001b[1;33m\u001b[0m\u001b[0m\n\u001b[0;32m      5\u001b[0m     \u001b[1;33m@\u001b[0m\u001b[0mabc\u001b[0m\u001b[1;33m.\u001b[0m\u001b[0mabstractmethod\u001b[0m\u001b[1;33m\u001b[0m\u001b[1;33m\u001b[0m\u001b[0m\n",
      "\u001b[1;31mAttributeError\u001b[0m: module 'abc' has no attribute 'abstractclass'"
     ]
    }
   ],
   "source": [
    "import abc\n",
    "\n",
    "@abc.abstractclass\n",
    "class BluePrint(abc.ABC):\n",
    "    @abc.abstractmethod\n",
    "    def hello(self):\n",
    "        pass\n",
    "    \n",
    "class WhitePool(BluePrinte):\n",
    "    def hello(self):\n",
    "        print|('Welcome to the White Pool!')\n",
    "\n",
    "wp = WhitePool()\n",
    "wp.hello()"
   ]
  },
  {
   "cell_type": "markdown",
   "id": "6ede4ac6",
   "metadata": {},
   "source": [
    "The chaining concept introduces the following atribute on exception instances:\n",
    "traceback, which is inherent only for explicitly/implicitly chained exceptions\n",
    "*context, which is inherent only for implicitly chained exceptions\n",
    "cause, which is inherent only for explicitly chained exceptions\n",
    "https://www.python.org/dev/peps/pep-3134/#implicit-exception-chaining\n",
    "__cause__ is the cause of the exception - due to the given exception, the current exception was raised. This is a direct link - X threw this exception, therefore Y has to throw this exception.\n",
    "\n",
    "__context__ on the other hand means that the current exception was raised while trying to handle another exception, and defines the exception that was being handled at the time this one was raised. This is so that you don't lose the fact that the other exceptions happened (and hence were at this code to throw the exception) - the context. X threw this exception, while handling it, Y was also thrown.\n",
    "\n",
    "__traceback__ shows you the stack - the various levels of functions that have been followed to get to the current line of code. This allows you to pinpoint what caused the exception. It is likely to be used (potentially in tandem with __context__) to find what caused a given bug."
   ]
  },
  {
   "cell_type": "code",
   "execution_count": 24,
   "id": "89b3eaa4",
   "metadata": {},
   "outputs": [
    {
     "ename": "OwnMath",
     "evalue": "",
     "output_type": "error",
     "traceback": [
      "\u001b[1;31m---------------------------------------------------------------------------\u001b[0m",
      "\u001b[1;31mZeroDivisionError\u001b[0m                         Traceback (most recent call last)",
      "\u001b[1;32m~\\AppData\\Local\\Temp/ipykernel_14524/4001458828.py\u001b[0m in \u001b[0;36mcalculate_value\u001b[1;34m(numerator, denominator)\u001b[0m\n\u001b[0;32m      5\u001b[0m     \u001b[1;32mtry\u001b[0m\u001b[1;33m:\u001b[0m\u001b[1;33m\u001b[0m\u001b[1;33m\u001b[0m\u001b[0m\n\u001b[1;32m----> 6\u001b[1;33m         \u001b[0mvalue\u001b[0m \u001b[1;33m=\u001b[0m  \u001b[0mnumerator\u001b[0m \u001b[1;33m/\u001b[0m \u001b[0mdenominator\u001b[0m\u001b[1;33m\u001b[0m\u001b[1;33m\u001b[0m\u001b[0m\n\u001b[0m\u001b[0;32m      7\u001b[0m     \u001b[1;32mexcept\u001b[0m \u001b[0mZeroDivisionError\u001b[0m \u001b[1;32mas\u001b[0m \u001b[0me\u001b[0m\u001b[1;33m:\u001b[0m\u001b[1;33m\u001b[0m\u001b[1;33m\u001b[0m\u001b[0m\n",
      "\u001b[1;31mZeroDivisionError\u001b[0m: division by zero",
      "\nThe above exception was the direct cause of the following exception:\n",
      "\u001b[1;31mOwnMath\u001b[0m                                   Traceback (most recent call last)",
      "\u001b[1;32m~\\AppData\\Local\\Temp/ipykernel_14524/4001458828.py\u001b[0m in \u001b[0;36m<module>\u001b[1;34m\u001b[0m\n\u001b[0;32m      8\u001b[0m         \u001b[1;32mraise\u001b[0m \u001b[0mOwnMath\u001b[0m \u001b[1;32mfrom\u001b[0m \u001b[0me\u001b[0m\u001b[1;33m\u001b[0m\u001b[1;33m\u001b[0m\u001b[0m\n\u001b[0;32m      9\u001b[0m     \u001b[1;32mreturn\u001b[0m \u001b[0mvalue\u001b[0m\u001b[1;33m\u001b[0m\u001b[1;33m\u001b[0m\u001b[0m\n\u001b[1;32m---> 10\u001b[1;33m \u001b[0mcalculate_value\u001b[0m\u001b[1;33m(\u001b[0m\u001b[1;36m4\u001b[0m\u001b[1;33m,\u001b[0m\u001b[1;36m0\u001b[0m\u001b[1;33m)\u001b[0m\u001b[1;33m\u001b[0m\u001b[1;33m\u001b[0m\u001b[0m\n\u001b[0m",
      "\u001b[1;32m~\\AppData\\Local\\Temp/ipykernel_14524/4001458828.py\u001b[0m in \u001b[0;36mcalculate_value\u001b[1;34m(numerator, denominator)\u001b[0m\n\u001b[0;32m      6\u001b[0m         \u001b[0mvalue\u001b[0m \u001b[1;33m=\u001b[0m  \u001b[0mnumerator\u001b[0m \u001b[1;33m/\u001b[0m \u001b[0mdenominator\u001b[0m\u001b[1;33m\u001b[0m\u001b[1;33m\u001b[0m\u001b[0m\n\u001b[0;32m      7\u001b[0m     \u001b[1;32mexcept\u001b[0m \u001b[0mZeroDivisionError\u001b[0m \u001b[1;32mas\u001b[0m \u001b[0me\u001b[0m\u001b[1;33m:\u001b[0m\u001b[1;33m\u001b[0m\u001b[1;33m\u001b[0m\u001b[0m\n\u001b[1;32m----> 8\u001b[1;33m         \u001b[1;32mraise\u001b[0m \u001b[0mOwnMath\u001b[0m \u001b[1;32mfrom\u001b[0m \u001b[0me\u001b[0m\u001b[1;33m\u001b[0m\u001b[1;33m\u001b[0m\u001b[0m\n\u001b[0m\u001b[0;32m      9\u001b[0m     \u001b[1;32mreturn\u001b[0m \u001b[0mvalue\u001b[0m\u001b[1;33m\u001b[0m\u001b[1;33m\u001b[0m\u001b[0m\n\u001b[0;32m     10\u001b[0m \u001b[0mcalculate_value\u001b[0m\u001b[1;33m(\u001b[0m\u001b[1;36m4\u001b[0m\u001b[1;33m,\u001b[0m\u001b[1;36m0\u001b[0m\u001b[1;33m)\u001b[0m\u001b[1;33m\u001b[0m\u001b[1;33m\u001b[0m\u001b[0m\n",
      "\u001b[1;31mOwnMath\u001b[0m: "
     ]
    }
   ],
   "source": [
    "# the following snippet is an example of what kind of exception chaining?\n",
    "class OwnMath(Exception):\n",
    "    pass\n",
    "def calculate_value(numerator, denominator):\n",
    "    try:\n",
    "        value =  numerator / denominator\n",
    "    except ZeroDivisionError as e:\n",
    "        raise OwnMath from e\n",
    "    return value\n",
    "calculate_value(4,0)\n",
    "'''explicitly chained exceptions'''"
   ]
  },
  {
   "cell_type": "markdown",
   "id": "358ff177",
   "metadata": {},
   "source": [
    "@property is used to decorator:\n",
    "an 'access controller' type methods  XXX\n",
    "any proxying method\n",
    "\n",
    "what should be the order of decorators, placed in your code, controlling access to one specific attribute?\n",
    "first @property then @attibute.setter or @attribute.deleter\n"
   ]
  },
  {
   "cell_type": "code",
   "execution_count": 26,
   "id": "8ad31942",
   "metadata": {},
   "outputs": [],
   "source": [
    "#look at the following code and name its elemets\n",
    "class A:\n",
    "    def __init_():\n",
    "        self.name = Non\n",
    "        \n",
    "    def function(self, value):\n",
    "        self.b= value\n",
    "        \n",
    "a=A()\n",
    "# A is a class, fuction is an object, a is an object"
   ]
  },
  {
   "cell_type": "code",
   "execution_count": null,
   "id": "0caff34a",
   "metadata": {},
   "outputs": [],
   "source": [
    "what is the difference between inheritance and composition?\n",
    "inheritance models and 'is a' relation whereas composition models a 'has a' relation\n",
    "\n",
    "the id() function returns:\n",
    "the identity of the object, a unique value amongst other objects.\n",
    "\n",
    "selcet the true statement about class methods:\n",
    "class methods are methods that work on the class itself.\n",
    "\n",
    "what are class methods:\n",
    "class methods are tool methods available to all class instances.\n",
    "\n",
    "True statement:\n",
    "*args refers to a tuple of all not explicitly expected arguments; **kwargs refers to a dictionary of all not explicitly expected keyword arguments\n",
    "\n",
    "What is a decorator? select the best answer.\n",
    "it can be a function that returns a function that can be called later\n",
    "\n",
    "which function can be used to get a list of methods inherence to an object?\n",
    "__dict()__ **?\n",
    "dict()\n",
    "__help()__\n",
    "help()\n",
    "\n"
   ]
  },
  {
   "cell_type": "code",
   "execution_count": 35,
   "id": "be9d137c",
   "metadata": {},
   "outputs": [
    {
     "name": "stdout",
     "output_type": "stream",
     "text": [
      "Help on dict object:\n",
      "\n",
      "class dict(object)\n",
      " |  dict() -> new empty dictionary\n",
      " |  dict(mapping) -> new dictionary initialized from a mapping object's\n",
      " |      (key, value) pairs\n",
      " |  dict(iterable) -> new dictionary initialized as if via:\n",
      " |      d = {}\n",
      " |      for k, v in iterable:\n",
      " |          d[k] = v\n",
      " |  dict(**kwargs) -> new dictionary initialized with the name=value pairs\n",
      " |      in the keyword argument list.  For example:  dict(one=1, two=2)\n",
      " |  \n",
      " |  Built-in subclasses:\n",
      " |      StgDict\n",
      " |  \n",
      " |  Methods defined here:\n",
      " |  \n",
      " |  __contains__(self, key, /)\n",
      " |      True if the dictionary has the specified key, else False.\n",
      " |  \n",
      " |  __delitem__(self, key, /)\n",
      " |      Delete self[key].\n",
      " |  \n",
      " |  __eq__(self, value, /)\n",
      " |      Return self==value.\n",
      " |  \n",
      " |  __ge__(self, value, /)\n",
      " |      Return self>=value.\n",
      " |  \n",
      " |  __getattribute__(self, name, /)\n",
      " |      Return getattr(self, name).\n",
      " |  \n",
      " |  __getitem__(...)\n",
      " |      x.__getitem__(y) <==> x[y]\n",
      " |  \n",
      " |  __gt__(self, value, /)\n",
      " |      Return self>value.\n",
      " |  \n",
      " |  __init__(self, /, *args, **kwargs)\n",
      " |      Initialize self.  See help(type(self)) for accurate signature.\n",
      " |  \n",
      " |  __ior__(self, value, /)\n",
      " |      Return self|=value.\n",
      " |  \n",
      " |  __iter__(self, /)\n",
      " |      Implement iter(self).\n",
      " |  \n",
      " |  __le__(self, value, /)\n",
      " |      Return self<=value.\n",
      " |  \n",
      " |  __len__(self, /)\n",
      " |      Return len(self).\n",
      " |  \n",
      " |  __lt__(self, value, /)\n",
      " |      Return self<value.\n",
      " |  \n",
      " |  __ne__(self, value, /)\n",
      " |      Return self!=value.\n",
      " |  \n",
      " |  __or__(self, value, /)\n",
      " |      Return self|value.\n",
      " |  \n",
      " |  __repr__(self, /)\n",
      " |      Return repr(self).\n",
      " |  \n",
      " |  __reversed__(self, /)\n",
      " |      Return a reverse iterator over the dict keys.\n",
      " |  \n",
      " |  __ror__(self, value, /)\n",
      " |      Return value|self.\n",
      " |  \n",
      " |  __setitem__(self, key, value, /)\n",
      " |      Set self[key] to value.\n",
      " |  \n",
      " |  __sizeof__(...)\n",
      " |      D.__sizeof__() -> size of D in memory, in bytes\n",
      " |  \n",
      " |  clear(...)\n",
      " |      D.clear() -> None.  Remove all items from D.\n",
      " |  \n",
      " |  copy(...)\n",
      " |      D.copy() -> a shallow copy of D\n",
      " |  \n",
      " |  get(self, key, default=None, /)\n",
      " |      Return the value for key if key is in the dictionary, else default.\n",
      " |  \n",
      " |  items(...)\n",
      " |      D.items() -> a set-like object providing a view on D's items\n",
      " |  \n",
      " |  keys(...)\n",
      " |      D.keys() -> a set-like object providing a view on D's keys\n",
      " |  \n",
      " |  pop(...)\n",
      " |      D.pop(k[,d]) -> v, remove specified key and return the corresponding value.\n",
      " |      \n",
      " |      If key is not found, default is returned if given, otherwise KeyError is raised\n",
      " |  \n",
      " |  popitem(self, /)\n",
      " |      Remove and return a (key, value) pair as a 2-tuple.\n",
      " |      \n",
      " |      Pairs are returned in LIFO (last-in, first-out) order.\n",
      " |      Raises KeyError if the dict is empty.\n",
      " |  \n",
      " |  setdefault(self, key, default=None, /)\n",
      " |      Insert key with a value of default if key is not in the dictionary.\n",
      " |      \n",
      " |      Return the value for key if key is in the dictionary, else default.\n",
      " |  \n",
      " |  update(...)\n",
      " |      D.update([E, ]**F) -> None.  Update D from dict/iterable E and F.\n",
      " |      If E is present and has a .keys() method, then does:  for k in E: D[k] = E[k]\n",
      " |      If E is present and lacks a .keys() method, then does:  for k, v in E: D[k] = v\n",
      " |      In either case, this is followed by: for k in F:  D[k] = F[k]\n",
      " |  \n",
      " |  values(...)\n",
      " |      D.values() -> an object providing a view on D's values\n",
      " |  \n",
      " |  ----------------------------------------------------------------------\n",
      " |  Class methods defined here:\n",
      " |  \n",
      " |  __class_getitem__(...) from builtins.type\n",
      " |      See PEP 585\n",
      " |  \n",
      " |  fromkeys(iterable, value=None, /) from builtins.type\n",
      " |      Create a new dictionary with keys from iterable and values set to value.\n",
      " |  \n",
      " |  ----------------------------------------------------------------------\n",
      " |  Static methods defined here:\n",
      " |  \n",
      " |  __new__(*args, **kwargs) from builtins.type\n",
      " |      Create and return a new object.  See help(type) for accurate signature.\n",
      " |  \n",
      " |  ----------------------------------------------------------------------\n",
      " |  Data and other attributes defined here:\n",
      " |  \n",
      " |  __hash__ = None\n",
      "\n"
     ]
    }
   ],
   "source": [
    "a=dict()\n",
    "help(a)"
   ]
  }
 ],
 "metadata": {
  "kernelspec": {
   "display_name": "Python 3 (ipykernel)",
   "language": "python",
   "name": "python3"
  },
  "language_info": {
   "codemirror_mode": {
    "name": "ipython",
    "version": 3
   },
   "file_extension": ".py",
   "mimetype": "text/x-python",
   "name": "python",
   "nbconvert_exporter": "python",
   "pygments_lexer": "ipython3",
   "version": "3.9.7"
  }
 },
 "nbformat": 4,
 "nbformat_minor": 5
}
