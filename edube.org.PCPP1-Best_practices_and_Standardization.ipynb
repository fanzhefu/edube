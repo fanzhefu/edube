{
 "cells": [
  {
   "cell_type": "markdown",
   "id": "4ae8398a",
   "metadata": {},
   "source": [
    "_ In this course, you will learn about:<br>\n",
    "\n",
    "**PEP(Python Enhancement Proposals)** :  the language standards and provides information about many changes and processes related to Python.\n",
    "- PEP 1 – PEP Purpose and Guidelines, which provides information about the purpose of PEPs, their types, and introduces general guidelines;\n",
    "- PEP 20 (The Zen of Python)\n",
    "- PEP 8 (Style Guide for Python Code)\n",
    "- PEP 257 (Docstring conventions)\n",
    "- how to avoid common errors and mistakes when writing code;\n",
    "- how to write elegant and effective code.\n"
   ]
  },
  {
   "cell_type": "code",
   "execution_count": null,
   "id": "3235927b",
   "metadata": {},
   "outputs": [],
   "source": [
    "#pep 1\n",
    "'''Python’s Steering Council, i.e., a five-person committee and the final authorities who accept or reject PEPs;\n",
    "Python’s Core Developers, i.e., the group of volunteers who manage Python, and;\n",
    "Python’s BDFL, i.e., Guido van Rossum, the original creator of Python, who served as the project’s Benevolent Dictator For Life until 2018, when he resigned from the decision-making process.\n",
    "'''"
   ]
  },
  {
   "cell_type": "markdown",
   "id": "c9b7e1bb",
   "metadata": {},
   "source": [
    "## pep 20"
   ]
  },
  {
   "cell_type": "code",
   "execution_count": 1,
   "id": "111a7d4c",
   "metadata": {},
   "outputs": [
    {
     "name": "stdout",
     "output_type": "stream",
     "text": [
      "The Zen of Python, by Tim Peters\n",
      "\n",
      "Beautiful is better than ugly.\n",
      "Explicit is better than implicit.\n",
      "Simple is better than complex.\n",
      "Complex is better than complicated.\n",
      "Flat is better than nested.\n",
      "Sparse is better than dense.\n",
      "Readability counts.\n",
      "Special cases aren't special enough to break the rules.\n",
      "Although practicality beats purity.\n",
      "Errors should never pass silently.\n",
      "Unless explicitly silenced.\n",
      "In the face of ambiguity, refuse the temptation to guess.\n",
      "There should be one-- and preferably only one --obvious way to do it.\n",
      "Although that way may not be obvious at first unless you're Dutch.\n",
      "Now is better than never.\n",
      "Although never is often better than *right* now.\n",
      "If the implementation is hard to explain, it's a bad idea.\n",
      "If the implementation is easy to explain, it may be a good idea.\n",
      "Namespaces are one honking great idea -- let's do more of those!\n"
     ]
    }
   ],
   "source": [
    "\n",
    "import this"
   ]
  },
  {
   "cell_type": "code",
   "execution_count": 2,
   "id": "635b68c1",
   "metadata": {},
   "outputs": [
    {
     "name": "stdout",
     "output_type": "stream",
     "text": [
      "The length of the 'a' side:3\n",
      "The length of the 'b' side:4\n"
     ]
    },
    {
     "ename": "NameError",
     "evalue": "name 'a' is not defined",
     "output_type": "error",
     "traceback": [
      "\u001b[1;31m---------------------------------------------------------------------------\u001b[0m",
      "\u001b[1;31mNameError\u001b[0m                                 Traceback (most recent call last)",
      "Input \u001b[1;32mIn [2]\u001b[0m, in \u001b[0;36m<module>\u001b[1;34m\u001b[0m\n\u001b[0;32m      2\u001b[0m sidea \u001b[38;5;241m=\u001b[39m \u001b[38;5;28mfloat\u001b[39m(\u001b[38;5;28minput\u001b[39m(\u001b[38;5;124m\"\u001b[39m\u001b[38;5;124mThe length of the \u001b[39m\u001b[38;5;124m'\u001b[39m\u001b[38;5;124ma\u001b[39m\u001b[38;5;124m'\u001b[39m\u001b[38;5;124m side:\u001b[39m\u001b[38;5;124m\"\u001b[39m))\n\u001b[0;32m      3\u001b[0m sideb \u001b[38;5;241m=\u001b[39m \u001b[38;5;28mfloat\u001b[39m(\u001b[38;5;28minput\u001b[39m(\u001b[38;5;124m\"\u001b[39m\u001b[38;5;124mThe length of the \u001b[39m\u001b[38;5;124m'\u001b[39m\u001b[38;5;124mb\u001b[39m\u001b[38;5;124m'\u001b[39m\u001b[38;5;124m side:\u001b[39m\u001b[38;5;124m\"\u001b[39m))\n\u001b[1;32m----> 4\u001b[0m sidec \u001b[38;5;241m=\u001b[39m sqrt(\u001b[43ma\u001b[49m\u001b[38;5;241m*\u001b[39m\u001b[38;5;241m*\u001b[39m\u001b[38;5;241m2\u001b[39m\u001b[38;5;241m+\u001b[39mb\u001b[38;5;241m*\u001b[39m\u001b[38;5;241m*\u001b[39m\u001b[38;5;241m2\u001b[39m)\n\u001b[0;32m      5\u001b[0m \u001b[38;5;28mprint\u001b[39m(\u001b[38;5;124m\"\u001b[39m\u001b[38;5;124mThe length of the hypotenuse is\u001b[39m\u001b[38;5;124m\"\u001b[39m, sidec )\n\u001b[0;32m      7\u001b[0m \u001b[38;5;28;01mfrom\u001b[39;00m \u001b[38;5;21;01mmath\u001b[39;00m \u001b[38;5;28;01mimport\u001b[39;00m sqrt\n",
      "\u001b[1;31mNameError\u001b[0m: name 'a' is not defined"
     ]
    }
   ],
   "source": [
    "from math import sqrt\n",
    "sidea = float(input(\"The length of the 'a' side:\"))\n",
    "sideb = float(input(\"The length of the 'b' side:\"))\n",
    "sidec = sqrt(a**2+b**2)\n",
    "print(\"The length of the hypotenuse is\", sidec )\n",
    "\n",
    "#Beautiful is better than ugly\n",
    "from math import sqrt\n",
    "\n",
    "side_a = float(input(\"The length of the 'a' side: \"))\n",
    "side_b = float(input(\"The length of the 'b' side: \"))\n",
    "hypotenuse = sqrt(a**2 + b**2)\n",
    "\n",
    "print(\"The length of the hypotenuse is\", hypotenuse)"
   ]
  },
  {
   "cell_type": "markdown",
   "id": "a2570018",
   "metadata": {},
   "source": [
    "from fruit import *\n",
    "\n",
    "apples(2, 3.45)\n",
    "\n",
    "#Explicit is better than implicit\n",
    "\n",
    "from fruit import apples, bananas\n",
    "\n",
    "apples(quantity=2, price=3.45)"
   ]
  },
  {
   "cell_type": "code",
   "execution_count": null,
   "id": "ae065418",
   "metadata": {},
   "outputs": [],
   "source": [
    "import heapq\n",
    "\n",
    "numbers = [-1, 12, -5, 0, 7, 21, 15, 1]\n",
    "heapq.heapify(numbers)\n",
    "\n",
    "sorted_numbers = []\n",
    "\n",
    "while numbers:\n",
    "    sorted_numbers.append(heapq.heappop(numbers))\n",
    "\n",
    "print(sorted_numbers)\n",
    "#Simple is better than complex\n",
    "numbers = [-1, 12, -5, 0, 7, 21, 15, 1]\n",
    "numbers.sort()\n",
    "\n",
    "print(numbers)\n"
   ]
  },
  {
   "cell_type": "code",
   "execution_count": null,
   "id": "6d32c11d",
   "metadata": {},
   "outputs": [],
   "source": [
    "first_number = int(input(\"Enter the first number: \"))\n",
    "second_number = int(input(\"Enter the second number: \"))\n",
    "addition_result = first_number + second_number\n",
    "print(first_number, \"+\", second_number, \"=\", addition_result)\n",
    "first_number = int(input(\"Enter the first number: \"))\n",
    "second_number = int(input(\"Enter the second number: \"))\n",
    "addition_result = first_number + second_number\n",
    "print(first_number, \"+\", second_number, \"=\", addition_result)\n",
    "first_number = int(input(\"Enter the first number: \"))\n",
    "second_number = int(input(\"Enter the second number: \"))\n",
    "addition_result = first_number + second_number\n",
    "print(first_number, \"+\", second_number, \"=\", addition_result)\n",
    "first_number = int(input(\"Enter the first number: \"))\n",
    "second_number = int(input(\"Enter the second number: \"))\n",
    "addition_result = first_number + second_number\n",
    "print(first_number, \"+\", second_number, \"=\", addition_result)\n",
    "first_number = int(input(\"Enter the first number: \"))\n",
    "second_number = int(input(\"Enter the second number: \"))\n",
    "addition_result = first_number + second_number\n",
    "print(first_number, \"+\", second_number, \"=\", addition_result)\n",
    "\n",
    "#Complex is better than complicated\n",
    "def addition(x, y):\n",
    "    print(x, \"+\", y, \"=\", x+y)\n",
    "\n",
    "for i in range(5):\n",
    "    first_number = int(input(\"Enter the first number: \"))\n",
    "    second_number = int(input(\"Enter the second number: \"))\n",
    "    addition(first_number, second_number)\n"
   ]
  },
  {
   "cell_type": "code",
   "execution_count": 3,
   "id": "c9e4b9bd",
   "metadata": {},
   "outputs": [
    {
     "name": "stdout",
     "output_type": "stream",
     "text": [
      "Enter a number: 2\n",
      "Enter a number: 3\n",
      "x is not a number between 4 and 6.\n"
     ]
    }
   ],
   "source": [
    "x = float(input(\"Enter a number: \"))\n",
    "\n",
    "if x > 0:\n",
    "    if x > 1:\n",
    "        if x > 2:\n",
    "            if x > 3:\n",
    "                if x >= 4:\n",
    "                    if x <= 6:\n",
    "                        print(\"x is a number between 4 and 6.\")\n",
    "else:\n",
    "    print(\"x is not a number between 4 and 6.\")\n",
    "    \n",
    "# Flat is better than nested\n",
    "x = float(input(\"Enter a number: \"))\n",
    "\n",
    "if x >= 4 and x <=6:\n",
    "    print(\"x is a number between 4 and 6.\")\n",
    "else:\n",
    "    print(\"x is not a number between 4 and 6.\")"
   ]
  },
  {
   "cell_type": "code",
   "execution_count": null,
   "id": "cda7cffc",
   "metadata": {},
   "outputs": [],
   "source": [
    "x = 1\n",
    "if x == 1 : print(\"Hello, World!\")\n",
    "    \n",
    "#Sparse is better than dense\n",
    "x = 1\n",
    "if x == 1:\n",
    "    print(\"Hello, World!\")"
   ]
  },
  {
   "cell_type": "code",
   "execution_count": null,
   "id": "1866deee",
   "metadata": {},
   "outputs": [],
   "source": [
    "def f(i):\n",
    "    l = i + (0.08 * i)\n",
    "    return l\n",
    "\n",
    "#Readability counts\n",
    "# Calculates the gross price of products in Wonderland.\n",
    "\n",
    "def calculate_gross_price(net_price):\n",
    "    gross_price = net_price + (0.08 * net_price)\n",
    "    return gross_price\n"
   ]
  },
  {
   "cell_type": "code",
   "execution_count": null,
   "id": "3abd21ec",
   "metadata": {},
   "outputs": [],
   "source": [
    "def multiply_two_numbers(first_number, second_number):\n",
    "    return first_number * second_number\n",
    "\n",
    "print(multiply_two_numbers(7, 9))\n",
    "\n",
    "\n",
    "def addingTwoNumbers(firstNumber, secondNumber):\n",
    "    return firstNumber + secondNumber\n",
    "\n",
    "print(addingTwoNumbers(7, 9))\n",
    "\n",
    "# Special cases aren't special enough to break the rules...\n",
    "def multiply_two_numbers(first_number, second_number):\n",
    "    return first_number * second_number\n",
    "\n",
    "print(multiply_two_numbers(7, 9))\n",
    "\n",
    "\n",
    "def add_two_numbers(first_number, second_number):\n",
    "    return first_number + second_number\n",
    "\n",
    "print(add_two_numbers(7, 9))\n",
    "\n",
    "#...Although, practicality beats purity\n"
   ]
  },
  {
   "cell_type": "code",
   "execution_count": null,
   "id": "51945bbc",
   "metadata": {},
   "outputs": [],
   "source": [
    "number = input(\"Enter a number: \")\n",
    "multiply_number_by_two = number * 2\n",
    "\n",
    "print(\"Your number multiplied by two is:\", multiply_number_by_two)\n",
    "#Errors should never pass silently...\n",
    "number = int(input(\"Enter a number: \"))\n",
    "multiply_number_by_two = number * 2\n",
    "\n",
    "print(\"Your number multiplied by two is:\", multiply_number_by_two)\n",
    "#\n",
    "try:\n",
    "    print(1/0)\n",
    "except Exception as e:\n",
    "    pass\n",
    "# Errors should never pass silently...\n",
    "#\"...Unless explicitly silenced.\"\n",
    "\n",
    "try:\n",
    "    print(1/0)\n",
    "except ZeroDivisionError:\n",
    "    print(\"Don't divide by zero!\")\n",
    "    \n",
    "try:\n",
    "    number = int(input(\"Enter an integer number: \"))\n",
    "except:\n",
    "    number = 0"
   ]
  },
  {
   "cell_type": "code",
   "execution_count": 5,
   "id": "a4c80258",
   "metadata": {},
   "outputs": [
    {
     "name": "stdout",
     "output_type": "stream",
     "text": [
      "False\n",
      "True\n",
      "False\n",
      "False\n",
      "True\n",
      "True\n",
      "11\n",
      "2\n"
     ]
    },
    {
     "ename": "TypeError",
     "evalue": "unsupported operand type(s) for +: 'int' and 'str'",
     "output_type": "error",
     "traceback": [
      "\u001b[1;31m---------------------------------------------------------------------------\u001b[0m",
      "\u001b[1;31mTypeError\u001b[0m                                 Traceback (most recent call last)",
      "Input \u001b[1;32mIn [5]\u001b[0m, in \u001b[0;36m<module>\u001b[1;34m\u001b[0m\n\u001b[0;32m     15\u001b[0m \u001b[38;5;28mprint\u001b[39m(\u001b[38;5;124m\"\u001b[39m\u001b[38;5;124m1\u001b[39m\u001b[38;5;124m\"\u001b[39m \u001b[38;5;241m+\u001b[39m \u001b[38;5;124m\"\u001b[39m\u001b[38;5;124m1\u001b[39m\u001b[38;5;124m\"\u001b[39m)\n\u001b[0;32m     16\u001b[0m \u001b[38;5;28mprint\u001b[39m(\u001b[38;5;241m1\u001b[39m \u001b[38;5;241m+\u001b[39m \u001b[38;5;241m1\u001b[39m)\n\u001b[1;32m---> 17\u001b[0m \u001b[38;5;28mprint\u001b[39m(\u001b[38;5;241;43m1\u001b[39;49m\u001b[43m \u001b[49m\u001b[38;5;241;43m+\u001b[39;49m\u001b[43m \u001b[49m\u001b[38;5;124;43m\"\u001b[39;49m\u001b[38;5;124;43m1\u001b[39;49m\u001b[38;5;124;43m\"\u001b[39;49m)\n",
      "\u001b[1;31mTypeError\u001b[0m: unsupported operand type(s) for +: 'int' and 'str'"
     ]
    }
   ],
   "source": [
    "#In the face of ambiguity, refuse the temptation to guess.\n",
    "\n",
    "def fun(x=0, y=0, z=0, a=1, b=2, c=3):\n",
    "    pass\n",
    "\n",
    "fun(1, 2, 3)\n",
    "fun(a=1, b=2, c=3)\n",
    "#\n",
    "print(\"A\" > \"a\")\n",
    "print(1.0 == 1)\n",
    "print(\"1\" == 1)\n",
    "print(True == \"1\")\n",
    "print(True == 1)\n",
    "print(True == 1.0)\n",
    "print(\"1\" + \"1\")\n",
    "print(1 + 1)\n",
    "print(1 + \"1\")\n"
   ]
  },
  {
   "cell_type": "code",
   "execution_count": null,
   "id": "76073123",
   "metadata": {},
   "outputs": [],
   "source": [
    "# There should be one – and preferably only one – obvious way to do it\n",
    "# “Although that way may not be obvious at first unless you're Dutch.”\n",
    "\n",
    "first_name = input(\"Enter your first name: \")\n",
    "last_name = input(\"Enter your last name: \")\n",
    "\n",
    "print(\"Your name is:\", first_name, last_name)\n",
    "print(\"Your name is:\" + \" \" + first_name + \" \" + last_name)\n",
    "print(\"Your name is: {} {}\".format(first_name, last_name))"
   ]
  },
  {
   "cell_type": "code",
   "execution_count": null,
   "id": "c5679ad2",
   "metadata": {},
   "outputs": [],
   "source": [
    "# Now is better than never\n",
    "# “Although never is often better than *right* now.”\n",
    "\n",
    "def deprecated_function():\n",
    "    raise DeprecationWarning\n"
   ]
  },
  {
   "cell_type": "code",
   "execution_count": null,
   "id": "bab1b1db",
   "metadata": {},
   "outputs": [],
   "source": [
    "# If the implementation is hard to explain, it's a bad idea\n"
   ]
  },
  {
   "cell_type": "code",
   "execution_count": 6,
   "id": "c146600f",
   "metadata": {},
   "outputs": [
    {
     "ename": "ModuleNotFoundError",
     "evalue": "No module named 'instruments'",
     "output_type": "error",
     "traceback": [
      "\u001b[1;31m---------------------------------------------------------------------------\u001b[0m",
      "\u001b[1;31mModuleNotFoundError\u001b[0m                       Traceback (most recent call last)",
      "Input \u001b[1;32mIn [6]\u001b[0m, in \u001b[0;36m<module>\u001b[1;34m\u001b[0m\n\u001b[1;32m----> 1\u001b[0m \u001b[38;5;28;01mfrom\u001b[39;00m \u001b[38;5;21;01minstruments\u001b[39;00m\u001b[38;5;21;01m.\u001b[39;00m\u001b[38;5;21;01mguitars\u001b[39;00m \u001b[38;5;28;01mimport\u001b[39;00m fender, ibanez\n\u001b[0;32m      3\u001b[0m fender(page)\n\u001b[0;32m      4\u001b[0m ibanez(vai)\n",
      "\u001b[1;31mModuleNotFoundError\u001b[0m: No module named 'instruments'"
     ]
    }
   ],
   "source": [
    "from instruments.guitars import fender, ibanez\n",
    "\n",
    "fender(page)\n",
    "ibanez(vai)\n",
    "\n",
    "# Namespaces are one honking great idea – let's do more of those!\n",
    "from instruments import guitars\n",
    "\n",
    "guitars.fender(page)\n",
    "guitars.ibanez(vai)\n",
    "\n",
    "''' Why? Because the example will clearly show that fender and ibanez come from a different module, not from within the local scope. '''\n"
   ]
  },
  {
   "cell_type": "markdown",
   "id": "f425f688",
   "metadata": {},
   "source": [
    "## pep 8 coding conventions**\n",
    "\n",
    "**our code will be read much more often than it will be written.**"
   ]
  },
  {
   "cell_type": "code",
   "execution_count": null,
   "id": "a5bbc6bd",
   "metadata": {},
   "outputs": [],
   "source": [
    "# PEP 8 compliant checkers\n",
    "\n",
    "# $ pip install pycodestyle\n",
    "# install autopep8 to automatically format your Python code to conform to the PEP 8 guidelines. \n",
    "# https://pypi.org/project/autopep8/\n",
    "# $ pip install --upgrade autopep8\n",
    "# $ autopep8 --in-place --aggressive --aggressive <filename>\n",
    "\n",
    "# PEP 8 online \n",
    "# http://pep8online.com/about"
   ]
  },
  {
   "cell_type": "code",
   "execution_count": null,
   "id": "e4995046",
   "metadata": {},
   "outputs": [],
   "source": [
    "# Bad:\n",
    "\n",
    "def my_fun_one(x, y):\n",
    "    return x * y\n",
    "\n",
    "def my_fun_two(a, b):\n",
    "  return a + b\n",
    "\n",
    "# Recommendations for Code Layout\n",
    "\n",
    "# Good:\n",
    "\n",
    "def my_function(x, y):\n",
    "    return x * y\n"
   ]
  },
  {
   "cell_type": "code",
   "execution_count": null,
   "id": "19ae6ed1",
   "metadata": {},
   "outputs": [],
   "source": [
    "# Continuation lines\n",
    "# Bad:\n",
    "\n",
    "my_list_one = [1, 2, 3,\n",
    "    4, 5, 6\n",
    "]\n",
    "\n",
    "a = my_function_name(a, b, c,\n",
    "    d, e, f)\n",
    "#\n",
    "# Good:\n",
    "\n",
    "my_list_one = [\n",
    "    1, 2, 3,\n",
    "    4, 5, 6,\n",
    "    ]\n",
    "\n",
    "a = my_function_name(a, b, c,\n",
    "                       d, e, f)\n",
    "\n",
    "#Line breaks and operators\n",
    "# Recommended\n",
    "\n",
    "total_fruits = (apples\n",
    "                + pears\n",
    "                + grapes\n",
    "                - (black currants - red currants)\n",
    "                - bananas\n",
    "                + oranges)\n",
    "\n",
    "# limit all lines to a maximum of 79 characters "
   ]
  },
  {
   "cell_type": "code",
   "execution_count": null,
   "id": "672537cf",
   "metadata": {},
   "outputs": [],
   "source": [
    "# Blank Lines\n",
    "#two blank lines to surround top-level function and class definitions:\n",
    "class ClassOne:\n",
    "    pass\n",
    "\n",
    "\n",
    "Class ClassTwo:\n",
    "    pass\n",
    "\n",
    "\n",
    "def my_top_level_function():\n",
    "    return None\n",
    "\n",
    "#a single blank line to surround method definitions inside a class:\n",
    "class MyClass:\n",
    "    def method_one(self):\n",
    "        return None\n",
    "\n",
    "    def method_two(self):\n",
    "        return None\n",
    "# blank lines in functions in order to indicate logical sections (sparingly). For example:\n",
    "def calculate_average():\n",
    "    how_many_numbers = int(input(\"How many numbers? \"))\n",
    "    \n",
    "    if how_many_numbers > 0:\n",
    "        sum_numbers = 0\n",
    "        for i in range(0, how_many_numbers):\n",
    "            number = float(input(\"Enter a number: \"))\n",
    "            sum_numbers += number\n",
    "\n",
    "        average = 0\n",
    "        average = sum_numbers / how_many_numbers\n",
    "\n",
    "        return average\n",
    "    else:\n",
    "        return \"Nothing happens.\"\n"
   ]
  },
  {
   "cell_type": "code",
   "execution_count": null,
   "id": "b0c28205",
   "metadata": {},
   "outputs": [],
   "source": [
    "# Default encodings\n",
    "#  use Python’s default encodings (Python 3 -- UTF-8, Python 2 -- ASCII). \n",
    "\n",
    "# Imports\n",
    "#  put imports at the beginning of your script, between module comments/docstrings and module globals and constants, respecting the following order:\n",
    "# Standard library imports;\n",
    "# Related third-party imports;\n",
    "# Local application/library specific imports.\n",
    "# Make sure you insert a blank line to separate each of the above groups of imports.\n",
    "# Bad:\n",
    "\n",
    "import sys, os\n",
    "# Good:\n",
    "\n",
    "import os\n",
    "import sys\n",
    "\n",
    "from subprocess import Popen, PIPE\n",
    "import animals.mammals.dogs.puppies\n",
    "# avoid using wildcard imports, for example:\n",
    "from animals import *\n"
   ]
  },
  {
   "cell_type": "code",
   "execution_count": null,
   "id": "dc5e899c",
   "metadata": {},
   "outputs": [],
   "source": [
    "# Recommendations for string quotes, whitespace, and trailing commas\n",
    "# avoid using backslashes (escape characters) in strings. This means that:\n",
    "'''if your string contains single-quote characters, it’s recommended that you use double-quoted strings;\n",
    "if your string contains double-quote characters, it’s recommended that you use single-quoted strings.'''\n",
    "\n",
    "# Bad:\n",
    "\n",
    "my_list = ( dog[ 2 ] , 5 , { \"year\": 1980 } , \"string\" )\n",
    "if 5 in my_list : print( \"Hello!\" ) ; print( \"Goodbye!\" )\n",
    "\n",
    "# Good:\n",
    "\n",
    "my_list = (dog[2], 5, {\"year\": 1980}, \"string\")\n",
    "if 5 in my_list: print(\"Hello!\"); print(\"Goodbye!\")\n",
    "    \n",
    "# Bad:\n",
    "\n",
    "bread[0 : 3], roll[1: 3 :5], bun[3: 5:], donut[ 1: :5 ]\n",
    "\n",
    "# Good:\n",
    "\n",
    "bread[0:3], roll[1:3:5], bun[3:5:], donut[1::5]\n",
    "\n",
    "# Bad:\n",
    "\n",
    "my_tuple = (0, 1, 2, )\n",
    "my_function (5)\n",
    "my_dictionary ['key'] = my_list [index]\n",
    "\n",
    "# Good:\n",
    "\n",
    "my_tuple = (0, 1, 2,)\n",
    "my_function(5)\n",
    "my_dictionary['key'] = my_list[index]\n",
    "\n",
    "# Bad:\n",
    "\n",
    "a         = 1\n",
    "b         = a        + 2\n",
    "my_string = 'string' * 2\n",
    "\n",
    "\n",
    "# Good:\n",
    "\n",
    "a = 1\n",
    "b = a + 2\n",
    "my_string = 'string' * 2\n",
    "\n",
    "# Bad:\n",
    "\n",
    "x=x+3\n",
    "x -=1\n",
    "\n",
    "x = x * 2 - 1\n",
    "x = (x - 1) * (x + 2)\n",
    "\n",
    "\n",
    "# Good:\n",
    "\n",
    "x = x + 3\n",
    "x -= 1\n",
    "\n",
    "x = x*2 - 1  # Use your own judgement.\n",
    "x = (x-1) * (x+2)  # Use your own judgement.\n",
    "\n",
    "# Bad:\n",
    "\n",
    "def my_function(x, y = 2):\n",
    "    return x * y\n",
    "\n",
    "\n",
    "\n",
    "# Good:\n",
    "\n",
    "def my_function(x, y=2):\n",
    "    return x * y"
   ]
  },
  {
   "cell_type": "markdown",
   "id": "0a9205cb",
   "metadata": {},
   "source": [
    "### Recommendations for using comments\n",
    "- Write comments that will not contradict the code or mislead the reader. They’re much worse than no comment at all.\n",
    "- Update your comments when your program gets updated.\n",
    "- Write comments as complete sentences (capitalize the first word if it’s not an identifier, and end your sentence with a full stop). For example:"
   ]
  },
  {
   "cell_type": "code",
   "execution_count": null,
   "id": "156f2b36",
   "metadata": {},
   "outputs": [],
   "source": [
    "# Program that calculates body mass index (BMI).\n",
    "\n",
    "height = float(input(\"Your height (in meters): \"))\n",
    "weight = float(input(\"Your weight (in kilograms): \"))\n",
    "bmi = round(weight / (height*height), 2)\n",
    "\n",
    "print(\"Your BMI: {}\".format(bmi))\n"
   ]
  },
  {
   "cell_type": "markdown",
   "id": "a93861aa",
   "metadata": {},
   "source": [
    "- When writing block comments with multi-sentence comments, use two spaces after each full stop ending a sentence, except after the final sentence.\n",
    "- Write comments in English (unless you are 100% sure that the code will never be read by people who don’t speak your language.)\n",
    "- Comments should consist of no more than 72 characters per line (but you know that already).\n",
    "\n",
    "#### Block comments\n",
    "Block comments are usually longer, and you should use them to explain sections of code rather than particular lines. They let you leave information for the reader in multiple lines (and multiple sentences). Generally, block comments:\n",
    "\n",
    "- should refer to the code that follows them;\n",
    "- should be indented to the same level as the code they describe.<br>\n",
    "When writing block comments, start each line with # followed by a single space, and separate paragraphs by a line that contains the # symbol only. For example:"
   ]
  },
  {
   "cell_type": "code",
   "execution_count": null,
   "id": "76507a72",
   "metadata": {},
   "outputs": [],
   "source": [
    "def calculate_product():\n",
    "    # Calculate the average of three numbers obtained from the user. Then \n",
    "    # multiply the result by 4.17, and assign it to the product variable.\n",
    "    #\n",
    "    # Return the value passed to the product variable and use it\n",
    "    # for the subsequent x to y calculations to speed up the process.\n",
    "    sum_numbers = 0\n",
    "    \n",
    "    for number in range(0, 3):\n",
    "        number = float(input(\"Enter a number: \"))\n",
    "        sum_numbers += number\n",
    "    \n",
    "    average = (sum_numbers / 3) * 4.17\n",
    "    product = average\n",
    "    return product\n",
    "\n",
    "x = product * 1.73\n",
    "y = x ** 2\n",
    "x_to_y = (x*y) / 1.05\n"
   ]
  },
  {
   "cell_type": "markdown",
   "id": "9da5a1d4",
   "metadata": {},
   "source": [
    "#### Inline comments\n",
    "Inline comments are comments that are written on the same line as your statements. They should address or provide further explanation to a single line of code or a single statement. You should not overuse them.\n",
    "\n",
    "Generally, inline comments should be:\n",
    "\n",
    "- separated by two (or more) spaces from the statement they address;\n",
    "- used sparingly.\n",
    "\n",
    "They can quickly help you remember what a particular line of code does, or be useful when read by someone unfamiliar with your code. For example:\n",
    "\n"
   ]
  },
  {
   "cell_type": "code",
   "execution_count": null,
   "id": "b558008a",
   "metadata": {},
   "outputs": [],
   "source": [
    "# good\n",
    "counter = 0     # Initialize the counter.\n",
    "# bad\n",
    "a += 1     # Increment a.\n",
    "# Bad:\n",
    "a = 'Adam'  # User's first name.\n",
    "# Good:\n",
    "user_first_name = 'Adam'\n"
   ]
  },
  {
   "cell_type": "markdown",
   "id": "5d215451",
   "metadata": {},
   "source": [
    "#### Documentation strings\n",
    "Documentation strings, or docstrings as they’re often called, let you provide descriptions and explanations for all public modules, files, functions, classes, and methods you use in your code. You should use them in this context.\n",
    "\n",
    "We’re going to deal with docstrings when we talk about PEP 257 later in the course. For the time being, you just need to remember that they’re a type of comment that begins and ends with three double quotes: \"\"\".\n",
    "\n",
    "Examples:\n"
   ]
  },
  {
   "cell_type": "code",
   "execution_count": 10,
   "id": "b4001ee8",
   "metadata": {},
   "outputs": [],
   "source": [
    "# A multi-line docstring:\n",
    "\n",
    "def fun(x, y):\n",
    "    \"\"\"Convert x and y to strings,\n",
    "    and return a list of strings.\n",
    "    \"\"\"\n",
    "    ...\n"
   ]
  },
  {
   "cell_type": "code",
   "execution_count": 9,
   "id": "e7fd4649",
   "metadata": {},
   "outputs": [],
   "source": [
    "# A single-line docstring:\n",
    "\n",
    "def fun(x):\n",
    "    \"\"\"Return the square root of x.\"\"\"\n",
    "    ..."
   ]
  },
  {
   "cell_type": "markdown",
   "id": "41cea589",
   "metadata": {},
   "source": [
    "#### Naming conventions – Introduction\n",
    "Naming styles\n",
    "There are many different naming styles used in programming, for example:\n",
    "\n",
    "- a – single lowercase letter\n",
    "- A – single uppercase letter\n",
    "\n",
    "Generally, you should avoid using single-letter names like l (the lowercase letter el), I (the uppercase letter eye), and O (the uppercase letter oh), because they can easily be mistaken for the numbers 1 and 0, and make your code much less readable.\n",
    "\n",
    "- mysamplename – lowercase\n",
    "- my_sample_name – lowercase with underscores (snake_case)\n",
    "- MYSAMPLENAME – uppercase\n",
    "- MY_SAMPLE_NAME – uppercase with underscores (SNAKE_CASE)\n",
    "- MySampleName – CamelCase (also known as capitalized words, StudlyCaps, or CapWords)\n",
    "\n",
    "A short note: when you use acronyms, you should capitalize all the letters that make up the acronym, e.g., HTTPServerError\n",
    "\n",
    "- mySampleName – mixed case, which actually differs from CamelCase only by having an initial lowercase character\n",
    "\n",
    "- My_Sample_Name – capitalized words with underscores (considered ugly by PEP 8)\n",
    "\n",
    "- _my_sample_name – a name that starts with a single leading underscore indicates a weak \"internal use\", e.g., the instruction from SAMPLE import * will not import objects whose names start with an underscore.\n",
    "\n",
    "- my_sample_name_ -– a single trailing underscore is used by convention in order to avoid any conflicts with Python keywords, e.g., class_\n",
    "\n",
    "- __my_sample_name – a name that starts with a double leading underscore is used for class attributes where it invokes name mangling, e.g., inside the class MySampleClass, __room will become _MySampleClass__room\n",
    "\n",
    "- __my_sample_name__ – a name that starts and ends with a double underscore is used for \"magic\" objects and attributes that reside in user-controlled namespaces, e.g., __init__, __import__, or __file__. You shouldn't create such names, but only use them as documented.\n",
    "\n"
   ]
  },
  {
   "cell_type": "markdown",
   "id": "fa19faaf",
   "metadata": {},
   "source": [
    "#### Naming conventions – recommendations\n",
    "PEP 8 provides for a specific naming convention with regard to a specific identifier.\n",
    "\n",
    "When giving a name to a **variable**, you should use a lowercase letter or word(s), and separate words by underscores, e.g., x, var, my_variable. The same convention applies to global variables.\n",
    "\n",
    "Functions follow the same rules as variables, i.e., when giving a name to a function, you should use a lowercase letter or word(s) separated by underscores, e.g., fun, my_function.\n",
    "\n",
    "When giving a name to a **class**, you should adopt the CamelCase style, e.g., MySampleClass, or if there's only one word, start it with a capital letter, e.g., Sample.\n",
    "\n",
    "When giving a name to a **method**, you should use a lowercase word or words separated by underscores, e.g., method, my_class_method. You should always use self for the first argument to instance methods, and cls for the first argument to class methods.\n",
    "\n",
    "When giving a name to a **constant**, you should use uppercase letters and separate words by underscores, e.g., TOTAL, MY_CONSTANT.\n",
    "\n",
    "When giving a name to a **module**, you should use a lowercase word or words, preferably short, and separate them with underscores, e.g., samples.py, my_samples..\n",
    "\n",
    "When giving a name to a **package**, you should use a lowercase word or words, preferably short ones. You shouldn't separate words, e.g., package, mypackage.\n",
    "\n",
    "**Type variable** names should follow the CamelCase convention and be short, e.g., AnyStr, or Num.\n",
    "\n",
    "When giving a name to an **exception**, you should follow the same convention as with classes (bear in mind that exceptions should actually be classes), i.e., use the CamelCase style.\n",
    "\n",
    "Note: You can use a different style, e.g., mixed case (mySample) for functions and variables, but only if this helps to retain backwards compatibility, and if that's the prevailing style.\n",
    "\n",
    "For more detailed information about PEP 8 naming conventions, go to the PEP 8 official page: https://www.python.org/dev/peps/pep-0008/#prescriptive-naming-conventions."
   ]
  },
  {
   "cell_type": "code",
   "execution_count": null,
   "id": "3e07a8fe",
   "metadata": {},
   "outputs": [],
   "source": [
    "# Bad:\n",
    "\n",
    "if x == None:\n",
    "    print(\"A\")\n",
    "\n",
    "\n",
    "# Good:\n",
    "\n",
    "if x is None:\n",
    "    print(\"A\")\n",
    "    \n",
    "# Bad:\n",
    "\n",
    "my_boolean_value = 2 > 1\n",
    "if my_boolean_value == True:\n",
    "    print(\"A\")\n",
    "else:\n",
    "    print(\"B\")\n",
    "\n",
    "\n",
    "\n",
    "# Good:\n",
    "\n",
    "my_boolean_value = 2 > 1\n",
    "if my_boolean_value is True:\n",
    "    print(\"A\")\n",
    "else:\n",
    "    print(\"B\")\n",
    "\n",
    "\n",
    "\n",
    " \n",
    "# Better:\n",
    "\n",
    "my_boolean_value = 2 > 1\n",
    "if my_boolean_value:\n",
    "    print(\"A\")\n",
    "else:\n",
    "    print(\"B\")\n",
    "    \n",
    "# Bad:\n",
    "\n",
    "if not x is None:\n",
    "    print(\"It exists\")\n",
    "\n",
    "\n",
    "\n",
    "# Good:\n",
    "\n",
    "if x is not None:\n",
    "    print(\"It exists\")\n",
    "    \n",
    "try:\n",
    "    import my_module\n",
    "except ImportError:\n",
    "    my_module = None\n",
    "    \n",
    "# Bad:\n",
    "\n",
    "if name[:4] == 'Adam':\n",
    "    # do something\n",
    "\n",
    "\n",
    "\n",
    "# Good:\n",
    "\n",
    "if name.startswith('Adam'):\n",
    "    # do something"
   ]
  },
  {
   "cell_type": "markdown",
   "id": "c1bb3201",
   "metadata": {},
   "source": [
    "## PEP 257\n",
    "1. What should Python docstrings contain?\n",
    "\n",
    "\"a string literal that occurs as the first statement in a module, function, class, or method definition. Such a docstring becomes the __doc__ special attribute of that object.\"\n",
    "\n",
    "accessed by help()\n",
    "\n",
    "2. How should Python docstrings be used?"
   ]
  },
  {
   "cell_type": "markdown",
   "id": "2c4fa409",
   "metadata": {},
   "source": [
    "When use comments?\n",
    "Apart from the most obvious cases, such as code and algorithm descriptions, comments may serve a few other useful purposes. For example:\n",
    "\n",
    "they can help you **tag** those sections of code that are to be done in the future, or are left for further improvement, e.g.:"
   ]
  },
  {
   "cell_type": "code",
   "execution_count": null,
   "id": "26f417a1",
   "metadata": {},
   "outputs": [],
   "source": [
    "# TODO: Add a function that takes the val and prc arguments.\n"
   ]
  },
  {
   "cell_type": "code",
   "execution_count": null,
   "id": "689531e2",
   "metadata": {},
   "outputs": [],
   "source": [
    "# they can help you comment (and uncomment) those sections of code that you want to test, e.g.:\n",
    "\n",
    "def fun(val):\n",
    "    return val * 2\n",
    "\n",
    "user_value = int(input(\"Enter the value: \"))\n",
    "# fun(user_value)\n",
    "# user_value = user_value + \"foo\"\n",
    "\n",
    "print(fun(user_value))"
   ]
  },
  {
   "cell_type": "code",
   "execution_count": null,
   "id": "feb19e0d",
   "metadata": {},
   "outputs": [],
   "source": [
    "# they can help you plan your work and outline certain sections of code that you will be designing, e.g.:\n",
    "\n",
    "# Step 1: Ask the user for the value.\n",
    "# Step 2: Change the value to an int and handle possible exceptions.\n",
    "# Step 3: Print the value multiplied by 0.7."
   ]
  },
  {
   "cell_type": "markdown",
   "id": "0a3be103",
   "metadata": {},
   "source": [
    "#### A few words on type hints: PEP 484\n",
    "Python built-in typing module to provide type hint information in your code in order to leave certain suggestions, mark certain possible problems that may come up in the development process, and label specific names with type information.\n",
    "1. can help you document your code.\n",
    "2. notice certain kinds of errors more effectively \n",
    "3. not used at runtime,  no effect on the source code,"
   ]
  },
  {
   "cell_type": "code",
   "execution_count": 11,
   "id": "3e04d92e",
   "metadata": {},
   "outputs": [],
   "source": [
    "# No type information added:\n",
    "def hello(name):\n",
    "    return \"Hello, \" + name\n",
    "\n",
    "\n",
    "# Type information added to a function:\n",
    "def hello(name: str) -> str:\n",
    "    return \"Hello, \" + name"
   ]
  },
  {
   "cell_type": "markdown",
   "id": "7091a3e2",
   "metadata": {},
   "source": [
    "### Docstrings – where and how?\n",
    "all public modules, functions, classes, and methods that are exported by a given module should have **docstrings**.\n",
    "    \n",
    "    pep256 Docutils\n",
    "- attribute docstrings, pep224 \n",
    "\n",
    "- additional dosctrings, pep216; pep287"
   ]
  },
  {
   "cell_type": "code",
   "execution_count": 12,
   "id": "f9530a1a",
   "metadata": {},
   "outputs": [],
   "source": [
    "def my_function():\n",
    "    \"\"\"I am a docstring.\"\"\"\n",
    "    r\"\"\"raw triple double quotes\"\"\" # any backslashes in your docstrings\n",
    "    u\"\"\"Unicode triple-quote strings\"\"\"  # unicode\n",
    "    ...\n"
   ]
  },
  {
   "cell_type": "markdown",
   "id": "5471ba78",
   "metadata": {},
   "source": [
    "#### One-line docstrings:  prescribe the code segment's effect, not describe it\n"
   ]
  },
  {
   "cell_type": "code",
   "execution_count": null,
   "id": "33ce0f5f",
   "metadata": {},
   "outputs": [],
   "source": [
    "def greeting(name):\n",
    "    \"\"\"Take a name and return its replicated form.\"\"\"\n",
    "    return name * 2\n",
    "\n",
    "# Don't do this:\n",
    "def my_function(x, y):\n",
    "    \"\"\"my_function(x, y) -> list\"\"\"\n",
    "...\n",
    "#  Instead, try to do something like this:\n",
    "def my_function(x, y):\n",
    "    \"\"\"Compute the angles and return a list of coordinates.\"\"\"\n",
    "...\n",
    "# Bad\n",
    "def calculate_tax(x, y):\n",
    "\n",
    "    \"\"\"I am a one-line docstring.\"\"\"\n",
    "    \n",
    "    return (x+y) * 0.25\n",
    "# Good\n",
    "def calculate_tax(x, y):\n",
    "    \"\"\"I am a one-line docstring.\"\"\"\n",
    "    return (x+y) * 0.25"
   ]
  },
  {
   "cell_type": "markdown",
   "id": "b7303f40",
   "metadata": {},
   "source": [
    "#### Multi-line docstrings\n",
    "\n",
    "a summary line, similar to what a one-line docstring looks like, followed by a blank line and a more elaborate description. \n",
    "\n",
    "sphinx  https://www.sphinx-doc.org/en/master/usage/extensions/example_google.html"
   ]
  },
  {
   "cell_type": "code",
   "execution_count": 13,
   "id": "e824207d",
   "metadata": {},
   "outputs": [],
   "source": [
    "# reStructuredText format pep278\n",
    "def king_creator(name=\"Greg\", ordinal=\"I\", country=\"Neverland\"):\n",
    "    \"\"\"Create a king following the article title naming convention.\n",
    "    \n",
    "    Keyword arguments:\n",
    "    :arg name: the king's name (default: Greg)\n",
    "    :type name: str\n",
    "    :arg ordinal: Roman ordinal number (default: I)\n",
    "    :type ordinal: str\n",
    "    :arg country: the country ruled (default: Neverland)\n",
    "    :type country: str\n",
    "    \"\"\"\n",
    "    if name == \"Voldemort\":\n",
    "        return \"Voldemort is a reserved name.\"\n",
    "    ..."
   ]
  },
  {
   "cell_type": "code",
   "execution_count": null,
   "id": "032ae193",
   "metadata": {},
   "outputs": [],
   "source": [
    "# NumPy/SciPy docstrings format \n",
    "class Vehicle:\n",
    "    \"\"\"A class to represent a Vehicle.\n",
    "    \n",
    "    Attributes:\n",
    "    -----------\n",
    "    vehicle_type: str\n",
    "        The type of the vehicle, e.g. a car.\n",
    "    id_number: int\n",
    "        The vehicle identification number.\n",
    "    is_autonomous: bool\n",
    "        self-driving -> True, not self-driving -> False\n",
    "\n",
    "    \n",
    "    Methods:\n",
    "    --------\n",
    "    report_location(lon=45.00, lat=90.00)\n",
    "        Print the vehicle id number and its current location.\n",
    "        (default longitude=45.00, default latitude=90.00)\n",
    "    \"\"\"\n",
    "    \n",
    "    def __init__(self, vehicle_type, id_number, is_autonomous=True):\n",
    "        \"\"\"\n",
    "        Parameters:\n",
    "        -----------\n",
    "        vehicle_type: str\n",
    "            The type of the vehicle, e.g. a car.\n",
    "        id_number: int\n",
    "            The vehicle identification number.\n",
    "        is_autonomous: bool, optional\n",
    "            self-driving -> True (default), not self-driving -> False\n",
    "        \"\"\"\n",
    "        \n",
    "        self.vehicle_type = vehicle_type\n",
    "        self.id_number = id_number\n",
    "        self.is_autonomous = is_autonomous\n",
    "    \n",
    "    def report_location(self, id_number, lon=45.00, lat=90.00):\n",
    "        \"\"\"\n",
    "        Print the vehicle id number and its current location.\n",
    "        \n",
    "        Parameters:\n",
    "        -----------\n",
    "        id_number: int\n",
    "            The vehicle identification number.\n",
    "        lon: float, optional\n",
    "            The vehicle's current longitude (default is 45.00)\n",
    "        lat: float, optional\n",
    "            The vehicle's current latitude (default is 90.00)\n",
    "        \"\"\"\n",
    "\n",
    "    ...\n",
    "    ...\n",
    "    ...\n"
   ]
  },
  {
   "cell_type": "markdown",
   "id": "9057ff71",
   "metadata": {},
   "source": [
    "#### How to document a project\n",
    "- readme\n",
    "- examples.py\n",
    "- license\n",
    "- how to contribute\n",
    "-- sphinx, pdoc \n",
    "- lnter: flack8, pylint, pyflackes, pychecker, mypy, pycodestyle\n",
    "- fixer: black, yapf, autopep8\n",
    "\n",
    "most ide: pycharm, spyder, atom, sublimetext, visual studio, eclipse+, pydev, vim, thonny support linter\n"
   ]
  },
  {
   "cell_type": "code",
   "execution_count": 14,
   "id": "c20c4a80",
   "metadata": {},
   "outputs": [
    {
     "name": "stdout",
     "output_type": "stream",
     "text": [
      "The summary line goes here.\n",
      "\n",
      "    A more elaborate description of the function.\n",
      "\n",
      "    Parameters:\n",
      "    a: int (description)\n",
      "    b: int (description)\n",
      "\n",
      "    Returns:\n",
      "    int: Description of the return value.\n",
      "    \n"
     ]
    }
   ],
   "source": [
    "def my_fun(a, b):\n",
    "    \"\"\"The summary line goes here.\n",
    "\n",
    "    A more elaborate description of the function.\n",
    "\n",
    "    Parameters:\n",
    "    a: int (description)\n",
    "    b: int (description)\n",
    "\n",
    "    Returns:\n",
    "    int: Description of the return value.\n",
    "    \"\"\"\n",
    "    return a*b\n",
    "\n",
    "print(my_fun.__doc__)\n"
   ]
  },
  {
   "cell_type": "code",
   "execution_count": 15,
   "id": "6f29832b",
   "metadata": {},
   "outputs": [
    {
     "name": "stdout",
     "output_type": "stream",
     "text": [
      "Help on function my_fun in module __main__:\n",
      "\n",
      "my_fun(a, b)\n",
      "    The summary line goes here.\n",
      "    \n",
      "    A more elaborate description of the function.\n",
      "    \n",
      "    Parameters:\n",
      "    a: int (description)\n",
      "    b: int (description)\n",
      "    \n",
      "    Returns:\n",
      "    int: Description of the return value.\n",
      "\n"
     ]
    }
   ],
   "source": [
    "help(my_fun)\n"
   ]
  },
  {
   "cell_type": "code",
   "execution_count": null,
   "id": "fd640f63",
   "metadata": {},
   "outputs": [],
   "source": []
  },
  {
   "cell_type": "code",
   "execution_count": null,
   "id": "c6e5392f",
   "metadata": {},
   "outputs": [],
   "source": []
  },
  {
   "cell_type": "code",
   "execution_count": null,
   "id": "57c5ff54",
   "metadata": {},
   "outputs": [],
   "source": []
  },
  {
   "cell_type": "code",
   "execution_count": null,
   "id": "f97b4e95",
   "metadata": {},
   "outputs": [],
   "source": []
  }
 ],
 "metadata": {
  "kernelspec": {
   "display_name": "Python 3 (ipykernel)",
   "language": "python",
   "name": "python3"
  },
  "language_info": {
   "codemirror_mode": {
    "name": "ipython",
    "version": 3
   },
   "file_extension": ".py",
   "mimetype": "text/x-python",
   "name": "python",
   "nbconvert_exporter": "python",
   "pygments_lexer": "ipython3",
   "version": "3.9.7"
  }
 },
 "nbformat": 4,
 "nbformat_minor": 5
}
