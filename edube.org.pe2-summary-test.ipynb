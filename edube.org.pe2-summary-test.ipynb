{
 "cells": [
  {
   "cell_type": "markdown",
   "id": "938cf61f",
   "metadata": {},
   "source": [
    "https://edube.org/quiz/pe-2/pe2-summary-test-1"
   ]
  },
  {
   "cell_type": "markdown",
   "id": "838f9aeb",
   "metadata": {},
   "source": [
    "the sys.stderr stream is normally associated with:\n",
    "    the keyboard\n",
    "    the screen\n",
    "    the printer\n",
    "    a null device *"
   ]
  },
  {
   "cell_type": "code",
   "execution_count": null,
   "id": "9ab4afaa",
   "metadata": {},
   "outputs": [],
   "source": [
    "# file a.py\n",
    "print(\"a\",end='')\n",
    "\n",
    "#file b.py\n",
    "import a\n",
    "print(\"b\",end='')\n",
    "\n",
    "#file c.py\n",
    "print(\"c\",end='')\n",
    "import a\n",
    "import b\n",
    "'''out put cab'''"
   ]
  },
  {
   "cell_type": "code",
   "execution_count": 30,
   "id": "5cfbb538",
   "metadata": {},
   "outputs": [
    {
     "ename": "TypeError",
     "evalue": "__init__() takes 1 positional argument but 2 were given",
     "output_type": "error",
     "traceback": [
      "\u001b[1;31m---------------------------------------------------------------------------\u001b[0m",
      "\u001b[1;31mTypeError\u001b[0m                                 Traceback (most recent call last)",
      "\u001b[1;32m~\\AppData\\Local\\Temp/ipykernel_42432/3291682007.py\u001b[0m in \u001b[0;36m<module>\u001b[1;34m\u001b[0m\n\u001b[0;32m      2\u001b[0m     \u001b[1;32mdef\u001b[0m \u001b[0m__init__\u001b[0m\u001b[1;33m(\u001b[0m\u001b[0mself\u001b[0m\u001b[1;33m)\u001b[0m\u001b[1;33m:\u001b[0m\u001b[1;33m\u001b[0m\u001b[1;33m\u001b[0m\u001b[0m\n\u001b[0;32m      3\u001b[0m         \u001b[1;32mpass\u001b[0m\u001b[1;33m\u001b[0m\u001b[1;33m\u001b[0m\u001b[0m\n\u001b[1;32m----> 4\u001b[1;33m \u001b[0ma\u001b[0m \u001b[1;33m=\u001b[0m\u001b[0mA\u001b[0m\u001b[1;33m(\u001b[0m\u001b[1;36m1\u001b[0m\u001b[1;33m)\u001b[0m\u001b[1;33m\u001b[0m\u001b[1;33m\u001b[0m\u001b[0m\n\u001b[0m\u001b[0;32m      5\u001b[0m \u001b[0mprint\u001b[0m\u001b[1;33m(\u001b[0m\u001b[0mhasattr\u001b[0m\u001b[1;33m(\u001b[0m\u001b[0ma\u001b[0m\u001b[1;33m,\u001b[0m \u001b[1;34m'A'\u001b[0m\u001b[1;33m)\u001b[0m\u001b[1;33m)\u001b[0m\u001b[1;33m\u001b[0m\u001b[1;33m\u001b[0m\u001b[0m\n",
      "\u001b[1;31mTypeError\u001b[0m: __init__() takes 1 positional argument but 2 were given"
     ]
    }
   ],
   "source": [
    "class A:\n",
    "    def __init__(self):\n",
    "        pass\n",
    "a =A(1)\n",
    "print(hasattr(a, 'A'))"
   ]
  },
  {
   "cell_type": "code",
   "execution_count": 33,
   "id": "1cd19963",
   "metadata": {},
   "outputs": [
    {
     "name": "stdout",
     "output_type": "stream",
     "text": [
      "b\n"
     ]
    }
   ],
   "source": [
    "try:\n",
    "    raise Exception\n",
    "    \n",
    "except Exception:\n",
    "    print(\"b\")\n",
    "except BaseException:\n",
    "    print(\"a\")\n",
    "except:\n",
    "    print(\"c\")"
   ]
  },
  {
   "cell_type": "code",
   "execution_count": 34,
   "id": "a82bc353",
   "metadata": {},
   "outputs": [
    {
     "name": "stdout",
     "output_type": "stream",
     "text": [
      "a\n"
     ]
    }
   ],
   "source": [
    "try:\n",
    "    raise Exception\n",
    "    \n",
    "except BaseException:\n",
    "    print(\"a\")\n",
    "except Exception:\n",
    "    print(\"b\")\n",
    "except:\n",
    "    print(\"c\")"
   ]
  },
  {
   "cell_type": "code",
   "execution_count": 31,
   "id": "7d3e597f",
   "metadata": {},
   "outputs": [
    {
     "ename": "SyntaxError",
     "evalue": "default 'except:' must be last (Temp/ipykernel_42432/3027536054.py, line 2)",
     "output_type": "error",
     "traceback": [
      "\u001b[1;36m  File \u001b[1;32m\"C:\\Users\\fan.z\\AppData\\Local\\Temp/ipykernel_42432/3027536054.py\"\u001b[1;36m, line \u001b[1;32m2\u001b[0m\n\u001b[1;33m    raise Exception\u001b[0m\n\u001b[1;37m    ^\u001b[0m\n\u001b[1;31mSyntaxError\u001b[0m\u001b[1;31m:\u001b[0m default 'except:' must be last\n"
     ]
    }
   ],
   "source": [
    "try:\n",
    "    raise Exception\n",
    "except:\n",
    "    print(\"c\")\n",
    "except BaseException:\n",
    "    print(\"a\")\n",
    "except Exception:\n",
    "    print(\"b\")"
   ]
  },
  {
   "cell_type": "code",
   "execution_count": 37,
   "id": "cd3507eb",
   "metadata": {},
   "outputs": [
    {
     "name": "stdout",
     "output_type": "stream",
     "text": [
      "False\n"
     ]
    }
   ],
   "source": [
    "class A:\n",
    "    A = 1\n",
    "    def __init__(self):\n",
    "        self.a =0\n",
    "print(hasattr(A, 'a'))"
   ]
  },
  {
   "cell_type": "code",
   "execution_count": 10,
   "id": "978e4b75",
   "metadata": {},
   "outputs": [
    {
     "name": "stdout",
     "output_type": "stream",
     "text": [
      "pip 21.2.4 from C:\\Anaconda3\\lib\\site-packages\\pip (python 3.9)\n",
      "\n"
     ]
    }
   ],
   "source": [
    "!pip3 --version"
   ]
  },
  {
   "cell_type": "code",
   "execution_count": 36,
   "id": "54ce0d88",
   "metadata": {},
   "outputs": [
    {
     "name": "stdout",
     "output_type": "stream",
     "text": [
      "28 days, 22:00:00\n"
     ]
    }
   ],
   "source": [
    "from datetime import timedelta\n",
    "d = timedelta(weeks=1, days=7,hours=11)\n",
    "print(d*2)"
   ]
  },
  {
   "cell_type": "code",
   "execution_count": 41,
   "id": "547b3128",
   "metadata": {},
   "outputs": [
    {
     "name": "stdout",
     "output_type": "stream",
     "text": [
      "abcd"
     ]
    }
   ],
   "source": [
    "#generator \n",
    "\n",
    "class I:\n",
    "    def __init__(self):\n",
    "        self.s='abcd'\n",
    "        self.i=0\n",
    "        \n",
    "    def __iter__(self):\n",
    "        return self\n",
    "    \n",
    "    def __next__(self):\n",
    "        if self.i==len(self.s):\n",
    "            raise StopIteration\n",
    "        v=self.s[self.i]\n",
    "        self.i+=1\n",
    "        return v\n",
    "    \n",
    "for x in I():\n",
    "    print(x, end='')"
   ]
  },
  {
   "cell_type": "code",
   "execution_count": 42,
   "id": "012f521b",
   "metadata": {},
   "outputs": [
    {
     "name": "stdout",
     "output_type": "stream",
     "text": [
      "Sun Mon Tue Wed Thu Fri Sat\n"
     ]
    }
   ],
   "source": [
    "import calendar\n",
    "calendar.setfirstweekday(calendar.SUNDAY)\n",
    "print(calendar.weekheader(3))"
   ]
  },
  {
   "cell_type": "code",
   "execution_count": 45,
   "id": "af94b074",
   "metadata": {},
   "outputs": [
    {
     "name": "stdout",
     "output_type": "stream",
     "text": [
      "<map object at 0x000002479B1337F0>\n",
      "[0, 4, 49, 81, 100]\n"
     ]
    }
   ],
   "source": [
    "numbers=[0,2,7,9,10]\n",
    "foo=map(lambda num: num**2, numbers)\n",
    "print(foo)\n",
    "print(list(foo))"
   ]
  },
  {
   "cell_type": "code",
   "execution_count": 48,
   "id": "83e272b9",
   "metadata": {},
   "outputs": [
    {
     "name": "stdout",
     "output_type": "stream",
     "text": [
      "<filter object at 0x000002479B133430>\n",
      "[1, 9]\n"
     ]
    }
   ],
   "source": [
    "numbers=[i*i for i in range(5)]\n",
    "foo=(filter(lambda num: num%2, numbers))\n",
    "print(foo)\n",
    "print(list(foo))"
   ]
  },
  {
   "cell_type": "code",
   "execution_count": 53,
   "id": "40e9cba2",
   "metadata": {},
   "outputs": [
    {
     "name": "stdout",
     "output_type": "stream",
     "text": [
      "2\n",
      "2\n",
      "3\n",
      "2506583505024 2506583505024\n"
     ]
    }
   ],
   "source": [
    "class A:\n",
    "    def __init__(self,v=2):\n",
    "        self.v =v\n",
    "    def set(self, v=1):\n",
    "        self.v +=v\n",
    "        return self.v\n",
    "    \n",
    "a =A()\n",
    "print(a.v)\n",
    "b=a          \n",
    "print(a.v)\n",
    "b.set()\n",
    "print(a.v)\n",
    "\n",
    "print(id(a),id(b))\n",
    "'''a, b are same obj'''"
   ]
  },
  {
   "cell_type": "code",
   "execution_count": 62,
   "id": "360caeed",
   "metadata": {},
   "outputs": [
    {
     "name": "stdout",
     "output_type": "stream",
     "text": [
      "False\n",
      "True\n"
     ]
    }
   ],
   "source": [
    "class A:\n",
    "    A = 1\n",
    "    def __init__(self):\n",
    "        self.a =0\n",
    "\n",
    "print(hasattr(A,'a'))\n",
    "print(hasattr(A,'A'))"
   ]
  },
  {
   "cell_type": "code",
   "execution_count": 63,
   "id": "cc851a6c",
   "metadata": {},
   "outputs": [
    {
     "name": "stdout",
     "output_type": "stream",
     "text": [
      "True\n",
      "True\n"
     ]
    }
   ],
   "source": [
    "class A:\n",
    "    A = 1\n",
    "    def __init__(self):\n",
    "        self.a =0\n",
    "b=A()\n",
    "print(hasattr(b,'a'))\n",
    "print(hasattr(b,'A'))"
   ]
  },
  {
   "cell_type": "code",
   "execution_count": 66,
   "id": "0feba59f",
   "metadata": {},
   "outputs": [
    {
     "name": "stdout",
     "output_type": "stream",
     "text": [
      "False\n"
     ]
    },
    {
     "ename": "AttributeError",
     "evalue": "'A' object has no attribute '__a'",
     "output_type": "error",
     "traceback": [
      "\u001b[1;31m---------------------------------------------------------------------------\u001b[0m",
      "\u001b[1;31mAttributeError\u001b[0m                            Traceback (most recent call last)",
      "\u001b[1;32m~\\AppData\\Local\\Temp/ipykernel_42432/2273390457.py\u001b[0m in \u001b[0;36m<module>\u001b[1;34m\u001b[0m\n\u001b[0;32m      5\u001b[0m \u001b[0mb\u001b[0m\u001b[1;33m=\u001b[0m\u001b[0mA\u001b[0m\u001b[1;33m(\u001b[0m\u001b[1;36m0\u001b[0m\u001b[1;33m)\u001b[0m\u001b[1;33m\u001b[0m\u001b[1;33m\u001b[0m\u001b[0m\n\u001b[0;32m      6\u001b[0m \u001b[0mprint\u001b[0m\u001b[1;33m(\u001b[0m\u001b[0mhasattr\u001b[0m\u001b[1;33m(\u001b[0m\u001b[0mb\u001b[0m\u001b[1;33m,\u001b[0m\u001b[1;34m'__a'\u001b[0m\u001b[1;33m)\u001b[0m\u001b[1;33m)\u001b[0m\u001b[1;33m\u001b[0m\u001b[1;33m\u001b[0m\u001b[0m\n\u001b[1;32m----> 7\u001b[1;33m \u001b[0mprint\u001b[0m\u001b[1;33m(\u001b[0m\u001b[1;33m(\u001b[0m\u001b[0mb\u001b[0m\u001b[1;33m.\u001b[0m\u001b[0m__a\u001b[0m\u001b[1;33m)\u001b[0m\u001b[1;33m)\u001b[0m\u001b[1;33m\u001b[0m\u001b[1;33m\u001b[0m\u001b[0m\n\u001b[0m",
      "\u001b[1;31mAttributeError\u001b[0m: 'A' object has no attribute '__a'"
     ]
    }
   ],
   "source": [
    "class A:\n",
    "\n",
    "    def __init__(self,v):\n",
    "        self.__a =v+1\n",
    "b=A(0)\n",
    "print(hasattr(b,'__a'))\n",
    "print((b.__a))"
   ]
  },
  {
   "cell_type": "markdown",
   "id": "3b7fee91",
   "metadata": {},
   "source": [
    "if there are more that one except: branches after the try: clause, we can say that:not more than one except: block will executed\n"
   ]
  },
  {
   "cell_type": "code",
   "execution_count": 70,
   "id": "641071d6",
   "metadata": {},
   "outputs": [
    {
     "name": "stdout",
     "output_type": "stream",
     "text": [
      "2\n"
     ]
    }
   ],
   "source": [
    "print(len(\"\\\\\\\\\"))\n"
   ]
  },
  {
   "cell_type": "code",
   "execution_count": 69,
   "id": "d55e03b6",
   "metadata": {},
   "outputs": [
    {
     "ename": "SyntaxError",
     "evalue": "EOL while scanning string literal (Temp/ipykernel_42432/2653560154.py, line 1)",
     "output_type": "error",
     "traceback": [
      "\u001b[1;36m  File \u001b[1;32m\"C:\\Users\\fan.z\\AppData\\Local\\Temp/ipykernel_42432/2653560154.py\"\u001b[1;36m, line \u001b[1;32m1\u001b[0m\n\u001b[1;33m    print(len(\"\\\\\\\"))\u001b[0m\n\u001b[1;37m                     ^\u001b[0m\n\u001b[1;31mSyntaxError\u001b[0m\u001b[1;31m:\u001b[0m EOL while scanning string literal\n"
     ]
    }
   ],
   "source": [
    "\n",
    "print(len(\"\\\\\\\"))"
   ]
  },
  {
   "cell_type": "code",
   "execution_count": 71,
   "id": "114506cb",
   "metadata": {},
   "outputs": [
    {
     "name": "stdout",
     "output_type": "stream",
     "text": [
      "3\n"
     ]
    }
   ],
   "source": [
    "try:\n",
    "    raise Exception(1,2,3)\n",
    "except Exception as e:\n",
    "    print(len(e.args))"
   ]
  },
  {
   "cell_type": "code",
   "execution_count": 76,
   "id": "d367f2bd",
   "metadata": {},
   "outputs": [
    {
     "name": "stdout",
     "output_type": "stream",
     "text": [
      "----------------------\n",
      "The Zen of Python\n",
      "\n",
      "----------------------\n",
      "=================\n",
      "\n",
      "----------------------\n",
      "\n",
      "\n",
      "----------------------\n",
      "::\n",
      "\n",
      "----------------------\n",
      "\n",
      "\n",
      "----------------------\n",
      "    Beautiful is better than ugly.\n",
      "\n",
      "----------------------\n",
      "    Explicit is better than implicit.\n",
      "\n",
      "----------------------\n",
      "    Simple is better than complex.\n",
      "\n",
      "----------------------\n",
      "    Complex is better than complicated.\n",
      "\n",
      "----------------------\n",
      "    Flat is better than nested.\n",
      "\n",
      "----------------------\n",
      "    Sparse is better than dense.\n",
      "\n",
      "----------------------\n",
      "    Readability counts.\n",
      "\n",
      "----------------------\n",
      "    Special cases aren't special enough to break the rules.\n",
      "\n",
      "----------------------\n",
      "    Although practicality beats purity.\n",
      "\n",
      "----------------------\n",
      "    Errors should never pass silently.\n",
      "\n",
      "----------------------\n",
      "    Unless explicitly silenced.\n",
      "\n",
      "----------------------\n",
      "    In the face of ambiguity, refuse the temptation to guess.\n",
      "\n",
      "----------------------\n",
      "    There should be one-- and preferably only one --obvious way to do it.\n",
      "\n",
      "----------------------\n",
      "    Although that way may not be obvious at first unless you're Dutch.\n",
      "\n",
      "----------------------\n",
      "    Now is better than never.\n",
      "\n",
      "----------------------\n",
      "    Although never is often better than *right* now.\n",
      "\n",
      "----------------------\n",
      "    If the implementation is hard to explain, it's a bad idea.\n",
      "\n",
      "----------------------\n",
      "    If the implementation is easy to explain, it may be a good idea.\n",
      "\n",
      "----------------------\n",
      "    Namespaces are one honking great idea -- let's do more of those!\n",
      "\n",
      "----------------------\n",
      "\n",
      "\n",
      "----------------------\n",
      "\n",
      "\n",
      "----------------------\n",
      "\n",
      "\n",
      "----------------------\n",
      "----------------\n",
      "\n",
      "----------------------\n",
      "source: https://github.com/python/peps/blob/master/pep-0020.txt\n",
      "\n",
      "----------------------\n",
      "Prev Next\n"
     ]
    },
    {
     "data": {
      "text/plain": [
       "'read file line by line'"
      ]
     },
     "execution_count": 76,
     "metadata": {},
     "output_type": "execute_result"
    }
   ],
   "source": [
    "for x in open('text.txt','rt'):\n",
    "    print('----------------------')\n",
    "    print(x)\n",
    "'''read file line by line'''"
   ]
  },
  {
   "cell_type": "code",
   "execution_count": null,
   "id": "f62724ff",
   "metadata": {},
   "outputs": [],
   "source": []
  },
  {
   "cell_type": "code",
   "execution_count": null,
   "id": "8699b7c5",
   "metadata": {},
   "outputs": [],
   "source": []
  },
  {
   "cell_type": "code",
   "execution_count": 79,
   "id": "3a523e7f",
   "metadata": {},
   "outputs": [
    {
     "name": "stdout",
     "output_type": "stream",
     "text": [
      "False\n",
      "True\n"
     ]
    }
   ],
   "source": [
    "class A:\n",
    "    pass\n",
    "class B(A):\n",
    "    pass\n",
    "class C(B):\n",
    "    pass\n",
    "\n",
    "print(issubclass(A,C))\n",
    "print(issubclass(C,A))\n"
   ]
  },
  {
   "cell_type": "code",
   "execution_count": 84,
   "id": "4f9eff90",
   "metadata": {},
   "outputs": [
    {
     "name": "stdout",
     "output_type": "stream",
     "text": [
      "100 64 37\n"
     ]
    }
   ],
   "source": [
    "import random\n",
    "a=random.choice((0,100,3))\n",
    "b=random.randrange(10,100,3)\n",
    "c=random.randint(0,100)\n",
    "print(a,b,c)"
   ]
  },
  {
   "cell_type": "code",
   "execution_count": 83,
   "id": "47d0da2c",
   "metadata": {},
   "outputs": [
    {
     "name": "stdout",
     "output_type": "stream",
     "text": [
      "b\n"
     ]
    }
   ],
   "source": [
    "class A:\n",
    "    def a(self):\n",
    "        print('a')\n",
    "        \n",
    "class B:\n",
    "    def a(self):\n",
    "        print('b')\n",
    "        \n",
    "class C(B,A):\n",
    "    def c(self):\n",
    "        self.a()\n",
    "\n",
    "o=C()\n",
    "o.c()"
   ]
  },
  {
   "cell_type": "code",
   "execution_count": 85,
   "id": "2d5acc60",
   "metadata": {},
   "outputs": [
    {
     "name": "stdout",
     "output_type": "stream",
     "text": [
      "***\n"
     ]
    }
   ],
   "source": [
    "#closure\n",
    "def o(p):\n",
    "    def q():\n",
    "        return '*' * p\n",
    "    return q\n",
    "\n",
    "r = o(1)\n",
    "s = o(2)\n",
    "print(r() + s())"
   ]
  },
  {
   "cell_type": "code",
   "execution_count": 87,
   "id": "55014a37",
   "metadata": {},
   "outputs": [
    {
     "name": "stdout",
     "output_type": "stream",
     "text": [
      "__main__\n"
     ]
    }
   ],
   "source": [
    "#what will be the output of the following code, located in the p.py file?\n",
    "print(__name__)\n",
    "\n",
    "#__main__"
   ]
  },
  {
   "cell_type": "code",
   "execution_count": 88,
   "id": "f59bf71b",
   "metadata": {},
   "outputs": [
    {
     "name": "stdout",
     "output_type": "stream",
     "text": [
      "++ ++++ ++++++++ "
     ]
    }
   ],
   "source": [
    "#yiled test\n",
    "def f (n):\n",
    "    s = '+'\n",
    "    for i in range(n):\n",
    "        s += s  # double up\n",
    "        yield s\n",
    "for x in f(3):\n",
    "    print(x, end=' ')"
   ]
  },
  {
   "cell_type": "code",
   "execution_count": null,
   "id": "d96918a5",
   "metadata": {},
   "outputs": [],
   "source": []
  }
 ],
 "metadata": {
  "kernelspec": {
   "display_name": "Python 3 (ipykernel)",
   "language": "python",
   "name": "python3"
  },
  "language_info": {
   "codemirror_mode": {
    "name": "ipython",
    "version": 3
   },
   "file_extension": ".py",
   "mimetype": "text/x-python",
   "name": "python",
   "nbconvert_exporter": "python",
   "pygments_lexer": "ipython3",
   "version": "3.9.7"
  }
 },
 "nbformat": 4,
 "nbformat_minor": 5
}
