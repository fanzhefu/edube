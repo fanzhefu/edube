{
 "cells": [
  {
   "cell_type": "markdown",
   "id": "bd31ffd2",
   "metadata": {},
   "source": [
    "# Working with RESTful APIs\n",
    "Representational State Transfer\n",
    "sockets"
   ]
  },
  {
   "cell_type": "code",
   "execution_count": 1,
   "id": "9f38948e",
   "metadata": {},
   "outputs": [
    {
     "name": "stdout",
     "output_type": "stream",
     "text": [
      "What server do you want to connect to? 1.1.1.1\n"
     ]
    }
   ],
   "source": [
    "import socket\n",
    "\n",
    "server_addr = input(\"What server do you want to connect to? \")\n",
    "sock = socket.socket(socket.AF_INET, socket.SOCK_STREAM)\n",
    "sock.connect((server_addr, 80))"
   ]
  },
  {
   "cell_type": "code",
   "execution_count": null,
   "id": "89da0b0e",
   "metadata": {},
   "outputs": [],
   "source": [
    "GET / HTTP/1.1\\r\\n\n",
    "Host: www.site.com\\r\\n\n",
    "Connection: close\\r\\n\n",
    "\\r\\n\n"
   ]
  },
  {
   "cell_type": "code",
   "execution_count": 4,
   "id": "d1b1d471",
   "metadata": {},
   "outputs": [
    {
     "name": "stdout",
     "output_type": "stream",
     "text": [
      "What server do you want to connect to? qia.biz\n",
      "b'HTTP/1.1 302 Found\\r\\nServer: nginx\\r\\nDate: Thu, 17 Feb 2022 16:49:12 GMT\\r\\nContent-Type: text/html; charset=UTF-8\\r\\nTransfer-Encoding: chunked\\r\\nConnection: close\\r\\nlocation: http://www.qia.biz/\\r\\n\\r\\n0\\r\\n\\r\\n'\n",
      "b'HTTP/1.1 302 Found\\r\\nServer: nginx\\r\\nDate: Thu, 17 Feb 2022 16:49:12 GMT\\r\\nContent-Type: text/html; charset=UTF-8\\r\\nTransfer-Encoding: chunked\\r\\nConnection: close\\r\\nlocation: http://www.qia.biz/\\r\\n\\r\\n0\\r\\n\\r\\n'\n"
     ]
    },
    {
     "data": {
      "text/plain": [
       "\"The following function arguments say more about our views for the future:\\n\\nsocket.SHUT_RD - we aren't going to read the server's messages anymore (we declare ourselves deaf)\\nsocket.SHUT_WR - we won't say a word (actually, we'll be dumb)\\nsocket.SHUT_RDWR - specifies the conjunction of the two previous options.\""
      ]
     },
     "execution_count": 4,
     "metadata": {},
     "output_type": "execute_result"
    }
   ],
   "source": [
    "import socket\n",
    "\n",
    "server_addr = input(\"What server do you want to connect to? \")\n",
    "sock = socket.socket(socket.AF_INET, socket.SOCK_STREAM)\n",
    "sock.connect((server_addr, 80))\n",
    "sock.send(b\"GET / HTTP/1.1\\r\\nHost: \" +\n",
    "          bytes(server_addr, \"utf8\") +\n",
    "          b\"\\r\\nConnection: close\\r\\n\\r\\n\")\n",
    "reply = sock.recv(10000)\n",
    "print(reply)\n",
    "sock.shutdown(socket.SHUT_RDWR)\n",
    "sock.close()\n",
    "print(repr(reply))\n",
    "'''The following function arguments say more about our views for the future:\n",
    "\n",
    "socket.SHUT_RD - we aren't going to read the server's messages anymore (we declare ourselves deaf)\n",
    "socket.SHUT_WR - we won't say a word (actually, we'll be dumb)\n",
    "socket.SHUT_RDWR - specifies the conjunction of the two previous options.'''"
   ]
  },
  {
   "cell_type": "markdown",
   "id": "59e9a6f5",
   "metadata": {},
   "source": [
    "# Working with json files\n",
    "\n",
    "json.dumps, json.loads"
   ]
  },
  {
   "cell_type": "code",
   "execution_count": 6,
   "id": "cc449442",
   "metadata": {},
   "outputs": [
    {
     "name": "stdout",
     "output_type": "stream",
     "text": [
      "16021766189.98\n"
     ]
    }
   ],
   "source": [
    "import json\n",
    "\n",
    "electron = 1.602176620898E10-19\n",
    "print(json.dumps(electron))"
   ]
  },
  {
   "cell_type": "code",
   "execution_count": 7,
   "id": "fd1d9e45",
   "metadata": {},
   "outputs": [
    {
     "name": "stdout",
     "output_type": "stream",
     "text": [
      "\"\\\"The Meaning of Life\\\" by Monty Python's Flying Circus\"\n"
     ]
    }
   ],
   "source": [
    "import json\n",
    "\n",
    "comics = '\"The Meaning of Life\" by Monty Python\\'s Flying Circus'\n",
    "print(json.dumps(comics))\n"
   ]
  },
  {
   "cell_type": "code",
   "execution_count": 8,
   "id": "f94bfba4",
   "metadata": {},
   "outputs": [
    {
     "name": "stdout",
     "output_type": "stream",
     "text": [
      "[1, 2.34, true, \"False\", null, [\"a\", 0]]\n"
     ]
    }
   ],
   "source": [
    "import json\n",
    "\n",
    "my_list = [1, 2.34, True, \"False\", None, ['a', 0]]\n",
    "print(json.dumps(my_list))\n"
   ]
  },
  {
   "cell_type": "code",
   "execution_count": 9,
   "id": "a52e5646",
   "metadata": {},
   "outputs": [
    {
     "name": "stdout",
     "output_type": "stream",
     "text": [
      "{\"me\": \"Python\", \"pi\": 3.141592653589, \"data\": [1, 2, 4, 8], \"set\": null}\n"
     ]
    }
   ],
   "source": [
    "import json\n",
    "\n",
    "my_dict = {'me': \"Python\", 'pi': 3.141592653589, 'data': (1, 2, 4, 8), 'set': None}\n",
    "print(json.dumps(my_dict))\n"
   ]
  },
  {
   "cell_type": "code",
   "execution_count": 26,
   "id": "67033334",
   "metadata": {},
   "outputs": [
    {
     "ename": "TypeError",
     "evalue": "Object of type Who is not JSON serializable",
     "output_type": "error",
     "traceback": [
      "\u001b[1;31m---------------------------------------------------------------------------\u001b[0m",
      "\u001b[1;31mTypeError\u001b[0m                                 Traceback (most recent call last)",
      "Input \u001b[1;32mIn [26]\u001b[0m, in \u001b[0;36m<module>\u001b[1;34m\u001b[0m\n\u001b[0;32m      6\u001b[0m         \u001b[38;5;28mself\u001b[39m\u001b[38;5;241m.\u001b[39mage \u001b[38;5;241m=\u001b[39m age\n\u001b[0;32m      8\u001b[0m some_man \u001b[38;5;241m=\u001b[39m Who(\u001b[38;5;124m'\u001b[39m\u001b[38;5;124mJohn Doe\u001b[39m\u001b[38;5;124m'\u001b[39m, \u001b[38;5;241m42\u001b[39m)\n\u001b[1;32m----> 9\u001b[0m \u001b[38;5;28mprint\u001b[39m(\u001b[43mjson\u001b[49m\u001b[38;5;241;43m.\u001b[39;49m\u001b[43mdumps\u001b[49m\u001b[43m(\u001b[49m\u001b[43msome_man\u001b[49m\u001b[43m)\u001b[49m)\n",
      "File \u001b[1;32mC:\\Anaconda3\\lib\\json\\__init__.py:231\u001b[0m, in \u001b[0;36mdumps\u001b[1;34m(obj, skipkeys, ensure_ascii, check_circular, allow_nan, cls, indent, separators, default, sort_keys, **kw)\u001b[0m\n\u001b[0;32m    226\u001b[0m \u001b[38;5;66;03m# cached encoder\u001b[39;00m\n\u001b[0;32m    227\u001b[0m \u001b[38;5;28;01mif\u001b[39;00m (\u001b[38;5;129;01mnot\u001b[39;00m skipkeys \u001b[38;5;129;01mand\u001b[39;00m ensure_ascii \u001b[38;5;129;01mand\u001b[39;00m\n\u001b[0;32m    228\u001b[0m     check_circular \u001b[38;5;129;01mand\u001b[39;00m allow_nan \u001b[38;5;129;01mand\u001b[39;00m\n\u001b[0;32m    229\u001b[0m     \u001b[38;5;28mcls\u001b[39m \u001b[38;5;129;01mis\u001b[39;00m \u001b[38;5;28;01mNone\u001b[39;00m \u001b[38;5;129;01mand\u001b[39;00m indent \u001b[38;5;129;01mis\u001b[39;00m \u001b[38;5;28;01mNone\u001b[39;00m \u001b[38;5;129;01mand\u001b[39;00m separators \u001b[38;5;129;01mis\u001b[39;00m \u001b[38;5;28;01mNone\u001b[39;00m \u001b[38;5;129;01mand\u001b[39;00m\n\u001b[0;32m    230\u001b[0m     default \u001b[38;5;129;01mis\u001b[39;00m \u001b[38;5;28;01mNone\u001b[39;00m \u001b[38;5;129;01mand\u001b[39;00m \u001b[38;5;129;01mnot\u001b[39;00m sort_keys \u001b[38;5;129;01mand\u001b[39;00m \u001b[38;5;129;01mnot\u001b[39;00m kw):\n\u001b[1;32m--> 231\u001b[0m     \u001b[38;5;28;01mreturn\u001b[39;00m \u001b[43m_default_encoder\u001b[49m\u001b[38;5;241;43m.\u001b[39;49m\u001b[43mencode\u001b[49m\u001b[43m(\u001b[49m\u001b[43mobj\u001b[49m\u001b[43m)\u001b[49m\n\u001b[0;32m    232\u001b[0m \u001b[38;5;28;01mif\u001b[39;00m \u001b[38;5;28mcls\u001b[39m \u001b[38;5;129;01mis\u001b[39;00m \u001b[38;5;28;01mNone\u001b[39;00m:\n\u001b[0;32m    233\u001b[0m     \u001b[38;5;28mcls\u001b[39m \u001b[38;5;241m=\u001b[39m JSONEncoder\n",
      "File \u001b[1;32mC:\\Anaconda3\\lib\\json\\encoder.py:199\u001b[0m, in \u001b[0;36mJSONEncoder.encode\u001b[1;34m(self, o)\u001b[0m\n\u001b[0;32m    195\u001b[0m         \u001b[38;5;28;01mreturn\u001b[39;00m encode_basestring(o)\n\u001b[0;32m    196\u001b[0m \u001b[38;5;66;03m# This doesn't pass the iterator directly to ''.join() because the\u001b[39;00m\n\u001b[0;32m    197\u001b[0m \u001b[38;5;66;03m# exceptions aren't as detailed.  The list call should be roughly\u001b[39;00m\n\u001b[0;32m    198\u001b[0m \u001b[38;5;66;03m# equivalent to the PySequence_Fast that ''.join() would do.\u001b[39;00m\n\u001b[1;32m--> 199\u001b[0m chunks \u001b[38;5;241m=\u001b[39m \u001b[38;5;28;43mself\u001b[39;49m\u001b[38;5;241;43m.\u001b[39;49m\u001b[43miterencode\u001b[49m\u001b[43m(\u001b[49m\u001b[43mo\u001b[49m\u001b[43m,\u001b[49m\u001b[43m \u001b[49m\u001b[43m_one_shot\u001b[49m\u001b[38;5;241;43m=\u001b[39;49m\u001b[38;5;28;43;01mTrue\u001b[39;49;00m\u001b[43m)\u001b[49m\n\u001b[0;32m    200\u001b[0m \u001b[38;5;28;01mif\u001b[39;00m \u001b[38;5;129;01mnot\u001b[39;00m \u001b[38;5;28misinstance\u001b[39m(chunks, (\u001b[38;5;28mlist\u001b[39m, \u001b[38;5;28mtuple\u001b[39m)):\n\u001b[0;32m    201\u001b[0m     chunks \u001b[38;5;241m=\u001b[39m \u001b[38;5;28mlist\u001b[39m(chunks)\n",
      "File \u001b[1;32mC:\\Anaconda3\\lib\\json\\encoder.py:257\u001b[0m, in \u001b[0;36mJSONEncoder.iterencode\u001b[1;34m(self, o, _one_shot)\u001b[0m\n\u001b[0;32m    252\u001b[0m \u001b[38;5;28;01melse\u001b[39;00m:\n\u001b[0;32m    253\u001b[0m     _iterencode \u001b[38;5;241m=\u001b[39m _make_iterencode(\n\u001b[0;32m    254\u001b[0m         markers, \u001b[38;5;28mself\u001b[39m\u001b[38;5;241m.\u001b[39mdefault, _encoder, \u001b[38;5;28mself\u001b[39m\u001b[38;5;241m.\u001b[39mindent, floatstr,\n\u001b[0;32m    255\u001b[0m         \u001b[38;5;28mself\u001b[39m\u001b[38;5;241m.\u001b[39mkey_separator, \u001b[38;5;28mself\u001b[39m\u001b[38;5;241m.\u001b[39mitem_separator, \u001b[38;5;28mself\u001b[39m\u001b[38;5;241m.\u001b[39msort_keys,\n\u001b[0;32m    256\u001b[0m         \u001b[38;5;28mself\u001b[39m\u001b[38;5;241m.\u001b[39mskipkeys, _one_shot)\n\u001b[1;32m--> 257\u001b[0m \u001b[38;5;28;01mreturn\u001b[39;00m \u001b[43m_iterencode\u001b[49m\u001b[43m(\u001b[49m\u001b[43mo\u001b[49m\u001b[43m,\u001b[49m\u001b[43m \u001b[49m\u001b[38;5;241;43m0\u001b[39;49m\u001b[43m)\u001b[49m\n",
      "File \u001b[1;32mC:\\Anaconda3\\lib\\json\\encoder.py:179\u001b[0m, in \u001b[0;36mJSONEncoder.default\u001b[1;34m(self, o)\u001b[0m\n\u001b[0;32m    160\u001b[0m \u001b[38;5;28;01mdef\u001b[39;00m \u001b[38;5;21mdefault\u001b[39m(\u001b[38;5;28mself\u001b[39m, o):\n\u001b[0;32m    161\u001b[0m     \u001b[38;5;124;03m\"\"\"Implement this method in a subclass such that it returns\u001b[39;00m\n\u001b[0;32m    162\u001b[0m \u001b[38;5;124;03m    a serializable object for ``o``, or calls the base implementation\u001b[39;00m\n\u001b[0;32m    163\u001b[0m \u001b[38;5;124;03m    (to raise a ``TypeError``).\u001b[39;00m\n\u001b[1;32m   (...)\u001b[0m\n\u001b[0;32m    177\u001b[0m \n\u001b[0;32m    178\u001b[0m \u001b[38;5;124;03m    \"\"\"\u001b[39;00m\n\u001b[1;32m--> 179\u001b[0m     \u001b[38;5;28;01mraise\u001b[39;00m \u001b[38;5;167;01mTypeError\u001b[39;00m(\u001b[38;5;124mf\u001b[39m\u001b[38;5;124m'\u001b[39m\u001b[38;5;124mObject of type \u001b[39m\u001b[38;5;132;01m{\u001b[39;00mo\u001b[38;5;241m.\u001b[39m\u001b[38;5;18m__class__\u001b[39m\u001b[38;5;241m.\u001b[39m\u001b[38;5;18m__name__\u001b[39m\u001b[38;5;132;01m}\u001b[39;00m\u001b[38;5;124m \u001b[39m\u001b[38;5;124m'\u001b[39m\n\u001b[0;32m    180\u001b[0m                     \u001b[38;5;124mf\u001b[39m\u001b[38;5;124m'\u001b[39m\u001b[38;5;124mis not JSON serializable\u001b[39m\u001b[38;5;124m'\u001b[39m)\n",
      "\u001b[1;31mTypeError\u001b[0m: Object of type Who is not JSON serializable"
     ]
    }
   ],
   "source": [
    "import json\n",
    "\n",
    "class Who:\n",
    "    def __init__(self, name, age):\n",
    "        self.name = name\n",
    "        self.age = age\n",
    "\n",
    "some_man = Who('John Doe', 42)\n",
    "print(json.dumps(some_man))"
   ]
  },
  {
   "cell_type": "code",
   "execution_count": 10,
   "id": "908cdbef",
   "metadata": {},
   "outputs": [
    {
     "name": "stdout",
     "output_type": "stream",
     "text": [
      "{\"name\": \"John Doe\", \"age\": 42}\n"
     ]
    }
   ],
   "source": [
    "import json\n",
    "\n",
    "class Who:\n",
    "    def __init__(self, name, age):\n",
    "        self.name = name\n",
    "        self.age = age\n",
    "\n",
    "def encode_who(w):\n",
    "    if isinstance(w, Who):\n",
    "        return w.__dict__\n",
    "    else:\n",
    "        raise TypeError(w.__class__.__name__ + ' is not JSON serializable')\n",
    "\n",
    "some_man = Who('John Doe', 42)\n",
    "print(json.dumps(some_man, default=encode_who))\n"
   ]
  },
  {
   "cell_type": "code",
   "execution_count": 12,
   "id": "9ad93287",
   "metadata": {},
   "outputs": [
    {
     "name": "stdout",
     "output_type": "stream",
     "text": [
      "{\"name\": \"John Doe\", \"age\": 42}\n"
     ]
    }
   ],
   "source": [
    "import json\n",
    "\n",
    "class Who:\n",
    "    def __init__(self, name, age):\n",
    "        self.name = name\n",
    "        self.age = age\n",
    "\n",
    "class MyEncoder(json.JSONEncoder):\n",
    "    def default(self, w):\n",
    "        if isinstance(w, Who):\n",
    "            return w.__dict__\n",
    "        else:\n",
    "            return super().default(self, z)\n",
    "\n",
    "some_man = Who('John Doe', 42)\n",
    "print(json.dumps(some_man, cls=MyEncoder))\n"
   ]
  },
  {
   "cell_type": "code",
   "execution_count": 13,
   "id": "0fcf7dc0",
   "metadata": {},
   "outputs": [
    {
     "name": "stdout",
     "output_type": "stream",
     "text": [
      "<class 'float'>\n",
      "16021766189.98\n"
     ]
    }
   ],
   "source": [
    "import json\n",
    "\n",
    "jstr = '16021766189.98'\n",
    "electron = json.loads(jstr)\n",
    "print(type(electron))\n",
    "print(electron)\n"
   ]
  },
  {
   "cell_type": "code",
   "execution_count": 14,
   "id": "6eb7d14d",
   "metadata": {},
   "outputs": [
    {
     "name": "stdout",
     "output_type": "stream",
     "text": [
      "<class 'str'>\n",
      "\"The Meaning of Life\" by Monty Python's Flying Circus\n"
     ]
    }
   ],
   "source": [
    "import json\n",
    "\n",
    "jstr = '\"\\\\\"The Meaning of Life\\\\\" by Monty Python\\'s Flying Circus\"'\n",
    "comics = json.loads(jstr)\n",
    "print(type(comics))\n",
    "print(comics)"
   ]
  },
  {
   "cell_type": "code",
   "execution_count": 15,
   "id": "742e1cf4",
   "metadata": {},
   "outputs": [
    {
     "name": "stdout",
     "output_type": "stream",
     "text": [
      "<class '__main__.Who'>\n",
      "{'name': 'Jane Doe', 'age': 23}\n"
     ]
    }
   ],
   "source": [
    "import json\n",
    "\n",
    "class Who:\n",
    "    def __init__(self, name, age):\n",
    "        self.name = name\n",
    "        self.age = age\n",
    "\n",
    "def encode_who(w):\n",
    "    if isinstance(w, Who):\n",
    "        return w.__dict__\n",
    "    else:\n",
    "        raise TypeError(w.__class__.__name__ + 'is not JSON serializable')\n",
    "\n",
    "def decode_who(w):\n",
    "    return Who(w['name'], w['age'])\n",
    "\n",
    "old_man = Who(\"Jane Doe\", 23)\n",
    "json_str = json.dumps(old_man, default=encode_who)\n",
    "new_man = json.loads(json_str, object_hook=decode_who)\n",
    "print(type(new_man))\n",
    "print(new_man.__dict__)\n"
   ]
  },
  {
   "cell_type": "code",
   "execution_count": 17,
   "id": "5393d409",
   "metadata": {},
   "outputs": [
    {
     "name": "stdout",
     "output_type": "stream",
     "text": [
      "<class '__main__.Who'>\n",
      "{'name': 'Jane Doe', 'age': 23}\n"
     ]
    }
   ],
   "source": [
    "import json\n",
    "\n",
    "class Who:\n",
    "    def __init__(self, name, age):\n",
    "        self.name = name\n",
    "        self.age = age\n",
    "\n",
    "class MyEncoder(json.JSONEncoder):\n",
    "    def default(self, w):\n",
    "        if isinstance(w, Who):\n",
    "            return w.__dict__\n",
    "        else:\n",
    "            return super().default(self, z)\n",
    "\n",
    "class MyDecoder(json.JSONDecoder):\n",
    "    def __init__(self):\n",
    "        json.JSONDecoder.__init__(self, object_hook=self.decode_who)\n",
    "\n",
    "    def decode_who(self, d):\n",
    "        return Who(**d)\n",
    "\n",
    "some_man = Who('Jane Doe', 23)\n",
    "json_str = json.dumps(some_man, cls=MyEncoder)\n",
    "new_man = json.loads(json_str, cls=MyDecoder)\n",
    "\n",
    "print(type(new_man))\n",
    "print(new_man.__dict__)"
   ]
  },
  {
   "cell_type": "markdown",
   "id": "0846a264",
   "metadata": {},
   "source": [
    "# Working with XML files\n"
   ]
  },
  {
   "cell_type": "code",
   "execution_count": 39,
   "id": "c73bba89",
   "metadata": {},
   "outputs": [
    {
     "name": "stdout",
     "output_type": "stream",
     "text": [
      "cars_for_sale\n",
      "\t car\n",
      "\t id\t brand\t model\t production_year\t price{'currency': 'USD'} = 35900\n",
      "\t car\n",
      "\t id\t brand\t model\t production_year\t price{'currency': 'GBP'} = 32000\n"
     ]
    }
   ],
   "source": [
    "import xml.etree.ElementTree\n",
    "\n",
    "cars_for_sale = xml.etree.ElementTree.parse('cars.xml').getroot()\n",
    "print(cars_for_sale.tag)\n",
    "for car in cars_for_sale.findall('car'):\n",
    "    print('\\t', car.tag)\n",
    "    for prop in car:\n",
    "        print('\\t', prop.tag, end='')\n",
    "        if prop.tag == 'price':\n",
    "            print(prop.attrib, end='')\n",
    "    print(' =', prop.text)\n"
   ]
  },
  {
   "cell_type": "code",
   "execution_count": 20,
   "id": "9db64286",
   "metadata": {},
   "outputs": [],
   "source": [
    "import xml.etree.ElementTree\n",
    "\n",
    "tree = xml.etree.ElementTree.parse('cars.xml')\n",
    "cars_for_sale = tree.getroot()\n",
    "for car in cars_for_sale.findall('car'):\n",
    "    if car.find('brand').text == 'Ford' and car.find('model').text == 'Mustang':\n",
    "        cars_for_sale.remove(car)\n",
    "        break\n",
    "new_car = xml.etree.ElementTree.Element('car')\n",
    "xml.etree.ElementTree.SubElement(new_car, 'id').text = '4'\n",
    "xml.etree.ElementTree.SubElement(new_car, 'brand').text = 'Maserati'\n",
    "xml.etree.ElementTree.SubElement(new_car, 'model').text = 'Mexico'\n",
    "xml.etree.ElementTree.SubElement(new_car, 'production_year').text = '1970'\n",
    "xml.etree.ElementTree.SubElement(new_car, 'price', {'currency': 'EUR'}).text = '61800'\n",
    "cars_for_sale.append(new_car)\n",
    "tree.write('newcars.xml', method='')\n"
   ]
  },
  {
   "cell_type": "code",
   "execution_count": null,
   "id": "26fede2e",
   "metadata": {},
   "outputs": [],
   "source": [
    "# install node.js\n",
    "# npm install -g json-server\n",
    "# json-server --watch cars.json\n",
    "(base) C:\\Users\\fan.z>AppData\\Roaming\\npm\\json-server --watch car.json\n",
    "#in the folder where cars.json exists, create a subfolder named public;\n",
    "#inside the public folder, create a file named index.html, fill it with some text, and save.\n",
    "#We created such a file containing one line:\n",
    "\n",
    "#CARS DATABASE"
   ]
  },
  {
   "cell_type": "code",
   "execution_count": 106,
   "id": "eede9592",
   "metadata": {},
   "outputs": [
    {
     "name": "stdout",
     "output_type": "stream",
     "text": [
      "200\n",
      "{'X-Powered-By': 'Express', 'Vary': 'Origin, Accept-Encoding', 'Access-Control-Allow-Credentials': 'true', 'Accept-Ranges': 'bytes', 'Cache-Control': 'public, max-age=0', 'Last-Modified': 'Thu, 17 Feb 2022 19:23:08 GMT', 'ETag': 'W/\"809-17f0923646c\"', 'Content-Type': 'text/html; charset=UTF-8', 'Content-Encoding': 'gzip', 'Date': 'Fri, 25 Feb 2022 19:02:32 GMT', 'Connection': 'keep-alive', 'Keep-Alive': 'timeout=5', 'Transfer-Encoding': 'chunked'}\n",
      "<PreparedRequest [GET]>\n"
     ]
    }
   ],
   "source": [
    "import requests\n",
    "\n",
    "reply = requests.get('http://localhost:3000')\n",
    "print(reply.status_code)\n",
    "print(reply.headers)\n",
    "print(reply.request)\n"
   ]
  },
  {
   "cell_type": "code",
   "execution_count": 2,
   "id": "b2d55da3",
   "metadata": {},
   "outputs": [
    {
     "name": "stdout",
     "output_type": "stream",
     "text": [
      "{'name': 'status_codes', 'continue': 100, 'CONTINUE': 100, 'switching_protocols': 101, 'SWITCHING_PROTOCOLS': 101, 'processing': 102, 'PROCESSING': 102, 'checkpoint': 103, 'CHECKPOINT': 103, 'uri_too_long': 122, 'URI_TOO_LONG': 122, 'request_uri_too_long': 122, 'REQUEST_URI_TOO_LONG': 122, 'ok': 200, 'OK': 200, 'okay': 200, 'OKAY': 200, 'all_ok': 200, 'ALL_OK': 200, 'all_okay': 200, 'ALL_OKAY': 200, 'all_good': 200, 'ALL_GOOD': 200, '\\\\o/': 200, '✓': 200, 'created': 201, 'CREATED': 201, 'accepted': 202, 'ACCEPTED': 202, 'non_authoritative_info': 203, 'NON_AUTHORITATIVE_INFO': 203, 'non_authoritative_information': 203, 'NON_AUTHORITATIVE_INFORMATION': 203, 'no_content': 204, 'NO_CONTENT': 204, 'reset_content': 205, 'RESET_CONTENT': 205, 'reset': 205, 'RESET': 205, 'partial_content': 206, 'PARTIAL_CONTENT': 206, 'partial': 206, 'PARTIAL': 206, 'multi_status': 207, 'MULTI_STATUS': 207, 'multiple_status': 207, 'MULTIPLE_STATUS': 207, 'multi_stati': 207, 'MULTI_STATI': 207, 'multiple_stati': 207, 'MULTIPLE_STATI': 207, 'already_reported': 208, 'ALREADY_REPORTED': 208, 'im_used': 226, 'IM_USED': 226, 'multiple_choices': 300, 'MULTIPLE_CHOICES': 300, 'moved_permanently': 301, 'MOVED_PERMANENTLY': 301, 'moved': 301, 'MOVED': 301, '\\\\o-': 301, 'found': 302, 'FOUND': 302, 'see_other': 303, 'SEE_OTHER': 303, 'other': 303, 'OTHER': 303, 'not_modified': 304, 'NOT_MODIFIED': 304, 'use_proxy': 305, 'USE_PROXY': 305, 'switch_proxy': 306, 'SWITCH_PROXY': 306, 'temporary_redirect': 307, 'TEMPORARY_REDIRECT': 307, 'temporary_moved': 307, 'TEMPORARY_MOVED': 307, 'temporary': 307, 'TEMPORARY': 307, 'permanent_redirect': 308, 'PERMANENT_REDIRECT': 308, 'resume_incomplete': 308, 'RESUME_INCOMPLETE': 308, 'resume': 308, 'RESUME': 308, 'bad_request': 400, 'BAD_REQUEST': 400, 'bad': 400, 'BAD': 400, 'unauthorized': 401, 'UNAUTHORIZED': 401, 'payment_required': 402, 'PAYMENT_REQUIRED': 402, 'payment': 402, 'PAYMENT': 402, 'forbidden': 403, 'FORBIDDEN': 403, 'not_found': 404, 'NOT_FOUND': 404, '-o-': 404, '-O-': 404, 'method_not_allowed': 405, 'METHOD_NOT_ALLOWED': 405, 'not_allowed': 405, 'NOT_ALLOWED': 405, 'not_acceptable': 406, 'NOT_ACCEPTABLE': 406, 'proxy_authentication_required': 407, 'PROXY_AUTHENTICATION_REQUIRED': 407, 'proxy_auth': 407, 'PROXY_AUTH': 407, 'proxy_authentication': 407, 'PROXY_AUTHENTICATION': 407, 'request_timeout': 408, 'REQUEST_TIMEOUT': 408, 'timeout': 408, 'TIMEOUT': 408, 'conflict': 409, 'CONFLICT': 409, 'gone': 410, 'GONE': 410, 'length_required': 411, 'LENGTH_REQUIRED': 411, 'precondition_failed': 412, 'PRECONDITION_FAILED': 412, 'precondition': 428, 'PRECONDITION': 428, 'request_entity_too_large': 413, 'REQUEST_ENTITY_TOO_LARGE': 413, 'request_uri_too_large': 414, 'REQUEST_URI_TOO_LARGE': 414, 'unsupported_media_type': 415, 'UNSUPPORTED_MEDIA_TYPE': 415, 'unsupported_media': 415, 'UNSUPPORTED_MEDIA': 415, 'media_type': 415, 'MEDIA_TYPE': 415, 'requested_range_not_satisfiable': 416, 'REQUESTED_RANGE_NOT_SATISFIABLE': 416, 'requested_range': 416, 'REQUESTED_RANGE': 416, 'range_not_satisfiable': 416, 'RANGE_NOT_SATISFIABLE': 416, 'expectation_failed': 417, 'EXPECTATION_FAILED': 417, 'im_a_teapot': 418, 'IM_A_TEAPOT': 418, 'teapot': 418, 'TEAPOT': 418, 'i_am_a_teapot': 418, 'I_AM_A_TEAPOT': 418, 'misdirected_request': 421, 'MISDIRECTED_REQUEST': 421, 'unprocessable_entity': 422, 'UNPROCESSABLE_ENTITY': 422, 'unprocessable': 422, 'UNPROCESSABLE': 422, 'locked': 423, 'LOCKED': 423, 'failed_dependency': 424, 'FAILED_DEPENDENCY': 424, 'dependency': 424, 'DEPENDENCY': 424, 'unordered_collection': 425, 'UNORDERED_COLLECTION': 425, 'unordered': 425, 'UNORDERED': 425, 'upgrade_required': 426, 'UPGRADE_REQUIRED': 426, 'upgrade': 426, 'UPGRADE': 426, 'precondition_required': 428, 'PRECONDITION_REQUIRED': 428, 'too_many_requests': 429, 'TOO_MANY_REQUESTS': 429, 'too_many': 429, 'TOO_MANY': 429, 'header_fields_too_large': 431, 'HEADER_FIELDS_TOO_LARGE': 431, 'fields_too_large': 431, 'FIELDS_TOO_LARGE': 431, 'no_response': 444, 'NO_RESPONSE': 444, 'none': 444, 'NONE': 444, 'retry_with': 449, 'RETRY_WITH': 449, 'retry': 449, 'RETRY': 449, 'blocked_by_windows_parental_controls': 450, 'BLOCKED_BY_WINDOWS_PARENTAL_CONTROLS': 450, 'parental_controls': 450, 'PARENTAL_CONTROLS': 450, 'unavailable_for_legal_reasons': 451, 'UNAVAILABLE_FOR_LEGAL_REASONS': 451, 'legal_reasons': 451, 'LEGAL_REASONS': 451, 'client_closed_request': 499, 'CLIENT_CLOSED_REQUEST': 499, 'internal_server_error': 500, 'INTERNAL_SERVER_ERROR': 500, 'server_error': 500, 'SERVER_ERROR': 500, '/o\\\\': 500, '✗': 500, 'not_implemented': 501, 'NOT_IMPLEMENTED': 501, 'bad_gateway': 502, 'BAD_GATEWAY': 502, 'service_unavailable': 503, 'SERVICE_UNAVAILABLE': 503, 'unavailable': 503, 'UNAVAILABLE': 503, 'gateway_timeout': 504, 'GATEWAY_TIMEOUT': 504, 'http_version_not_supported': 505, 'HTTP_VERSION_NOT_SUPPORTED': 505, 'http_version': 505, 'HTTP_VERSION': 505, 'variant_also_negotiates': 506, 'VARIANT_ALSO_NEGOTIATES': 506, 'insufficient_storage': 507, 'INSUFFICIENT_STORAGE': 507, 'bandwidth_limit_exceeded': 509, 'BANDWIDTH_LIMIT_EXCEEDED': 509, 'bandwidth': 509, 'BANDWIDTH': 509, 'not_extended': 510, 'NOT_EXTENDED': 510, 'network_authentication_required': 511, 'NETWORK_AUTHENTICATION_REQUIRED': 511, 'network_auth': 511, 'NETWORK_AUTH': 511, 'network_authentication': 511, 'NETWORK_AUTHENTICATION': 511}\n"
     ]
    }
   ],
   "source": [
    "# status codes.\n",
    "import requests\n",
    "\n",
    "print(requests.codes.__dict__)\n"
   ]
  },
  {
   "cell_type": "code",
   "execution_count": 4,
   "id": "0a48d890",
   "metadata": {},
   "outputs": [
    {
     "name": "stdout",
     "output_type": "stream",
     "text": [
      "{'X-Powered-By': 'Express', 'Vary': 'Origin, Accept-Encoding', 'Access-Control-Allow-Credentials': 'true', 'Accept-Ranges': 'bytes', 'Cache-Control': 'public, max-age=0', 'Last-Modified': 'Thu, 17 Feb 2022 19:23:08 GMT', 'ETag': 'W/\"809-17f0923646c\"', 'Content-Type': 'text/html; charset=UTF-8', 'Content-Encoding': 'gzip', 'Date': 'Fri, 18 Feb 2022 14:18:25 GMT', 'Connection': 'keep-alive', 'Keep-Alive': 'timeout=5', 'Transfer-Encoding': 'chunked'}\n",
      "\n",
      "text/html; charset=UTF-8\n"
     ]
    }
   ],
   "source": [
    "import requests\n",
    "\n",
    "reply = requests.get('http://localhost:3000')\n",
    "if reply.status_code == requests.codes.ok:\n",
    "\n",
    "    print(reply.headers)\n",
    "    print()\n",
    "    print(reply.headers['Content-Type'])"
   ]
  },
  {
   "cell_type": "code",
   "execution_count": 5,
   "id": "3bcce690",
   "metadata": {},
   "outputs": [
    {
     "name": "stdout",
     "output_type": "stream",
     "text": [
      "<html>\n",
      "  <head>\n",
      "    <link\n",
      "      rel=\"stylesheet\"\n",
      "      href=\"https://use.fontawesome.com/releases/v5.8.2/css/all.css\"\n",
      "      integrity=\"sha384-oS3vJWv+0UjzBfQzYUhtDYW+Pj2yciDJxpsK1OYPAYjqT085Qq/1cq5FLXAZQ7Ay\"\n",
      "      crossorigin=\"anonymous\"\n",
      "    />\n",
      "    <link rel=\"stylesheet\" href=\"style.css\" />\n",
      "    <title>JSON Server</title>\n",
      "  </head>\n",
      "\n",
      "  <body>\n",
      "    <header>\n",
      "      <div class=\"container\">\n",
      "        <nav>\n",
      "          <ul>\n",
      "            <li class=\"title\">\n",
      "              JSON Server\n",
      "            </li>\n",
      "            <li>\n",
      "              <a href=\"https://github.com/users/typicode/sponsorship\">\n",
      "                <i class=\"fas fa-heart\"></i>GitHub Sponsors\n",
      "              </a>\n",
      "            </li>\n",
      "            <li>\n",
      "              <a href=\"https://my-json-server.typicode.com\">\n",
      "                <i class=\"fas fa-burn\"></i>My JSON Server\n",
      "              </a>\n",
      "            </li>\n",
      "            <li>\n",
      "              <a href=\"https://thanks.typicode.com\">\n",
      "                <i class=\"far fa-laugh\"></i>Supporters\n",
      "              </a>\n",
      "            </li>\n",
      "          </ul>\n",
      "        </nav>\n",
      "      </div>\n",
      "    </header>\n",
      "    <main>\n",
      "      <div class=\"container\">\n",
      "        <h1>Congrats!</h1>\n",
      "        <p>\n",
      "          You're successfully running JSON Server\n",
      "          <br />\n",
      "          ✧*｡٩(ˊᗜˋ*)و✧*｡\n",
      "        </p>\n",
      "\n",
      "        <div id=\"resources\"></div>\n",
      "\n",
      "        <p>\n",
      "          To access and modify resources, you can use any HTTP method:\n",
      "        </p>\n",
      "        <p>\n",
      "          <code>GET</code>\n",
      "          <code>POST</code>\n",
      "          <code>PUT</code>\n",
      "          <code>PATCH</code>\n",
      "          <code>DELETE</code>\n",
      "          <code>OPTIONS</code>\n",
      "        </p>\n",
      "\n",
      "        <div id=\"custom-routes\"></div>\n",
      "\n",
      "        <h1>Documentation</h1>\n",
      "        <p>\n",
      "          <a href=\"https://github.com/typicode/json-server\">\n",
      "            README\n",
      "          </a>\n",
      "        </p>\n",
      "      </div>\n",
      "    </main>\n",
      "\n",
      "    <footer>\n",
      "      <div class=\"container\">\n",
      "        <p>\n",
      "          To replace this page, create a\n",
      "          <code>./public/index.html</code> file.\n",
      "        </p>\n",
      "      </div>\n",
      "    </footer>\n",
      "\n",
      "    <script src=\"script.js\"></script>\n",
      "  </body>\n",
      "</html>\n",
      "\n"
     ]
    }
   ],
   "source": [
    "import requests\n",
    "\n",
    "reply = requests.get('http://localhost:3000')\n",
    "print(reply.text)\n",
    "\n",
    "#if you want the server to give you something, GET is the way to ask for it.\n",
    "#if you want to give the server something new, POST is ready to be your deliverer.\n",
    "#if you want to update something that the server is currently keeping, PUT will know the way.\n",
    "# DELETE, HEAD, CONNECT, OPTIONS, TRACE"
   ]
  },
  {
   "cell_type": "code",
   "execution_count": 6,
   "id": "05c73990",
   "metadata": {},
   "outputs": [
    {
     "name": "stdout",
     "output_type": "stream",
     "text": [
      "Here is your data, my Master!\n"
     ]
    }
   ],
   "source": [
    "#anything goes wrong?\n",
    "import requests\n",
    "\n",
    "try:\n",
    "    reply = requests.get('http://localhost:3000', timeout=1)\n",
    "except requests.exceptions.Timeout:\n",
    "    print('Sorry, Mr. Impatient, you didn\\'t get your data')\n",
    "else:\n",
    "    print('Here is your data, my Master!')"
   ]
  },
  {
   "cell_type": "code",
   "execution_count": 7,
   "id": "fccbb883",
   "metadata": {},
   "outputs": [
    {
     "name": "stdout",
     "output_type": "stream",
     "text": [
      "Nobody's home, sorry!\n"
     ]
    }
   ],
   "source": [
    "import requests\n",
    "# it’s addressing its efforts to port 3001,\n",
    "try:\n",
    "    reply = requests.get('http://localhost:3001', timeout=1)\n",
    "except requests.exceptions.ConnectionError:\n",
    "    print('Nobody\\'s home, sorry!')\n",
    "else:\n",
    "    print('Everything fine!')"
   ]
  },
  {
   "cell_type": "code",
   "execution_count": 7,
   "id": "eb127117",
   "metadata": {},
   "outputs": [
    {
     "name": "stdout",
     "output_type": "stream",
     "text": [
      "Recipient unknown!\n"
     ]
    }
   ],
   "source": [
    "import requests\n",
    "\n",
    "try:\n",
    "    reply = requests.get('http:////////////')\n",
    "except requests.exceptions.InvalidURL:\n",
    "    print('Recipient unknown!')\n",
    "else:\n",
    "    print('Everything fine!')\n"
   ]
  },
  {
   "cell_type": "raw",
   "id": "64519a36",
   "metadata": {},
   "source": [
    "RequestException\n",
    "|___HTTPError\n",
    "|___ConnectionError\n",
    "|   |___ProxyError\t\n",
    "|   |___SSLError\t\n",
    "|___Timeout\n",
    "|   |___ConnectTimeout\n",
    "|   |___ReadTimeout\n",
    "|___URLRequired\n",
    "|___TooManyRedirects\n",
    "|___MissingSchema\n",
    "|___InvalidSchema\n",
    "|___InvalidURL\n",
    "|   |___InvalidProxyURL\n",
    "|___InvalidHeader\n",
    "|___ChunkedEncodingError\n",
    "|___ContentDecodingError\n",
    "|___StreamConsumedError\n",
    "|___RetryError\n",
    "|___UnrewindableBodyError"
   ]
  },
  {
   "cell_type": "markdown",
   "id": "54f493bf",
   "metadata": {},
   "source": [
    "## C means Create\n",
    "## R means Read or, if you prefere, retrieve\n",
    "## U means Update\n",
    "## To make our set complete, we need D for Delete.\n",
    "\n"
   ]
  },
  {
   "cell_type": "code",
   "execution_count": 9,
   "id": "58ca5381",
   "metadata": {},
   "outputs": [
    {
     "name": "stdout",
     "output_type": "stream",
     "text": [
      "[\n",
      "  {\n",
      "    \"id\": 2,\n",
      "    \"brand\": \"Chevrolet\",\n",
      "    \"model\": \"Camaro\",\n",
      "    \"production_year\": 1988,\n",
      "    \"convertible\": true\n",
      "  },\n",
      "  {\n",
      "    \"id\": 3,\n",
      "    \"brand\": \"Aston Martin\",\n",
      "    \"model\": \"Rapide\",\n",
      "    \"production_year\": 2010,\n",
      "    \"convertible\": false\n",
      "  },\n",
      "  {\n",
      "    \"id\": 4,\n",
      "    \"brand\": \"Maserati\",\n",
      "    \"model\": \"Mexico\",\n",
      "    \"production_year\": 1970,\n",
      "    \"convertible\": false\n",
      "  },\n",
      "  {\n",
      "    \"id\": 5,\n",
      "    \"brand\": \"Nissan\",\n",
      "    \"model\": \"Fairlady\",\n",
      "    \"production_year\": 1974,\n",
      "    \"convertible\": false\n",
      "  },\n",
      "  {\n",
      "    \"id\": 6,\n",
      "    \"brand\": \"Mercedes Benz\",\n",
      "    \"model\": \"300SL\",\n",
      "    \"production_year\": 1967,\n",
      "    \"convertible\": true\n",
      "  },\n",
      "  {\n",
      "    \"id\": 7,\n",
      "    \"brand\": \"Porsche\",\n",
      "    \"model\": \"911\",\n",
      "    \"production_year\": 1963,\n",
      "    \"convertible\": false\n",
      "  }\n",
      "]\n"
     ]
    }
   ],
   "source": [
    "import requests\n",
    "\n",
    "try:\n",
    "    reply = requests.get(\"http://localhost:3000/cars\")\n",
    "except requests.RequestException:\n",
    "    print(\"Communication error\")\n",
    "else:\n",
    "    if reply.status_code == requests.codes.ok:\n",
    "        print(reply.text)\n",
    "    else:\n",
    "        print(\"Server error\")\n"
   ]
  },
  {
   "cell_type": "code",
   "execution_count": 10,
   "id": "f807cd6d",
   "metadata": {},
   "outputs": [
    {
     "name": "stdout",
     "output_type": "stream",
     "text": [
      "application/json; charset=utf-8\n",
      "[{'id': 2, 'brand': 'Chevrolet', 'model': 'Camaro', 'production_year': 1988, 'convertible': True}, {'id': 3, 'brand': 'Aston Martin', 'model': 'Rapide', 'production_year': 2010, 'convertible': False}, {'id': 4, 'brand': 'Maserati', 'model': 'Mexico', 'production_year': 1970, 'convertible': False}, {'id': 5, 'brand': 'Nissan', 'model': 'Fairlady', 'production_year': 1974, 'convertible': False}, {'id': 6, 'brand': 'Mercedes Benz', 'model': '300SL', 'production_year': 1967, 'convertible': True}, {'id': 7, 'brand': 'Porsche', 'model': '911', 'production_year': 1963, 'convertible': False}]\n"
     ]
    }
   ],
   "source": [
    "import requests\n",
    "\n",
    "try:\n",
    "    reply = requests.get(\"http://localhost:3000/cars\")\n",
    "except:\n",
    "    print(\"Communication error\")\n",
    "else:\n",
    "    if reply.status_code == requests.codes.ok:\n",
    "        print(reply.headers['Content-Type'])\n",
    "        print(reply.json())\n",
    "    else:\n",
    "        print(\"Server error\")\n"
   ]
  },
  {
   "cell_type": "code",
   "execution_count": 11,
   "id": "ee74c8ea",
   "metadata": {},
   "outputs": [
    {
     "name": "stdout",
     "output_type": "stream",
     "text": [
      "id        | brand          | model     | production_year     | convertible    | \n",
      "2         | Chevrolet      | Camaro    | 1988                | True           | \n",
      "3         | Aston Martin   | Rapide    | 2010                | False          | \n",
      "4         | Maserati       | Mexico    | 1970                | False          | \n",
      "5         | Nissan         | Fairlady  | 1974                | False          | \n",
      "6         | Mercedes Benz  | 300SL     | 1967                | True           | \n",
      "7         | Porsche        | 911       | 1963                | False          | \n"
     ]
    }
   ],
   "source": [
    "import requests\n",
    "\n",
    "key_names = [\"id\", \"brand\", \"model\", \"production_year\", \"convertible\"]\n",
    "kay_widths = [10, 15, 10, 20, 15]\n",
    "\n",
    "\n",
    "def show_head():\n",
    "    for (n, w) in zip(key_names, kay_widths):\n",
    "        print(n.ljust(w), end='| ')\n",
    "    print()\n",
    "\n",
    "\n",
    "def show_car(car):\n",
    "    for (n, w) in zip(key_names, kay_widths):\n",
    "        print(str(car[n]).ljust(w), end='| ')\n",
    "    print()\n",
    "\n",
    "\n",
    "def show(json):\n",
    "    show_head()\n",
    "    for car in json:\n",
    "        show_car(car)\n",
    "\n",
    "\n",
    "try:\n",
    "    reply = requests.get('http://localhost:3000/cars')\n",
    "except requests.RequestException:\n",
    "    print('Communication error')\n",
    "else:\n",
    "    if reply.status_code == requests.codes.ok:\n",
    "        show(reply.json()) # OUR SHOW FUNCTION USED HERE\n",
    "    else:\n",
    "        print('Server error')\n"
   ]
  },
  {
   "cell_type": "code",
   "execution_count": 19,
   "id": "fdde646a",
   "metadata": {},
   "outputs": [
    {
     "name": "stdout",
     "output_type": "stream",
     "text": [
      "id        | brand          | model     | production_year     | convertible    | \n",
      "2         | Chevrolet      | Camaro    | 1988                | True           | \n"
     ]
    }
   ],
   "source": [
    "# http://server:port/resource/id\n",
    "# http://localhost:3000/cars/2\n",
    "import requests\n",
    "\n",
    "key_names = [\"id\", \"brand\", \"model\", \"production_year\", \"convertible\"]\n",
    "key_widths = [10, 15, 10, 20, 15]\n",
    "\n",
    "def show_head():\n",
    "    for (n, w) in zip(key_names, key_widths):\n",
    "        print(n.ljust(w), end='| ')\n",
    "    print()\n",
    "\n",
    "\n",
    "def show_empty():\n",
    "    for w in key_widths:\n",
    "        print(' '.ljust(w), end='| ')\n",
    "    print()\n",
    "\n",
    "def show_car(car):\n",
    "    for (n, w) in zip(key_names, key_widths):\n",
    "        print(str(car[n]).ljust(w), end='| ')\n",
    "    print()\n",
    "\n",
    "def show(json):\n",
    "    show_head()\n",
    "    if type(json) is list:\n",
    "        for car in json:\n",
    "            show_car(car)\n",
    "    elif type(json) is dict:\n",
    "        if json:\n",
    "            show_car(json)\n",
    "        else:\n",
    "            show_empty()\n",
    "\n",
    "try:\n",
    "    reply = requests.get('http://localhost:3000/cars/2')\n",
    "    #print( reply.status_code)\n",
    "except requests.RequestException:\n",
    "    print('Communication error')\n",
    "else:\n",
    "    if reply.status_code == requests.codes.ok:\n",
    "        show(reply.json())\n",
    "    elif reply.status_code == requests.codes.not_found: # 404\n",
    "        print(\"Resource not found\")\n",
    "    else:\n",
    "        print('Server error')\n"
   ]
  },
  {
   "cell_type": "code",
   "execution_count": 12,
   "id": "f16058f3",
   "metadata": {},
   "outputs": [
    {
     "name": "stdout",
     "output_type": "stream",
     "text": [
      "id        | brand          | model     | production_year     | convertible    | \n",
      "7         | Porsche        | 911       | 1963                | False          | \n",
      "6         | Mercedes Benz  | 300SL     | 1967                | True           | \n",
      "4         | Maserati       | Mexico    | 1970                | False          | \n",
      "5         | Nissan         | Fairlady  | 1974                | False          | \n",
      "2         | Chevrolet      | Camaro    | 1988                | True           | \n",
      "3         | Aston Martin   | Rapide    | 2010                | False          | \n"
     ]
    }
   ],
   "source": [
    "# The json-server assumes that a URI formed in the following way:\n",
    "# http://server:port/resource?_sort=property\n",
    "# by default, it sorts items by their ids\n",
    "import requests\n",
    "\n",
    "key_names = [\"id\", \"brand\", \"model\", \"production_year\", \"convertible\"]\n",
    "key_widths = [10, 15, 10, 20, 15]\n",
    "\n",
    "\n",
    "def show_head():\n",
    "    for (n, w) in zip(key_names, key_widths):\n",
    "        print(n.ljust(w), end='| ')\n",
    "    print()\n",
    "\n",
    "\n",
    "def show_empty():\n",
    "    for w in key_widths:\n",
    "        print(' '.ljust(w), end='| ')\n",
    "    print()\n",
    "\n",
    "\n",
    "def show_car(car):\n",
    "    for (n, w) in zip(key_names, key_widths):\n",
    "        print(str(car[n]).ljust(w), end='| ')\n",
    "    print()\n",
    "\n",
    "\n",
    "def show(json):\n",
    "    show_head()\n",
    "    if type(json) is list:\n",
    "        for car in json:\n",
    "            show_car(car)\n",
    "    elif type(json) is dict:\n",
    "        if json:\n",
    "            show_car(json)\n",
    "        else:\n",
    "            show_empty()\n",
    "\n",
    "\n",
    "try:\n",
    "    reply = requests.get('http://localhost:3000/cars?_sort=production_year')\n",
    "except requests.RequestException:\n",
    "    print('Communication error')\n",
    "else:\n",
    "    if reply.status_code == requests.codes.ok:\n",
    "        show(reply.json()) \n",
    "    elif reply.status_code == requests.codes.not_found:\n",
    "        print(\"Resource not found\")\n",
    "    else:\n",
    "        print('Server error')\n"
   ]
  },
  {
   "cell_type": "code",
   "execution_count": 20,
   "id": "54d45a81",
   "metadata": {},
   "outputs": [
    {
     "name": "stdout",
     "output_type": "stream",
     "text": [
      "id        | brand          | model     | production_year     | convertible    | \n",
      "3         | Aston Martin   | Rapide    | 2010                | False          | \n",
      "2         | Chevrolet      | Camaro    | 1988                | True           | \n",
      "5         | Nissan         | Fairlady  | 1974                | False          | \n",
      "4         | Maserati       | Mexico    | 1970                | False          | \n",
      "6         | Mercedes Benz  | 300SL     | 1967                | True           | \n",
      "7         | Porsche        | 911       | 1963                | False          | \n"
     ]
    }
   ],
   "source": [
    "# The json-server is also able to reverse the sort order \n",
    "# http://server:port/resource?_sort=property&_order=desc\n",
    "import requests\n",
    "\n",
    "key_names = [\"id\", \"brand\", \"model\", \"production_year\", \"convertible\"]\n",
    "key_widths = [10, 15, 10, 20, 15]\n",
    "# \n",
    "\n",
    "def show_head():\n",
    "    for (n, w) in zip(key_names, key_widths):\n",
    "        print(n.ljust(w), end='| ')\n",
    "    print()\n",
    "\n",
    "def show_empty():\n",
    "    for w in key_widths:\n",
    "        print(' '.ljust(w), end='| ')\n",
    "    print()\n",
    "\n",
    "def show_car(car):\n",
    "    for (n, w) in zip(key_names, key_widths):\n",
    "        print(str(car[n]).ljust(w), end='| ')\n",
    "    print()\n",
    "\n",
    "def show(json):\n",
    "    show_head()\n",
    "    if type(json) is list:\n",
    "        for car in json:\n",
    "            show_car(car)\n",
    "    elif type(json) is dict:\n",
    "        if json:\n",
    "            show_car(json)\n",
    "        else:\n",
    "            show_empty()\n",
    "\n",
    "try:\n",
    "    reply = requests.get('http://localhost:3000/cars?_sort=production_year&_order=desc')\n",
    "except requests.RequestException:\n",
    "    print('Communication error')\n",
    "else:\n",
    "    if reply.status_code == requests.codes.ok:\n",
    "        show(reply.json())\n",
    "    elif reply.status_code == requests.codes.not_found:\n",
    "        print(\"Resource not found\")\n",
    "    else:\n",
    "        print('Server error')\n"
   ]
  },
  {
   "cell_type": "code",
   "execution_count": 14,
   "id": "4046eb6a",
   "metadata": {},
   "outputs": [
    {
     "name": "stdout",
     "output_type": "stream",
     "text": [
      "Connection=keep-alive\n",
      "id        | brand          | model     | production_year     | convertible    | \n",
      "2         | Chevrolet      | Camaro    | 1988                | True           | \n",
      "3         | Aston Martin   | Rapide    | 2010                | False          | \n",
      "4         | Maserati       | Mexico    | 1970                | False          | \n",
      "5         | Nissan         | Fairlady  | 1974                | False          | \n",
      "6         | Mercedes Benz  | 300SL     | 1967                | True           | \n",
      "7         | Porsche        | 911       | 1963                | False          | \n"
     ]
    }
   ],
   "source": [
    "import requests\n",
    "\n",
    "key_names = [\"id\", \"brand\", \"model\", \"production_year\", \"convertible\"]\n",
    "key_widths = [10, 15, 10, 20, 15]\n",
    "\n",
    "def show_head():\n",
    "    for (n, w) in zip(key_names, key_widths):\n",
    "        print(n.ljust(w), end='| ')\n",
    "    print()\n",
    "\n",
    "def show_empty():\n",
    "    for w in key_widths:\n",
    "        print(' '.ljust(w), end='| ')\n",
    "    print()\n",
    "\n",
    "def show_car(car):\n",
    "    for (n, w) in zip(key_names, key_widths):\n",
    "        print(str(car[n]).ljust(w), end='| ')\n",
    "    print()\n",
    "\n",
    "def show(json):\n",
    "    show_head()\n",
    "    if type(json) is list:\n",
    "        for car in json:\n",
    "            show_car(car)\n",
    "    elif type(json) is dict:\n",
    "        if json:\n",
    "            show_car(json)\n",
    "        else:\n",
    "            show_empty()\n",
    "\n",
    "try:\n",
    "    reply = requests.get('http://localhost:3000/cars')\n",
    "except requests.RequestException:\n",
    "    print('Communication error')\n",
    "else:\n",
    "    print('Connection=' + reply.headers['Connection'])  # Connection=keep-alive\n",
    "\n",
    "    if reply.status_code == requests.codes.ok:\n",
    "        show(reply.json())\n",
    "    elif reply.status_code == requests.codes.not_found:\n",
    "        print(\"Resource not found\")\n",
    "    else:\n",
    "        print('Server error')"
   ]
  },
  {
   "cell_type": "code",
   "execution_count": 21,
   "id": "a261b907",
   "metadata": {},
   "outputs": [
    {
     "name": "stdout",
     "output_type": "stream",
     "text": [
      "res=404\n",
      "Connection=close\n",
      "id        | brand          | model     | production_year     | convertible    | \n",
      "2         | Chevrolet      | Camaro    | 1988                | True           | \n",
      "3         | Aston Martin   | Rapide    | 2010                | False          | \n",
      "4         | Maserati       | Mexico    | 1970                | False          | \n",
      "5         | Nissan         | Fairlady  | 1974                | False          | \n",
      "6         | Mercedes Benz  | 300SL     | 1967                | True           | \n",
      "7         | Porsche        | 911       | 1963                | False          | \n"
     ]
    }
   ],
   "source": [
    "#We'll show you how to delete a car from our offer.\n",
    "import requests\n",
    "\n",
    "key_names = [\"id\", \"brand\", \"model\", \"production_year\", \"convertible\"]\n",
    "key_widths = [10, 15, 10, 20, 15]\n",
    "\n",
    "\n",
    "def show_head():\n",
    "    for (n, w) in zip(key_names, key_widths):\n",
    "        print(n.ljust(w), end='| ')\n",
    "    print()\n",
    "\n",
    "\n",
    "def show_empty():\n",
    "    for w in key_widths:\n",
    "        print(' '.ljust(w), end='| ')\n",
    "    print()\n",
    "\n",
    "\n",
    "def show_car(car):\n",
    "    for (n, w) in zip(key_names, key_widths):\n",
    "        print(str(car[n]).ljust(w), end='| ')\n",
    "    print()\n",
    "\n",
    "\n",
    "def show(json):\n",
    "    show_head()\n",
    "    if type(json) is list:\n",
    "        for car in json:\n",
    "            show_car(car)\n",
    "    elif type(json) is dict:\n",
    "        if json:\n",
    "            show_car(json)\n",
    "        else:\n",
    "            show_empty()\n",
    "\n",
    "\n",
    "headers = {'Connection': 'Close'}\n",
    "try:\n",
    "    reply = requests.delete('http://localhost:3000/cars/1') # delete() – note the URI which describes the item to delete;\n",
    "    print(\"res=\" + str(reply.status_code))\n",
    "    reply = requests.get('http://localhost:3000/cars/', headers=headers)\n",
    "except requests.RequestException:\n",
    "    print('Communication error')\n",
    "else:\n",
    "    print('Connection=' + reply.headers['Connection'])\n",
    "    if reply.status_code == requests.codes.ok:\n",
    "        show(reply.json())\n",
    "    elif reply.status_code == requests.codes.not_found:\n",
    "        print(\"Resource not found\")\n",
    "    else:\n",
    "        print('Server error')\n"
   ]
  },
  {
   "cell_type": "code",
   "execution_count": 22,
   "id": "a1df06b9",
   "metadata": {},
   "outputs": [
    {
     "name": "stdout",
     "output_type": "stream",
     "text": [
      "{\"id\": 7, \"brand\": \"Porsche\", \"model\": \"911\", \"production_year\": 1963, \"convertible\": false}\n",
      "reply=500\n",
      "Connection=close\n",
      "id        | brand          | model     | production_year     | convertible    | \n",
      "2         | Chevrolet      | Camaro    | 1988                | True           | \n",
      "3         | Aston Martin   | Rapide    | 2010                | False          | \n",
      "4         | Maserati       | Mexico    | 1970                | False          | \n",
      "5         | Nissan         | Fairlady  | 1974                | False          | \n",
      "6         | Mercedes Benz  | 300SL     | 1967                | True           | \n",
      "7         | Porsche        | 911       | 1963                | False          | \n"
     ]
    }
   ],
   "source": [
    "# Let's add a new car to our offer. POST\n",
    "import json\n",
    "import requests\n",
    "\n",
    "key_names = [\"id\", \"brand\", \"model\", \"production_year\", \"convertible\"]\n",
    "key_widths = [10, 15, 10, 20, 15]\n",
    "\n",
    "\n",
    "def show_head():\n",
    "    for (n, w) in zip(key_names, key_widths):\n",
    "        print(n.ljust(w), end='| ')\n",
    "    print()\n",
    "\n",
    "\n",
    "def show_empty():\n",
    "    for w in key_widths:\n",
    "        print(' '.ljust(w), end='| ')\n",
    "    print()\n",
    "\n",
    "\n",
    "def show_car(car):\n",
    "    for (n, w) in zip(key_names, key_widths):\n",
    "        print(str(car[n]).ljust(w), end='| ')\n",
    "    print()\n",
    "\n",
    "\n",
    "def show(json):\n",
    "    show_head()\n",
    "    if type(json) is list:\n",
    "        for car in json:\n",
    "            show_car(car)\n",
    "    elif type(json) is dict:\n",
    "        if json:\n",
    "            show_car(json)\n",
    "        else:\n",
    "            show_empty()\n",
    "\n",
    "\n",
    "h_close = {'Connection': 'Close'}\n",
    "h_content = {'Content-Type': 'application/json'}\n",
    "new_car = {'id': 7,\n",
    "           'brand': 'Porsche',\n",
    "           'model': '911',\n",
    "           'production_year': 1963,\n",
    "           'convertible': False} # Let's add a new car to our offer. \n",
    "print(json.dumps(new_car))\n",
    "try:\n",
    "    reply = requests.post('http://localhost:3000/cars', headers=h_content, data=json.dumps(new_car)) #POST\n",
    "    print(\"reply=\" + str(reply.status_code))\n",
    "    reply = requests.get('http://localhost:3000/cars/', headers=h_close)\n",
    "except requests.RequestException:\n",
    "    print('Communication error')\n",
    "else:\n",
    "    print('Connection=' + reply.headers['Connection'])\n",
    "    if reply.status_code == requests.codes.ok:\n",
    "        show(reply.json())\n",
    "    elif reply.status_code == requests.codes.not_found:\n",
    "        print(\"Resource not found\")\n",
    "    else:\n",
    "        print('Server error')\n"
   ]
  },
  {
   "cell_type": "code",
   "execution_count": 23,
   "id": "c8098000",
   "metadata": {},
   "outputs": [
    {
     "name": "stdout",
     "output_type": "stream",
     "text": [
      "res=200\n",
      "Connection=close\n",
      "id        | brand          | model     | production_year     | convertible    | \n",
      "2         | Chevrolet      | Camaro    | 1988                | True           | \n",
      "3         | Aston Martin   | Rapide    | 2010                | False          | \n",
      "4         | Maserati       | Mexico    | 1970                | False          | \n",
      "5         | Nissan         | Fairlady  | 1974                | False          | \n",
      "6         | Mercedes Benz  | 300SL     | 1967                | True           | \n",
      "7         | Porsche        | 911       | 1963                | False          | \n"
     ]
    }
   ],
   "source": [
    "# update car 6;  PUT()\n",
    "import requests, json\n",
    "\n",
    "key_names = [\"id\", \"brand\", \"model\", \"production_year\", \"convertible\"]\n",
    "key_widths = [10, 15, 10, 20, 15]\n",
    "\n",
    "\n",
    "def show_head():\n",
    "    for (n, w) in zip(key_names, key_widths):\n",
    "        print(n.ljust(w), end='| ')\n",
    "    print()\n",
    "\n",
    "\n",
    "def show_empty():\n",
    "    for w in key_widths:\n",
    "        print(' '.ljust(w), end='| ')\n",
    "    print()\n",
    "\n",
    "\n",
    "def show_car(car):\n",
    "    for (n, w) in zip(key_names, key_widths):\n",
    "        print(str(car[n]).ljust(w), end='| ')\n",
    "    print()\n",
    "\n",
    "\n",
    "def show(json):\n",
    "    show_head()\n",
    "    if type(json) is list:\n",
    "        for car in json:\n",
    "            show_car(car)\n",
    "    elif type(json) is dict:\n",
    "        if json:\n",
    "            show_car(json)\n",
    "        else:\n",
    "            show_empty()\n",
    "\n",
    "\n",
    "h_close = {'Connection': 'Close'}\n",
    "h_content = {'Content-Type': 'application/json'}\n",
    "car = {'id': 6,\n",
    "       'brand': 'Mercedes Benz',\n",
    "       'model': '300SL',\n",
    "       'production_year': 1967,\n",
    "       'convertible': True}\n",
    "try:\n",
    "    reply = requests.put('http://localhost:3000/cars/6', headers=h_content, data=json.dumps(car))\n",
    "    print(\"res=\" + str(reply.status_code))\n",
    "    reply = requests.get('http://localhost:3000/cars/', headers=h_close)\n",
    "except requests.RequestException:\n",
    "    print('Communication error')\n",
    "else:\n",
    "    print('Connection=' + reply.headers['Connection'])\n",
    "    if reply.status_code == requests.codes.ok:\n",
    "        show(reply.json())\n",
    "    elif reply.status_code == requests.codes.not_found:\n",
    "        print(\"Resource not found\")\n",
    "    else:\n",
    "        print('Server error')\n"
   ]
  },
  {
   "cell_type": "code",
   "execution_count": 25,
   "id": "ba9e8d40",
   "metadata": {},
   "outputs": [],
   "source": [
    "# https://edube.org/learn/pcpp1-working-with-restful-apis/http-server-availability-checker\n",
    "#sitechecker.py domainname portnumber=80\n",
    "import sys\n",
    "import socket\n",
    "\n",
    "# https://edube.org/learn/pcpp1-working-with-restful-apis/http-server-availability-checker\n",
    "#sitechecker.py domainname portnumber=80\n",
    "import sys\n",
    "import socket\n",
    "\n",
    "if len(sys.argv) not in [2, 3]:\n",
    "    print(\"Improper number of arguments: at lease one is required and not more than two are allowed:\\n- http server's address (required)\\n- port number (default to 80 if not specified)\")\n",
    "    sys.exit(1)\n",
    "elif len(sys.argv) == 3 and (not sys.argv[2].isdigit()):\n",
    "    print(\"Port number is invalid - exiting\")\n",
    "    sys.exit(1)\n",
    "else:\n",
    "    if len(sys.argv) == 3:\n",
    "        server_port = int(sys.argv[2])\n",
    "    else: \n",
    "        server_port = 80\n",
    "        \n",
    "    server_addr = sys.argv[1]\n",
    "    sock = socket.socket(socket.AF_INET, socket.SOCK_STREAM)\n",
    "    try:\n",
    "        sock.connect((server_addr, server_port))\n",
    "    except socket.error:\n",
    "        print(\"No connection could be made because the target machine actively refused it\")\n",
    "    else:\n",
    "        sock.send(b\"HEAD / HTTP/1.1\\r\\nHost: \" +\n",
    "          bytes(server_addr, \"utf8\") +\n",
    "          b\"\\r\\nConnection: close\\r\\n\\r\\n\") \n",
    "        reply = sock.recv(15)\n",
    "        print(reply.decode(\"utf-8\"))\n",
    "        sock.shutdown(socket.SHUT_RDWR)\n",
    "        sock.close()\n",
    "\n",
    " \n"
   ]
  },
  {
   "cell_type": "code",
   "execution_count": null,
   "id": "07a4e699",
   "metadata": {},
   "outputs": [],
   "source": [
    "#!/usr/bin/env python\n",
    "\n",
    "import socket\n",
    "\n",
    "with socket.socket(socket.AF_INET, socket.SOCK_STREAM) as s:\n",
    "\n",
    "    s.connect((\"webcode.me\" , 80))\n",
    "    s.sendall(b\"HEAD / HTTP/1.1\\r\\nHost: webcode.me\\r\\nAccept: text/html\\r\\n\\r\\n\")\n",
    "    print(str(s.recv(1024), 'utf-8'))"
   ]
  },
  {
   "cell_type": "code",
   "execution_count": 21,
   "id": "391922c8",
   "metadata": {},
   "outputs": [
    {
     "name": "stdout",
     "output_type": "stream",
     "text": [
      "\n",
      "    What can I do for you?\n",
      "    1 - produce a JSON string describing a vehicle\n",
      "    2 - decode a JSON string into vehicle data\n",
      "    0 - exit\n",
      "Your choice:1\n",
      "Registration number:123\n",
      "Year of productione:456\n",
      "Passenger[/n]:n\n",
      "Vehicle mass:789\n",
      "Resulting JSON string is:\n",
      " {\"registration_number\": \"123\", \"year_of_production\": \"456\", \"passenger\": false, \"mass\": \"789\"}\n",
      "\n",
      "    What can I do for you?\n",
      "    1 - produce a JSON string describing a vehicle\n",
      "    2 - decode a JSON string into vehicle data\n",
      "    0 - exit\n",
      "Your choice:0\n"
     ]
    }
   ],
   "source": [
    "# https://edube.org/learn/pcpp1-working-with-restful-apis/vehicle-data-decoder-encoder\n",
    "'''\n",
    "python 2.py\n",
    "what can I do for you?\n",
    "1 - produce a JSON string describing a vehicle\n",
    "2 - decode a JSON string into vehicle data\n",
    "Your choice : 1\n",
    "Registration number: PC38927Z\n",
    "Year of production: 2018\n",
    "Passenger [y/n]: n\n",
    "Vehicle mass: 1543.2\n",
    "Resulting JSON string is:\n",
    "{\"registration_number\": \"PC38927Z\", \"year_of_production\": 2018, \"passenger\" false, \"mass\": 1543.2}\n",
    "Done\n",
    "Your choice : 2\n",
    "Enter vehicle JSON string: {\"registration_number\": \"PC38927Z\", \"year_of_production\": 2018, \"passenger\": false, \"mass\": 1543.2}\n",
    "{'registration_number': 'PC38927Z', 'year_of_production': 2018, 'passenger': False, 'mass': 1543.2}\n",
    "\n",
    "'''\n",
    "import json\n",
    "# Write your code here.\n",
    "class Vehicle:\n",
    "    def __init__(self, registration_number, year_of_production, passenger, mass):\n",
    "        self.registration_number = registration_number\n",
    "        self.year_of_production = year_of_production\n",
    "        self.passenger = passenger\n",
    "        self.mass = mass\n",
    "# encode the Vehicle object into an equivalent JSON string;\n",
    "class MyEncoder(json.JSONEncoder):\n",
    "    def default(self, v):\n",
    "        if isinstance(v, Vehicle):\n",
    "            return v.__dict__\n",
    "        else:\n",
    "            return super().default(self, v)\n",
    "#decode the JSON string into the newly created Vehicle object.\n",
    "class MyDecoder(json.JSONDecoder):\n",
    "    def __init__(self):\n",
    "        json.JSONDecoder.__init__(self, object_hook=self.decode_vehicle)\n",
    "\n",
    "    def decode_vehicle(self, d):\n",
    "        return Vehicle(**d)\n",
    "        \n",
    "# vehicle = Vehicle('PC38927Z', 2018, False, 1543.2)\n",
    "# json_str = json.dumps(vehicle, cls=MyEncoder)\n",
    "# print(json_str)\n",
    "# new_vehicle = json.loads(json_str, cls=MyDecoder)\n",
    "# print(type(new_vehicle))\n",
    "# print(new_vehicle.__dict__)   \n",
    "\n",
    "loop = True\n",
    "while loop:\n",
    "    print('''\n",
    "    What can I do for you?\n",
    "    1 - produce a JSON string describing a vehicle\n",
    "    2 - decode a JSON string into vehicle data\n",
    "    0 - exit''')\n",
    "    select = input(\"Your choice:\") \n",
    "    if select == '1':\n",
    "        registration_number = input(\"Registration number:\") \n",
    "        year_of_production = input(\"Year of productione:\") \n",
    "        passenger = input(\"Passenger[y/n]:\") \n",
    "        passenger = True if a =='y' else False\n",
    "        mass  = input(\"Vehicle mass:\") \n",
    "        vehicle = Vehicle(registration_number, year_of_production, passenger, mass)\n",
    "        json_str = json.dumps(vehicle, cls=MyEncoder)\n",
    "        print(\"Resulting JSON string is:\\n\", json_str)\n",
    "    elif select == '2':\n",
    "        json_str = input(\"Enter vehicle JSON string: \")\n",
    "        new_vehicle = json.loads(json_str, cls=MyDecoder)\n",
    "        print(new_vehicle.__dict__)   \n",
    "    else:\n",
    "        loop = False"
   ]
  },
  {
   "cell_type": "code",
   "execution_count": null,
   "id": "673bc6d9",
   "metadata": {},
   "outputs": [],
   "source": []
  },
  {
   "cell_type": "code",
   "execution_count": null,
   "id": "87ae933d",
   "metadata": {},
   "outputs": [],
   "source": []
  },
  {
   "cell_type": "code",
   "execution_count": 87,
   "id": "8f195373",
   "metadata": {},
   "outputs": [
    {
     "name": "stdout",
     "output_type": "stream",
     "text": [
      "COMPANY                                 LAST      CHANGE    MIN       MAX       \n",
      "3M Co                                   159.696   -0.384    161.255   159.38    \n",
      "Alcoa, Inc.                             15.45     -0.1      15.59     15.15     \n",
      "American Express Co.                    132.04    0.22      132.5     131.35    \n",
      "Bank of America Corp.                   34.495    -0.115    34.65     34.38     \n",
      "Boeing Co. (The)                        344.33    7.58      345.94    336.32    \n",
      "Caterpillar Inc.                        134.075   0.705     134.3     132.78    \n",
      "Chevron Corporation                     108.86    -0.08     109.05    108.32    \n",
      "Cisco Systems, Inc.                     48.295    0.325     48.5      47.88     \n",
      "Coca-Cola Co (The)                      59.795    0.605     59.825    59.285    \n",
      "Exxon Mobil Corp.\"                      59.9522   -1.5178   60.52     59.83     \n",
      "General Electric Co                     12.865    0.035     12.97     12.77     \n",
      "Hewlett-Packard Co                      22.15     0.42      22.87     22.03     \n",
      "Home Depot Inc                          238.75    1.45      238.91    236.18    \n",
      "Intel Corporation                       65.715    -0.305    65.96     65.44     \n",
      "International Business Machines Corp.   152.61    -0.8      153.516   151.58    \n",
      "McDonald's Corp                         212.22    0.61      212.369   211.25    \n",
      "Microsoft Corporation                   187.15    3.26      187.3     183.25    \n",
      "Pfizer Inc                              37.81     -0.24     38.22     37.785    \n",
      "Travelers Companies Inc (The)           135.62    -0.39     136.27    135.14    \n",
      "United Technologies Corp.               156.62    -0.21     157.98    156.31    \n",
      "Verizon Communications Inc              59.995    0.055     60.19     59.77     \n",
      "Wal-Mart Stores, Inc.                   116.09    -0.36     116.98    115.58    \n",
      "Disney (Walt) Co. (The)                 141.6     0.58      141.76    140.46    \n"
     ]
    }
   ],
   "source": [
    "# https://edube.org/learn/pcpp1-working-with-restful-apis/new-york-stock-exchange\n",
    "import xml.etree.ElementTree\n",
    "\n",
    "data = xml.etree.ElementTree.parse('nyse.xml').getroot()\n",
    "print('{:<40}{:<10}{:<10}{:<10}{:<10}'.format('COMPANY', 'LAST', 'CHANGE', 'MIN', 'MAX') )\n",
    "for quote in data.findall('quote'):\n",
    "    lst = list(quote.attrib.values())\n",
    "    print('{:<40}{:<10}{:<10}{:<10}{:<10}'.format(quote.text, lst[0], lst[1] , lst[2], lst[3] ) )\n"
   ]
  },
  {
   "cell_type": "code",
   "execution_count": 99,
   "id": "ef5d2285",
   "metadata": {},
   "outputs": [
    {
     "name": "stdout",
     "output_type": "stream",
     "text": [
      "Port number is invalid - exiting\n"
     ]
    },
    {
     "ename": "SystemExit",
     "evalue": "1",
     "output_type": "error",
     "traceback": [
      "An exception has occurred, use %tb to see the full traceback.\n",
      "\u001b[1;31mSystemExit\u001b[0m\u001b[1;31m:\u001b[0m 1\n"
     ]
    },
    {
     "name": "stderr",
     "output_type": "stream",
     "text": [
      "C:\\Anaconda3\\lib\\site-packages\\IPython\\core\\interactiveshell.py:3259: UserWarning: To exit: use 'exit', 'quit', or Ctrl-D.\n",
      "  warn(\"To exit: use 'exit', 'quit', or Ctrl-D.\", stacklevel=1)\n"
     ]
    }
   ],
   "source": [
    "#https://edube.org/learn/pcpp1-working-with-restful-apis/server-checker-once-again\n",
    "'''Hint: use the head() method instead of get(), as you don't need the whole root document the server sends to you — the header is enough to test whether or not the server is responding. Fortunately, head() has exactly the same interface as get(). Don't forget to handle all needed exceptions — don't leave your user without any clear explanations about anything that went wrong.\n",
    "\n",
    "'''\n",
    "import sys\n",
    "import requests\n",
    "\n",
    "if len(sys.argv) not in [2, 3]:\n",
    "    print('''\n",
    "Improper number of arguments: at lease one is required and not more than two are allowed:\n",
    "- http server's address (required)\n",
    "- port number (default to 80 if not specified)''')\n",
    "    sys.exit(1)\n",
    "    \n",
    "elif len(sys.argv) == 3 and (not sys.argv[2].isdigit()):\n",
    "    print(\"Port number is invalid - exiting\")\n",
    "    sys.exit(1)\n",
    "    \n",
    "else:\n",
    "    if len(sys.argv) == 3:\n",
    "        server_port = int(sys.argv[2])\n",
    "    else: \n",
    "        server_port = 80\n",
    "        \n",
    "    server_addr = sys.argv[1]\n",
    "\n",
    "    try:\n",
    "        reply = requests.head(server_addr+':'+str(server_port))\n",
    "    except requests.exceptions.RequestException as e:  # This is the correct syntax\n",
    "        raise SystemExit(e)\n",
    "    else:\n",
    "        print(reply.status_code)\n",
    " "
   ]
  },
  {
   "cell_type": "code",
   "execution_count": 107,
   "id": "f12a9adb",
   "metadata": {},
   "outputs": [
    {
     "data": {
      "text/plain": [
       "'\\n+-----------------------------------+\\n|       Vintage Cars Database       |\\n+-----------------------------------+\\nM E N U\\n=======\\n1. List cars\\n2. Add new car\\n3. Delete car\\n4. Update car\\n0. Exit\\nEnter your choice (0..4): 1\\n*** Database is empty ***\\n+-----------------------------------+\\n|       Vintage Cars Database       |\\n+-----------------------------------+\\nM E N U\\n=======\\n1. List cars\\n2. Add new car\\n3. Delete car\\n4. Update car\\n0. Exit\\nEnter your choice (0..4): 2\\nCar ID (empty string to exit): 1\\nCar brand (empty string to exit): Porsche\\nCar model (empty string to exit): 911\\nCar production year (empty string to exit): 1963\\nIs this car convertible? [y/n] (empty string to exit): n\\n+-----------------------------------+\\n|       Vintage Cars Database       |\\n+-----------------------------------+\\nM E N U\\n=======\\n1. List cars\\n2. Add new car\\n3. Delete car\\n4. Update car\\n0. Exit\\nEnter your choice (0..4): 2\\nCar ID (empty string to exit): 2\\nCar brand (empty string to exit): Ford\\nCar model (empty string to exit): Mustang\\nCar production year (empty string to exit): 1972\\nIs this car convertible? [y/n] (empty string to exit): y\\n+-----------------------------------+\\n|       Vintage Cars Database       |\\n+-----------------------------------+\\nM E N U\\n=======\\n1. List cars\\n2. Add new car\\n3. Delete car\\n4. Update car\\n0. Exit\\nEnter your choice (0..4): 1\\nid        | brand          | model     | production_year     | convertible    | \\n1         | Porsche        | 911       | 1963                | False          | \\n2         | Ford           | Mustang   | 1972                | True           | \\n\\n+-----------------------------------+\\n|       Vintage Cars Database       |\\n+-----------------------------------+\\nM E N U\\n=======\\n1. List cars\\n2. Add new car\\n3. Delete car\\n4. Update car\\n0. Exit\\nEnter your choice (0..4):  4\\nCar ID (empty string to exit): 2\\nCar brand (empty string to exit): Ford\\nCar model (empty string to exit): Mustang\\nCar production year (empty string to exit): 1973\\nIs this car convertible? [y/n] (empty string to exit): n\\n+-----------------------------------+\\n|       Vintage Cars Database       |\\n+-----------------------------------+\\nM E N U\\n=======\\n1. List cars\\n2. Add new car\\n3. Delete car\\n4. Update car\\n0. Exit\\nEnter your choice (0..4): 3\\nCar ID (empty string to exit): 1\\nSuccess!\\nCar ID (empty string to exit): \\n+-----------------------------------+\\n|       Vintage Cars Database       |\\n+-----------------------------------+\\nM E N U\\n=======\\n1. List cars\\n2. Add new car\\n3. Delete car\\n4. Update car\\n0. Exit\\nEnter your choice (0..4): 0\\nBye!'"
      ]
     },
     "execution_count": 107,
     "metadata": {},
     "output_type": "execute_result"
    }
   ],
   "source": [
    "'''\n",
    "+-----------------------------------+\n",
    "|       Vintage Cars Database       |\n",
    "+-----------------------------------+\n",
    "M E N U\n",
    "=======\n",
    "1. List cars\n",
    "2. Add new car\n",
    "3. Delete car\n",
    "4. Update car\n",
    "0. Exit\n",
    "Enter your choice (0..4): 1\n",
    "*** Database is empty ***\n",
    "+-----------------------------------+\n",
    "|       Vintage Cars Database       |\n",
    "+-----------------------------------+\n",
    "M E N U\n",
    "=======\n",
    "1. List cars\n",
    "2. Add new car\n",
    "3. Delete car\n",
    "4. Update car\n",
    "0. Exit\n",
    "Enter your choice (0..4): 2\n",
    "Car ID (empty string to exit): 1\n",
    "Car brand (empty string to exit): Porsche\n",
    "Car model (empty string to exit): 911\n",
    "Car production year (empty string to exit): 1963\n",
    "Is this car convertible? [y/n] (empty string to exit): n\n",
    "+-----------------------------------+\n",
    "|       Vintage Cars Database       |\n",
    "+-----------------------------------+\n",
    "M E N U\n",
    "=======\n",
    "1. List cars\n",
    "2. Add new car\n",
    "3. Delete car\n",
    "4. Update car\n",
    "0. Exit\n",
    "Enter your choice (0..4): 2\n",
    "Car ID (empty string to exit): 2\n",
    "Car brand (empty string to exit): Ford\n",
    "Car model (empty string to exit): Mustang\n",
    "Car production year (empty string to exit): 1972\n",
    "Is this car convertible? [y/n] (empty string to exit): y\n",
    "+-----------------------------------+\n",
    "|       Vintage Cars Database       |\n",
    "+-----------------------------------+\n",
    "M E N U\n",
    "=======\n",
    "1. List cars\n",
    "2. Add new car\n",
    "3. Delete car\n",
    "4. Update car\n",
    "0. Exit\n",
    "Enter your choice (0..4): 1\n",
    "id        | brand          | model     | production_year     | convertible    | \n",
    "1         | Porsche        | 911       | 1963                | False          | \n",
    "2         | Ford           | Mustang   | 1972                | True           | \n",
    "\n",
    "+-----------------------------------+\n",
    "|       Vintage Cars Database       |\n",
    "+-----------------------------------+\n",
    "M E N U\n",
    "=======\n",
    "1. List cars\n",
    "2. Add new car\n",
    "3. Delete car\n",
    "4. Update car\n",
    "0. Exit\n",
    "Enter your choice (0..4):  4\n",
    "Car ID (empty string to exit): 2\n",
    "Car brand (empty string to exit): Ford\n",
    "Car model (empty string to exit): Mustang\n",
    "Car production year (empty string to exit): 1973\n",
    "Is this car convertible? [y/n] (empty string to exit): n\n",
    "+-----------------------------------+\n",
    "|       Vintage Cars Database       |\n",
    "+-----------------------------------+\n",
    "M E N U\n",
    "=======\n",
    "1. List cars\n",
    "2. Add new car\n",
    "3. Delete car\n",
    "4. Update car\n",
    "0. Exit\n",
    "Enter your choice (0..4): 3\n",
    "Car ID (empty string to exit): 1\n",
    "Success!\n",
    "Car ID (empty string to exit): \n",
    "+-----------------------------------+\n",
    "|       Vintage Cars Database       |\n",
    "+-----------------------------------+\n",
    "M E N U\n",
    "=======\n",
    "1. List cars\n",
    "2. Add new car\n",
    "3. Delete car\n",
    "4. Update car\n",
    "0. Exit\n",
    "Enter your choice (0..4): 0\n",
    "Bye!'''"
   ]
  },
  {
   "cell_type": "code",
   "execution_count": 2,
   "id": "02442710",
   "metadata": {},
   "outputs": [
    {
     "name": "stdout",
     "output_type": "stream",
     "text": [
      "Enter your choice (0..4):3\n",
      "Car ID (empty string to exit):1\n"
     ]
    }
   ],
   "source": [
    "# https://edube.org/learn/pcpp1-working-with-restful-apis/project-vintage-cars-database\n",
    "\n",
    "import requests\n",
    "import json\n",
    "\n",
    "def check_server(cid=None):\n",
    "# returns True or False;\n",
    "# when invoked without arguments simply checks if server responds;\n",
    "# invoked with car ID checks if the ID is present in the database;\n",
    "    pass\n",
    "\n",
    "def print_menu():\n",
    "    # prints user menu - nothing else happens here;\n",
    "    print('''\n",
    "+-----------------------------------+\n",
    "|       Vintage Cars Database       |\n",
    "+-----------------------------------+\n",
    "M E N U\n",
    "=======\n",
    "1. List cars\n",
    "2. Add new car\n",
    "3. Delete car\n",
    "4. Update car\n",
    "0. Exit''')\n",
    "\n",
    "def read_user_choice():\n",
    "# reads user choice and checks if it's valid;\n",
    "# returns '0', '1', '2', '3' or '4' \n",
    "    choice = input(\"Enter your choice (0..4):\")\n",
    "    return choice\n",
    "\n",
    "def print_header():\n",
    "    # prints elegant cars table header;\n",
    "    key_names = [\"id\", \"brand\", \"model\", \"production_year\", \"convertible\"]\n",
    "    key_widths = [10, 15, 10, 20, 15]\n",
    "    for (n, w) in zip(key_names, key_widths):\n",
    "        print(n.ljust(w), end='| ')\n",
    "    print()\n",
    "        \n",
    "def print_car(car):\n",
    "# prints one car's data in a way that fits the header;\n",
    "    key_names = [\"id\", \"brand\", \"model\", \"production_year\", \"convertible\"]\n",
    "    key_widths = [10, 15, 10, 20, 15]\n",
    "    for (n, w) in zip(key_names, key_widths):\n",
    "        print(str(car[n]).ljust(w), end='| ')\n",
    "    print()\n",
    "    \n",
    "def show(json):\n",
    "    print_header()\n",
    "    for car in json:\n",
    "        print_car(car)    \n",
    "        \n",
    "def list_cars():\n",
    "# gets all cars' data from server and prints it;\n",
    "# if the database is empty prints diagnostic message instead;\n",
    "    try:\n",
    "        reply = requests.get('http://localhost:3000/cars')\n",
    "    except requests.RequestException:\n",
    "        print('Communication error')\n",
    "    else:\n",
    "        if reply.status_code == requests.codes.ok:\n",
    "            show(reply.json()) # OUR SHOW FUNCTION USED HERE\n",
    "        else:\n",
    "            print('Server error')\n",
    "\n",
    "def name_is_valid(name):\n",
    "# checks if name (brand or model) is valid;\n",
    "# valid name is non-empty string containing\n",
    "# digits, letters and spaces;\n",
    "# returns True or False;\n",
    "    return True if ''.join(name.split()).isalnum() else False\n",
    "    \n",
    "def enter_id():\n",
    "# allows user to enter car's ID and checks if it's valid;\n",
    "# valid ID consists of digits only;\n",
    "# returns int or None (if user enters an empty line);\n",
    "    while True:\n",
    "        id = input(\"Car ID (empty string to exit):\")\n",
    "        if id =='':\n",
    "            return None\n",
    "        elif id.isdigit():\n",
    "            return int(id)\n",
    "        else:\n",
    "            continue\n",
    "\n",
    "def enter_production_year():\n",
    "# allows user to enter car's production year and checks if it's valid;\n",
    "# valid production year is an int from range 1900..2000;\n",
    "# returns int or None  (if user enters an empty line);\n",
    "    while True:\n",
    "        year = input(\"Car production year (empty string to exit): \")\n",
    "        if year =='':\n",
    "            return None\n",
    "        elif year.isdigit() and 1900<=int(year)<=2000:\n",
    "            return int(year)\n",
    "        else:\n",
    "            continue\n",
    "\n",
    "\n",
    "def enter_name(what):\n",
    "# allows user to enter car's name (brand or model) and checks if it's valid;\n",
    "# uses name_is_valid() to check the entered name;\n",
    "# returns string or None  (if user enters an empty line);\n",
    "# argument describes which of two names is entered currently ('brand' or 'model');   \n",
    "    if what == 'brand':\n",
    "        while True:\n",
    "            brand = input(\"Car brand (empty string to exit): \")\n",
    "            if brand =='':\n",
    "                return None\n",
    "            elif name_is_valid(brand):\n",
    "                return brand\n",
    "            else:\n",
    "                continue\n",
    "    elif what == 'model':\n",
    "        while True:\n",
    "            model = input(\"Car model (empty string to exit): \")\n",
    "            if model =='':\n",
    "                return None\n",
    "            elif name_is_valid(model):\n",
    "                return model\n",
    "            else:\n",
    "                continue        \n",
    "    else:\n",
    "        Print(\"Wrong agument\")\n",
    "\n",
    "def enter_convertible():\n",
    "# allows user to enter Yes/No answer determining if the car is convertible;\n",
    "# returns True, False or None  (if user enters an empty line);\n",
    "    while True:\n",
    "        convertible = input(\"Is this car convertible? [y/n] (empty string to exit): \")\n",
    "        if convertible =='':\n",
    "            return None\n",
    "        elif convertible.lower == 'yes' or convertible.lower == 'y':\n",
    "            return True\n",
    "        elif convertible.lower == 'no' or convertible.lower == 'n':\n",
    "            return False\n",
    "        else:\n",
    "            continue\n",
    "\n",
    "def delete_car():\n",
    "# asks user for car's ID and tries to delete it from database;\n",
    "    id = enter_id()\n",
    "    \n",
    "    headers = {'Connection': 'Close'}\n",
    "    try:\n",
    "        reply = requests.delete('http://localhost:3000/cars/id') # delete() – note the URI which describes the item to delete;\n",
    "        print(\"res=\" + str(reply.status_code))\n",
    "        reply = requests.get('http://localhost:3000/cars/', headers=headers)\n",
    "    except requests.RequestException:\n",
    "        print('Communication error')\n",
    "    else:\n",
    "        print('Connection=' + reply.headers['Connection'])\n",
    "        if reply.status_code == requests.codes.ok:\n",
    "            show(reply.json())\n",
    "        elif reply.status_code == requests.codes.not_found:\n",
    "            print(\"Resource not found\")\n",
    "        else:\n",
    "            print('Server error')\n",
    "\n",
    "def input_car_data(with_id):\n",
    "# lets user enter car data;\n",
    "# argument determines if the car's ID is entered (True) or not (False);\n",
    "# returns None if user cancels the operation or a dictionary of the following structure:\n",
    "# {'id': int, 'brand': str, 'model': str, 'production_year': int, 'convertible': bool }\n",
    "    pass\n",
    "\n",
    "\n",
    "def add_car():\n",
    "# invokes input_car_data(True) to gather car's info and adds it to the database;\n",
    "    pass\n",
    "\n",
    "def update_car():\n",
    "# invokes enter_id() to get car's ID if the ID is present in the database;\n",
    "# invokes input_car_data(False) to gather new car's info and updates the database;\n",
    "    pass\n",
    "\n",
    "while True:\n",
    "    if not check_server():\n",
    "        print(\"Server is not responding - quitting!\")\n",
    "        exit(1)\n",
    "    print_menu()\n",
    "    choice = read_user_choice()\n",
    "    if choice == '0':\n",
    "        print(\"Bye!\")\n",
    "        exit(0)\n",
    "        break\n",
    "    elif choice == '1':\n",
    "        list_cars()\n",
    "    elif choice == '2':\n",
    "        add_car()\n",
    "    elif choice == '3':\n",
    "        delete_car()\n",
    "    elif choice == '4':\n",
    "        update_car()\n",
    "\n",
    "    \n",
    "    \n",
    "    \n",
    "    \n",
    "    \n",
    "    \n",
    "    \n",
    "    \n",
    "    \n",
    "    \n",
    "    "
   ]
  },
  {
   "cell_type": "code",
   "execution_count": null,
   "id": "e83b382b",
   "metadata": {},
   "outputs": [],
   "source": []
  },
  {
   "cell_type": "code",
   "execution_count": null,
   "id": "d5805162",
   "metadata": {},
   "outputs": [],
   "source": []
  },
  {
   "cell_type": "code",
   "execution_count": 3,
   "id": "5704aed1",
   "metadata": {},
   "outputs": [
    {
     "name": "stdout",
     "output_type": "stream",
     "text": [
      "id\n",
      "\n"
     ]
    },
    {
     "data": {
      "text/plain": [
       "False"
      ]
     },
     "execution_count": 3,
     "metadata": {},
     "output_type": "execute_result"
    }
   ],
   "source": [
    "id=input('id')\n",
    "print(id)\n",
    "id.isdigit()"
   ]
  },
  {
   "cell_type": "code",
   "execution_count": 6,
   "id": "4dfde796",
   "metadata": {},
   "outputs": [
    {
     "name": "stdout",
     "output_type": "stream",
     "text": [
      "Car ID (empty string to exit):nn\n",
      "Car ID (empty string to exit):/\n"
     ]
    },
    {
     "ename": "KeyboardInterrupt",
     "evalue": "Interrupted by user",
     "output_type": "error",
     "traceback": [
      "\u001b[1;31m---------------------------------------------------------------------------\u001b[0m",
      "\u001b[1;31mKeyboardInterrupt\u001b[0m                         Traceback (most recent call last)",
      "Input \u001b[1;32mIn [6]\u001b[0m, in \u001b[0;36m<module>\u001b[1;34m\u001b[0m\n\u001b[0;32m     12\u001b[0m         \u001b[38;5;28;01melse\u001b[39;00m:\n\u001b[0;32m     13\u001b[0m             \u001b[38;5;28;01mcontinue\u001b[39;00m\n\u001b[1;32m---> 14\u001b[0m \u001b[43menter_id\u001b[49m\u001b[43m(\u001b[49m\u001b[43m)\u001b[49m\n",
      "Input \u001b[1;32mIn [6]\u001b[0m, in \u001b[0;36menter_id\u001b[1;34m()\u001b[0m\n\u001b[0;32m      5\u001b[0m \u001b[38;5;28mid\u001b[39m \u001b[38;5;241m=\u001b[39m \u001b[38;5;124m'\u001b[39m\u001b[38;5;124mid\u001b[39m\u001b[38;5;124m'\u001b[39m\n\u001b[0;32m      6\u001b[0m \u001b[38;5;28;01mwhile\u001b[39;00m \u001b[38;5;28;01mTrue\u001b[39;00m:\n\u001b[1;32m----> 7\u001b[0m     \u001b[38;5;28mid\u001b[39m \u001b[38;5;241m=\u001b[39m (\u001b[38;5;28;43minput\u001b[39;49m\u001b[43m(\u001b[49m\u001b[38;5;124;43m\"\u001b[39;49m\u001b[38;5;124;43mCar ID (empty string to exit):\u001b[39;49m\u001b[38;5;124;43m\"\u001b[39;49m\u001b[43m)\u001b[49m)\n\u001b[0;32m      8\u001b[0m     \u001b[38;5;28;01mif\u001b[39;00m \u001b[38;5;28mid\u001b[39m \u001b[38;5;241m==\u001b[39m\u001b[38;5;124m'\u001b[39m\u001b[38;5;124m'\u001b[39m:\n\u001b[0;32m      9\u001b[0m         \u001b[38;5;28;01mreturn\u001b[39;00m \u001b[38;5;28;01mNone\u001b[39;00m\n",
      "File \u001b[1;32mC:\\Anaconda3\\lib\\site-packages\\ipykernel\\kernelbase.py:1075\u001b[0m, in \u001b[0;36mKernel.raw_input\u001b[1;34m(self, prompt)\u001b[0m\n\u001b[0;32m   1071\u001b[0m \u001b[38;5;28;01mif\u001b[39;00m \u001b[38;5;129;01mnot\u001b[39;00m \u001b[38;5;28mself\u001b[39m\u001b[38;5;241m.\u001b[39m_allow_stdin:\n\u001b[0;32m   1072\u001b[0m     \u001b[38;5;28;01mraise\u001b[39;00m StdinNotImplementedError(\n\u001b[0;32m   1073\u001b[0m         \u001b[38;5;124m\"\u001b[39m\u001b[38;5;124mraw_input was called, but this frontend does not support input requests.\u001b[39m\u001b[38;5;124m\"\u001b[39m\n\u001b[0;32m   1074\u001b[0m     )\n\u001b[1;32m-> 1075\u001b[0m \u001b[38;5;28;01mreturn\u001b[39;00m \u001b[38;5;28;43mself\u001b[39;49m\u001b[38;5;241;43m.\u001b[39;49m\u001b[43m_input_request\u001b[49m\u001b[43m(\u001b[49m\n\u001b[0;32m   1076\u001b[0m \u001b[43m    \u001b[49m\u001b[38;5;28;43mstr\u001b[39;49m\u001b[43m(\u001b[49m\u001b[43mprompt\u001b[49m\u001b[43m)\u001b[49m\u001b[43m,\u001b[49m\n\u001b[0;32m   1077\u001b[0m \u001b[43m    \u001b[49m\u001b[38;5;28;43mself\u001b[39;49m\u001b[38;5;241;43m.\u001b[39;49m\u001b[43m_parent_ident\u001b[49m\u001b[43m[\u001b[49m\u001b[38;5;124;43m\"\u001b[39;49m\u001b[38;5;124;43mshell\u001b[39;49m\u001b[38;5;124;43m\"\u001b[39;49m\u001b[43m]\u001b[49m\u001b[43m,\u001b[49m\n\u001b[0;32m   1078\u001b[0m \u001b[43m    \u001b[49m\u001b[38;5;28;43mself\u001b[39;49m\u001b[38;5;241;43m.\u001b[39;49m\u001b[43mget_parent\u001b[49m\u001b[43m(\u001b[49m\u001b[38;5;124;43m\"\u001b[39;49m\u001b[38;5;124;43mshell\u001b[39;49m\u001b[38;5;124;43m\"\u001b[39;49m\u001b[43m)\u001b[49m\u001b[43m,\u001b[49m\n\u001b[0;32m   1079\u001b[0m \u001b[43m    \u001b[49m\u001b[43mpassword\u001b[49m\u001b[38;5;241;43m=\u001b[39;49m\u001b[38;5;28;43;01mFalse\u001b[39;49;00m\u001b[43m,\u001b[49m\n\u001b[0;32m   1080\u001b[0m \u001b[43m\u001b[49m\u001b[43m)\u001b[49m\n",
      "File \u001b[1;32mC:\\Anaconda3\\lib\\site-packages\\ipykernel\\kernelbase.py:1120\u001b[0m, in \u001b[0;36mKernel._input_request\u001b[1;34m(self, prompt, ident, parent, password)\u001b[0m\n\u001b[0;32m   1117\u001b[0m             \u001b[38;5;28;01mbreak\u001b[39;00m\n\u001b[0;32m   1118\u001b[0m \u001b[38;5;28;01mexcept\u001b[39;00m \u001b[38;5;167;01mKeyboardInterrupt\u001b[39;00m:\n\u001b[0;32m   1119\u001b[0m     \u001b[38;5;66;03m# re-raise KeyboardInterrupt, to truncate traceback\u001b[39;00m\n\u001b[1;32m-> 1120\u001b[0m     \u001b[38;5;28;01mraise\u001b[39;00m \u001b[38;5;167;01mKeyboardInterrupt\u001b[39;00m(\u001b[38;5;124m\"\u001b[39m\u001b[38;5;124mInterrupted by user\u001b[39m\u001b[38;5;124m\"\u001b[39m) \u001b[38;5;28;01mfrom\u001b[39;00m \u001b[38;5;28mNone\u001b[39m\n\u001b[0;32m   1121\u001b[0m \u001b[38;5;28;01mexcept\u001b[39;00m \u001b[38;5;167;01mException\u001b[39;00m:\n\u001b[0;32m   1122\u001b[0m     \u001b[38;5;28mself\u001b[39m\u001b[38;5;241m.\u001b[39mlog\u001b[38;5;241m.\u001b[39mwarning(\u001b[38;5;124m\"\u001b[39m\u001b[38;5;124mInvalid Message:\u001b[39m\u001b[38;5;124m\"\u001b[39m, exc_info\u001b[38;5;241m=\u001b[39m\u001b[38;5;28;01mTrue\u001b[39;00m)\n",
      "\u001b[1;31mKeyboardInterrupt\u001b[0m: Interrupted by user"
     ]
    }
   ],
   "source": [
    "def enter_id():\n",
    "# allows user to enter car's ID and checks if it's valid;\n",
    "# valid ID consists of digits only;\n",
    "# returns int or None (if user enters an empty line);\n",
    "    id = 'id'\n",
    "    while True:\n",
    "        id = (input(\"Car ID (empty string to exit):\"))\n",
    "        if id =='':\n",
    "            return None\n",
    "        elif id.isdigit():\n",
    "            return int(id)\n",
    "        else:\n",
    "            continue\n",
    "enter_id()"
   ]
  },
  {
   "cell_type": "code",
   "execution_count": 23,
   "id": "d38c2247",
   "metadata": {},
   "outputs": [
    {
     "name": "stdout",
     "output_type": "stream",
     "text": [
      "Car production year (empty string to exit): 1234\n",
      "Car production year (empty string to exit): 2222\n",
      "Car production year (empty string to exit): lp\n",
      "Car production year (empty string to exit): 1999\n"
     ]
    },
    {
     "data": {
      "text/plain": [
       "1999"
      ]
     },
     "execution_count": 23,
     "metadata": {},
     "output_type": "execute_result"
    }
   ],
   "source": [
    "def enter_production_year():\n",
    "# allows user to enter car's production year and checks if it's valid;\n",
    "# valid production year is an int from range 1900..2000;\n",
    "# returns int or None  (if user enters an empty line);\n",
    "    while True:\n",
    "        year = input(\"Car production year (empty string to exit): \")\n",
    "        if year =='':\n",
    "            return None\n",
    "        elif year.isdigit() and 1900<=int(year)<=2000:\n",
    "            return int(year)\n",
    "        else:\n",
    "            continue\n",
    "\n",
    "\n",
    "enter_production_year()"
   ]
  },
  {
   "cell_type": "code",
   "execution_count": 25,
   "id": "989f1c40",
   "metadata": {},
   "outputs": [
    {
     "data": {
      "text/plain": [
       "False"
      ]
     },
     "execution_count": 25,
     "metadata": {},
     "output_type": "execute_result"
    }
   ],
   "source": [
    "def name_is_valid(name):\n",
    "# checks if name (brand or model) is valid;\n",
    "# valid name is non-empty string containing\n",
    "# digits, letters and spaces;\n",
    "# returns True or False;\n",
    "    return True if ''.join(name.split()).isalnum() else False\n",
    "\n",
    "name_is_valid('')"
   ]
  },
  {
   "cell_type": "code",
   "execution_count": 29,
   "id": "3191ac7e",
   "metadata": {},
   "outputs": [
    {
     "name": "stdout",
     "output_type": "stream",
     "text": [
      "Car model (empty string to exit): as 123\n"
     ]
    },
    {
     "data": {
      "text/plain": [
       "'as 123'"
      ]
     },
     "execution_count": 29,
     "metadata": {},
     "output_type": "execute_result"
    }
   ],
   "source": [
    "def enter_name(what):\n",
    "# allows user to enter car's name (brand or model) and checks if it's valid;\n",
    "# uses name_is_valid() to check the entered name;\n",
    "# returns string or None  (if user enters an empty line);\n",
    "# argument describes which of two names is entered currently ('brand' or 'model');   \n",
    "    if what == 'brand':\n",
    "        while True:\n",
    "            brand = input(\"Car brand (empty string to exit): \")\n",
    "            if brand =='':\n",
    "                return None\n",
    "            elif name_is_valid(brand):\n",
    "                return brand\n",
    "            else:\n",
    "                continue\n",
    "    elif what == 'model':\n",
    "        while True:\n",
    "            brand = input(\"Car model (empty string to exit): \")\n",
    "            if brand =='':\n",
    "                return None\n",
    "            elif name_is_valid(brand):\n",
    "                return brand\n",
    "            else:\n",
    "                continue        \n",
    "    else:\n",
    "        Print(\"Wrong agument\")\n",
    "what='model'\n",
    "enter_name(what)"
   ]
  }
 ],
 "metadata": {
  "kernelspec": {
   "display_name": "Python 3 (ipykernel)",
   "language": "python",
   "name": "python3"
  },
  "language_info": {
   "codemirror_mode": {
    "name": "ipython",
    "version": 3
   },
   "file_extension": ".py",
   "mimetype": "text/x-python",
   "name": "python",
   "nbconvert_exporter": "python",
   "pygments_lexer": "ipython3",
   "version": "3.9.7"
  }
 },
 "nbformat": 4,
 "nbformat_minor": 5
}
